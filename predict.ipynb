{
 "cells": [
  {
   "cell_type": "markdown",
   "metadata": {},
   "source": [
    "# 1. Import and Install Dependencies"
   ]
  },
  {
   "cell_type": "code",
   "execution_count": 1,
   "metadata": {},
   "outputs": [
    {
     "name": "stderr",
     "output_type": "stream",
     "text": [
      "2024-03-23 19:35:45.353625: I tensorflow/core/platform/cpu_feature_guard.cc:182] This TensorFlow binary is optimized to use available CPU instructions in performance-critical operations.\n",
      "To enable the following instructions: AVX2 FMA, in other operations, rebuild TensorFlow with the appropriate compiler flags.\n"
     ]
    }
   ],
   "source": [
    "import cv2\n",
    "import numpy as np\n",
    "import os\n",
    "from matplotlib import pyplot as plt\n",
    "import time\n",
    "import mediapipe as mp"
   ]
  },
  {
   "cell_type": "markdown",
   "metadata": {},
   "source": [
    "# 2. Keypoints using MP Holistic"
   ]
  },
  {
   "cell_type": "code",
   "execution_count": 2,
   "metadata": {},
   "outputs": [],
   "source": [
    "mp_holistic = mp.solutions.holistic # Holistic model\n",
    "mp_drawing = mp.solutions.drawing_utils # Drawing utilities"
   ]
  },
  {
   "cell_type": "code",
   "execution_count": 3,
   "metadata": {},
   "outputs": [],
   "source": [
    "def mediapipe_detection(image, model):\n",
    "    image = cv2.cvtColor(image, cv2.COLOR_BGR2RGB) # COLOR CONVERSION BGR 2 RGB\n",
    "    image.flags.writeable = False                  # Image is no longer writeable\n",
    "    results = model.process(image)                 # Make prediction\n",
    "    image.flags.writeable = True                   # Image is now writeable \n",
    "    image = cv2.cvtColor(image, cv2.COLOR_RGB2BGR) # COLOR COVERSION RGB 2 BGR\n",
    "    return image, results"
   ]
  },
  {
   "cell_type": "code",
   "execution_count": 4,
   "metadata": {},
   "outputs": [],
   "source": [
    "def draw_landmarks(image, results):\n",
    "    mp_drawing.draw_landmarks(image, results.face_landmarks, mp_holistic.FACEMESH_TESSELATION) # Draw face connections\n",
    "    mp_drawing.draw_landmarks(image, results.pose_landmarks, mp_holistic.POSE_CONNECTIONS) # Draw pose connections\n",
    "    mp_drawing.draw_landmarks(image, results.left_hand_landmarks, mp_holistic.HAND_CONNECTIONS) # Draw left hand connections\n",
    "    mp_drawing.draw_landmarks(image, results.right_hand_landmarks, mp_holistic.HAND_CONNECTIONS) # Draw right hand connections"
   ]
  },
  {
   "cell_type": "code",
   "execution_count": 5,
   "metadata": {},
   "outputs": [],
   "source": [
    "def draw_styled_landmarks(image, results):\n",
    "    # Draw face connections\n",
    "    mp_drawing.draw_landmarks(image, results.face_landmarks, mp_holistic.FACEMESH_TESSELATION, \n",
    "                             mp_drawing.DrawingSpec(color=(80,110,10), thickness=1, circle_radius=1), \n",
    "                             mp_drawing.DrawingSpec(color=(80,256,121), thickness=1, circle_radius=1)\n",
    "                             ) \n",
    "    # Draw pose connections\n",
    "    mp_drawing.draw_landmarks(image, results.pose_landmarks, mp_holistic.POSE_CONNECTIONS,\n",
    "                             mp_drawing.DrawingSpec(color=(80,22,10), thickness=2, circle_radius=4), \n",
    "                             mp_drawing.DrawingSpec(color=(80,44,121), thickness=2, circle_radius=2)\n",
    "                             ) \n",
    "    # Draw left hand connections\n",
    "    mp_drawing.draw_landmarks(image, results.left_hand_landmarks, mp_holistic.HAND_CONNECTIONS, \n",
    "                             mp_drawing.DrawingSpec(color=(121,22,76), thickness=2, circle_radius=4), \n",
    "                             mp_drawing.DrawingSpec(color=(121,44,250), thickness=2, circle_radius=2)\n",
    "                             ) \n",
    "    # Draw right hand connections  \n",
    "    mp_drawing.draw_landmarks(image, results.right_hand_landmarks, mp_holistic.HAND_CONNECTIONS, \n",
    "                             mp_drawing.DrawingSpec(color=(245,117,66), thickness=2, circle_radius=4), \n",
    "                             mp_drawing.DrawingSpec(color=(245,66,230), thickness=2, circle_radius=2)\n",
    "                             ) "
   ]
  },
  {
   "cell_type": "code",
   "execution_count": 6,
   "metadata": {
    "collapsed": true
   },
   "outputs": [
    {
     "name": "stderr",
     "output_type": "stream",
     "text": [
      "WARNING: All log messages before absl::InitializeLog() is called are written to STDERR\n",
      "I0000 00:00:1711211775.067442       1 gl_context.cc:344] GL version: 2.1 (2.1 INTEL-20.2.44), renderer: Intel(R) UHD Graphics 617\n",
      "INFO: Created TensorFlow Lite XNNPACK delegate for CPU.\n"
     ]
    },
    {
     "name": "stdout",
     "output_type": "stream",
     "text": [
      "<class 'mediapipe.python.solution_base.SolutionOutputs'>\n",
      "<class 'mediapipe.python.solution_base.SolutionOutputs'>\n",
      "<class 'mediapipe.python.solution_base.SolutionOutputs'>\n",
      "<class 'mediapipe.python.solution_base.SolutionOutputs'>\n",
      "<class 'mediapipe.python.solution_base.SolutionOutputs'>\n",
      "<class 'mediapipe.python.solution_base.SolutionOutputs'>\n",
      "<class 'mediapipe.python.solution_base.SolutionOutputs'>\n",
      "<class 'mediapipe.python.solution_base.SolutionOutputs'>\n",
      "<class 'mediapipe.python.solution_base.SolutionOutputs'>\n",
      "<class 'mediapipe.python.solution_base.SolutionOutputs'>\n",
      "<class 'mediapipe.python.solution_base.SolutionOutputs'>\n",
      "<class 'mediapipe.python.solution_base.SolutionOutputs'>\n",
      "<class 'mediapipe.python.solution_base.SolutionOutputs'>\n",
      "<class 'mediapipe.python.solution_base.SolutionOutputs'>\n",
      "<class 'mediapipe.python.solution_base.SolutionOutputs'>\n",
      "<class 'mediapipe.python.solution_base.SolutionOutputs'>\n",
      "<class 'mediapipe.python.solution_base.SolutionOutputs'>\n",
      "<class 'mediapipe.python.solution_base.SolutionOutputs'>\n",
      "<class 'mediapipe.python.solution_base.SolutionOutputs'>\n",
      "<class 'mediapipe.python.solution_base.SolutionOutputs'>\n",
      "<class 'mediapipe.python.solution_base.SolutionOutputs'>\n",
      "<class 'mediapipe.python.solution_base.SolutionOutputs'>\n",
      "<class 'mediapipe.python.solution_base.SolutionOutputs'>\n",
      "<class 'mediapipe.python.solution_base.SolutionOutputs'>\n",
      "<class 'mediapipe.python.solution_base.SolutionOutputs'>\n",
      "<class 'mediapipe.python.solution_base.SolutionOutputs'>\n",
      "<class 'mediapipe.python.solution_base.SolutionOutputs'>\n",
      "<class 'mediapipe.python.solution_base.SolutionOutputs'>\n",
      "<class 'mediapipe.python.solution_base.SolutionOutputs'>\n",
      "<class 'mediapipe.python.solution_base.SolutionOutputs'>\n",
      "<class 'mediapipe.python.solution_base.SolutionOutputs'>\n",
      "<class 'mediapipe.python.solution_base.SolutionOutputs'>\n",
      "<class 'mediapipe.python.solution_base.SolutionOutputs'>\n",
      "<class 'mediapipe.python.solution_base.SolutionOutputs'>\n",
      "<class 'mediapipe.python.solution_base.SolutionOutputs'>\n",
      "<class 'mediapipe.python.solution_base.SolutionOutputs'>\n",
      "<class 'mediapipe.python.solution_base.SolutionOutputs'>\n",
      "<class 'mediapipe.python.solution_base.SolutionOutputs'>\n",
      "<class 'mediapipe.python.solution_base.SolutionOutputs'>\n",
      "<class 'mediapipe.python.solution_base.SolutionOutputs'>\n",
      "<class 'mediapipe.python.solution_base.SolutionOutputs'>\n",
      "<class 'mediapipe.python.solution_base.SolutionOutputs'>\n",
      "<class 'mediapipe.python.solution_base.SolutionOutputs'>\n",
      "<class 'mediapipe.python.solution_base.SolutionOutputs'>\n",
      "<class 'mediapipe.python.solution_base.SolutionOutputs'>\n",
      "<class 'mediapipe.python.solution_base.SolutionOutputs'>\n",
      "<class 'mediapipe.python.solution_base.SolutionOutputs'>\n",
      "<class 'mediapipe.python.solution_base.SolutionOutputs'>\n",
      "<class 'mediapipe.python.solution_base.SolutionOutputs'>\n",
      "<class 'mediapipe.python.solution_base.SolutionOutputs'>\n",
      "<class 'mediapipe.python.solution_base.SolutionOutputs'>\n",
      "<class 'mediapipe.python.solution_base.SolutionOutputs'>\n",
      "<class 'mediapipe.python.solution_base.SolutionOutputs'>\n",
      "<class 'mediapipe.python.solution_base.SolutionOutputs'>\n",
      "<class 'mediapipe.python.solution_base.SolutionOutputs'>\n",
      "<class 'mediapipe.python.solution_base.SolutionOutputs'>\n",
      "<class 'mediapipe.python.solution_base.SolutionOutputs'>\n",
      "<class 'mediapipe.python.solution_base.SolutionOutputs'>\n",
      "<class 'mediapipe.python.solution_base.SolutionOutputs'>\n",
      "<class 'mediapipe.python.solution_base.SolutionOutputs'>\n",
      "<class 'mediapipe.python.solution_base.SolutionOutputs'>\n"
     ]
    },
    {
     "ename": "KeyboardInterrupt",
     "evalue": "",
     "output_type": "error",
     "traceback": [
      "\u001b[0;31m---------------------------------------------------------------------------\u001b[0m",
      "\u001b[0;31mKeyboardInterrupt\u001b[0m                         Traceback (most recent call last)",
      "Cell \u001b[0;32mIn[6], line 14\u001b[0m\n\u001b[1;32m     11\u001b[0m \u001b[38;5;28mprint\u001b[39m(results)\n\u001b[1;32m     13\u001b[0m \u001b[38;5;66;03m# Draw landmarks\u001b[39;00m\n\u001b[0;32m---> 14\u001b[0m \u001b[43mdraw_styled_landmarks\u001b[49m\u001b[43m(\u001b[49m\u001b[43mimage\u001b[49m\u001b[43m,\u001b[49m\u001b[43m \u001b[49m\u001b[43mresults\u001b[49m\u001b[43m)\u001b[49m\n\u001b[1;32m     16\u001b[0m \u001b[38;5;66;03m# Show to screen\u001b[39;00m\n\u001b[1;32m     17\u001b[0m cv2\u001b[38;5;241m.\u001b[39mimshow(\u001b[38;5;124m'\u001b[39m\u001b[38;5;124mOpenCV Feed\u001b[39m\u001b[38;5;124m'\u001b[39m, image)\n",
      "Cell \u001b[0;32mIn[5], line 3\u001b[0m, in \u001b[0;36mdraw_styled_landmarks\u001b[0;34m(image, results)\u001b[0m\n\u001b[1;32m      1\u001b[0m \u001b[38;5;28;01mdef\u001b[39;00m \u001b[38;5;21mdraw_styled_landmarks\u001b[39m(image, results):\n\u001b[1;32m      2\u001b[0m     \u001b[38;5;66;03m# Draw face connections\u001b[39;00m\n\u001b[0;32m----> 3\u001b[0m     \u001b[43mmp_drawing\u001b[49m\u001b[38;5;241;43m.\u001b[39;49m\u001b[43mdraw_landmarks\u001b[49m\u001b[43m(\u001b[49m\u001b[43mimage\u001b[49m\u001b[43m,\u001b[49m\u001b[43m \u001b[49m\u001b[43mresults\u001b[49m\u001b[38;5;241;43m.\u001b[39;49m\u001b[43mface_landmarks\u001b[49m\u001b[43m,\u001b[49m\u001b[43m \u001b[49m\u001b[43mmp_holistic\u001b[49m\u001b[38;5;241;43m.\u001b[39;49m\u001b[43mFACEMESH_TESSELATION\u001b[49m\u001b[43m,\u001b[49m\u001b[43m \u001b[49m\n\u001b[1;32m      4\u001b[0m \u001b[43m                             \u001b[49m\u001b[43mmp_drawing\u001b[49m\u001b[38;5;241;43m.\u001b[39;49m\u001b[43mDrawingSpec\u001b[49m\u001b[43m(\u001b[49m\u001b[43mcolor\u001b[49m\u001b[38;5;241;43m=\u001b[39;49m\u001b[43m(\u001b[49m\u001b[38;5;241;43m80\u001b[39;49m\u001b[43m,\u001b[49m\u001b[38;5;241;43m110\u001b[39;49m\u001b[43m,\u001b[49m\u001b[38;5;241;43m10\u001b[39;49m\u001b[43m)\u001b[49m\u001b[43m,\u001b[49m\u001b[43m \u001b[49m\u001b[43mthickness\u001b[49m\u001b[38;5;241;43m=\u001b[39;49m\u001b[38;5;241;43m1\u001b[39;49m\u001b[43m,\u001b[49m\u001b[43m \u001b[49m\u001b[43mcircle_radius\u001b[49m\u001b[38;5;241;43m=\u001b[39;49m\u001b[38;5;241;43m1\u001b[39;49m\u001b[43m)\u001b[49m\u001b[43m,\u001b[49m\u001b[43m \u001b[49m\n\u001b[1;32m      5\u001b[0m \u001b[43m                             \u001b[49m\u001b[43mmp_drawing\u001b[49m\u001b[38;5;241;43m.\u001b[39;49m\u001b[43mDrawingSpec\u001b[49m\u001b[43m(\u001b[49m\u001b[43mcolor\u001b[49m\u001b[38;5;241;43m=\u001b[39;49m\u001b[43m(\u001b[49m\u001b[38;5;241;43m80\u001b[39;49m\u001b[43m,\u001b[49m\u001b[38;5;241;43m256\u001b[39;49m\u001b[43m,\u001b[49m\u001b[38;5;241;43m121\u001b[39;49m\u001b[43m)\u001b[49m\u001b[43m,\u001b[49m\u001b[43m \u001b[49m\u001b[43mthickness\u001b[49m\u001b[38;5;241;43m=\u001b[39;49m\u001b[38;5;241;43m1\u001b[39;49m\u001b[43m,\u001b[49m\u001b[43m \u001b[49m\u001b[43mcircle_radius\u001b[49m\u001b[38;5;241;43m=\u001b[39;49m\u001b[38;5;241;43m1\u001b[39;49m\u001b[43m)\u001b[49m\n\u001b[1;32m      6\u001b[0m \u001b[43m                             \u001b[49m\u001b[43m)\u001b[49m \n\u001b[1;32m      7\u001b[0m     \u001b[38;5;66;03m# Draw pose connections\u001b[39;00m\n\u001b[1;32m      8\u001b[0m     mp_drawing\u001b[38;5;241m.\u001b[39mdraw_landmarks(image, results\u001b[38;5;241m.\u001b[39mpose_landmarks, mp_holistic\u001b[38;5;241m.\u001b[39mPOSE_CONNECTIONS,\n\u001b[1;32m      9\u001b[0m                              mp_drawing\u001b[38;5;241m.\u001b[39mDrawingSpec(color\u001b[38;5;241m=\u001b[39m(\u001b[38;5;241m80\u001b[39m,\u001b[38;5;241m22\u001b[39m,\u001b[38;5;241m10\u001b[39m), thickness\u001b[38;5;241m=\u001b[39m\u001b[38;5;241m2\u001b[39m, circle_radius\u001b[38;5;241m=\u001b[39m\u001b[38;5;241m4\u001b[39m), \n\u001b[1;32m     10\u001b[0m                              mp_drawing\u001b[38;5;241m.\u001b[39mDrawingSpec(color\u001b[38;5;241m=\u001b[39m(\u001b[38;5;241m80\u001b[39m,\u001b[38;5;241m44\u001b[39m,\u001b[38;5;241m121\u001b[39m), thickness\u001b[38;5;241m=\u001b[39m\u001b[38;5;241m2\u001b[39m, circle_radius\u001b[38;5;241m=\u001b[39m\u001b[38;5;241m2\u001b[39m)\n\u001b[1;32m     11\u001b[0m                              ) \n",
      "File \u001b[0;32m/Library/Frameworks/Python.framework/Versions/3.11/lib/python3.11/site-packages/mediapipe/python/solutions/drawing_utils.py:182\u001b[0m, in \u001b[0;36mdraw_landmarks\u001b[0;34m(image, landmark_list, connections, landmark_drawing_spec, connection_drawing_spec, is_drawing_landmarks)\u001b[0m\n\u001b[1;32m    179\u001b[0m     \u001b[38;5;28;01mif\u001b[39;00m start_idx \u001b[38;5;129;01min\u001b[39;00m idx_to_coordinates \u001b[38;5;129;01mand\u001b[39;00m end_idx \u001b[38;5;129;01min\u001b[39;00m idx_to_coordinates:\n\u001b[1;32m    180\u001b[0m       drawing_spec \u001b[38;5;241m=\u001b[39m connection_drawing_spec[connection] \u001b[38;5;28;01mif\u001b[39;00m \u001b[38;5;28misinstance\u001b[39m(\n\u001b[1;32m    181\u001b[0m           connection_drawing_spec, Mapping) \u001b[38;5;28;01melse\u001b[39;00m connection_drawing_spec\n\u001b[0;32m--> 182\u001b[0m       \u001b[43mcv2\u001b[49m\u001b[38;5;241;43m.\u001b[39;49m\u001b[43mline\u001b[49m\u001b[43m(\u001b[49m\u001b[43mimage\u001b[49m\u001b[43m,\u001b[49m\u001b[43m \u001b[49m\u001b[43midx_to_coordinates\u001b[49m\u001b[43m[\u001b[49m\u001b[43mstart_idx\u001b[49m\u001b[43m]\u001b[49m\u001b[43m,\u001b[49m\n\u001b[1;32m    183\u001b[0m \u001b[43m               \u001b[49m\u001b[43midx_to_coordinates\u001b[49m\u001b[43m[\u001b[49m\u001b[43mend_idx\u001b[49m\u001b[43m]\u001b[49m\u001b[43m,\u001b[49m\u001b[43m \u001b[49m\u001b[43mdrawing_spec\u001b[49m\u001b[38;5;241;43m.\u001b[39;49m\u001b[43mcolor\u001b[49m\u001b[43m,\u001b[49m\n\u001b[1;32m    184\u001b[0m \u001b[43m               \u001b[49m\u001b[43mdrawing_spec\u001b[49m\u001b[38;5;241;43m.\u001b[39;49m\u001b[43mthickness\u001b[49m\u001b[43m)\u001b[49m\n\u001b[1;32m    185\u001b[0m \u001b[38;5;66;03m# Draws landmark points after finishing the connection lines, which is\u001b[39;00m\n\u001b[1;32m    186\u001b[0m \u001b[38;5;66;03m# aesthetically better.\u001b[39;00m\n\u001b[1;32m    187\u001b[0m \u001b[38;5;28;01mif\u001b[39;00m is_drawing_landmarks \u001b[38;5;129;01mand\u001b[39;00m landmark_drawing_spec:\n",
      "\u001b[0;31mKeyboardInterrupt\u001b[0m: "
     ]
    }
   ],
   "source": [
    "cap = cv2.VideoCapture(0)\n",
    "# Set mediapipe model \n",
    "with mp_holistic.Holistic(min_detection_confidence=0.5, min_tracking_confidence=0.5) as holistic:\n",
    "    while cap.isOpened():\n",
    "\n",
    "        # Read feed\n",
    "        ret, frame = cap.read()\n",
    "\n",
    "        # Make detections\n",
    "        image, results = mediapipe_detection(frame, holistic)\n",
    "        print(results)\n",
    "        \n",
    "        # Draw landmarks\n",
    "        draw_styled_landmarks(image, results)\n",
    "\n",
    "        # Show to screen\n",
    "        cv2.imshow('OpenCV Feed', image)\n",
    "\n",
    "        # Break gracefully\n",
    "        if cv2.waitKey(10) & 0xFF == ord('q'):\n",
    "            break\n",
    "    cap.release()\n",
    "    cv2.destroyAllWindows()"
   ]
  },
  {
   "cell_type": "code",
   "execution_count": 7,
   "metadata": {},
   "outputs": [
    {
     "data": {
      "text/plain": [
       "21"
      ]
     },
     "execution_count": 7,
     "metadata": {},
     "output_type": "execute_result"
    }
   ],
   "source": [
    "len(results.left_hand_landmarks.landmark)"
   ]
  },
  {
   "cell_type": "code",
   "execution_count": 8,
   "metadata": {},
   "outputs": [
    {
     "data": {
      "text/plain": [
       "mediapipe.python.solution_base.SolutionOutputs"
      ]
     },
     "execution_count": 8,
     "metadata": {},
     "output_type": "execute_result"
    }
   ],
   "source": [
    "results"
   ]
  },
  {
   "cell_type": "code",
   "execution_count": 9,
   "metadata": {},
   "outputs": [],
   "source": [
    "draw_landmarks(frame, results)"
   ]
  },
  {
   "cell_type": "code",
   "execution_count": 10,
   "metadata": {},
   "outputs": [
    {
     "data": {
      "text/plain": [
       "<matplotlib.image.AxesImage at 0x13e733c10>"
      ]
     },
     "execution_count": 10,
     "metadata": {},
     "output_type": "execute_result"
    },
    {
     "data": {
      "image/png": "[encoded data removed]",
      "text/plain": [
       "<Figure size 640x480 with 1 Axes>"
      ]
     },
     "metadata": {},
     "output_type": "display_data"
    }
   ],
   "source": [
    "plt.imshow(cv2.cvtColor(frame, cv2.COLOR_BGR2RGB))"
   ]
  },
  {
   "cell_type": "markdown",
   "metadata": {},
   "source": [
    "# 3. Extract Keypoint Values"
   ]
  },
  {
   "cell_type": "code",
   "execution_count": 11,
   "metadata": {},
   "outputs": [
    {
     "data": {
      "text/plain": [
       "21"
      ]
     },
     "execution_count": 11,
     "metadata": {},
     "output_type": "execute_result"
    }
   ],
   "source": [
    "len(results.left_hand_landmarks.landmark)"
   ]
  },
  {
   "cell_type": "code",
   "execution_count": 12,
   "metadata": {},
   "outputs": [],
   "source": [
    "pose = []\n",
    "for res in results.pose_landmarks.landmark:\n",
    "    test = np.array([res.x, res.y, res.z, res.visibility])\n",
    "    pose.append(test)"
   ]
  },
  {
   "cell_type": "code",
   "execution_count": 13,
   "metadata": {},
   "outputs": [],
   "source": [
    "pose = np.array([[res.x, res.y, res.z, res.visibility] for res in results.pose_landmarks.landmark]).flatten() if results.pose_landmarks else np.zeros(132)\n",
    "face = np.array([[res.x, res.y, res.z] for res in results.face_landmarks.landmark]).flatten() if results.face_landmarks else np.zeros(1404)\n",
    "lh = np.array([[res.x, res.y, res.z] for res in results.left_hand_landmarks.landmark]).flatten() if results.left_hand_landmarks else np.zeros(21*3)\n",
    "rh = np.array([[res.x, res.y, res.z] for res in results.right_hand_landmarks.landmark]).flatten() if results.right_hand_landmarks else np.zeros(21*3)"
   ]
  },
  {
   "cell_type": "code",
   "execution_count": 14,
   "metadata": {},
   "outputs": [],
   "source": [
    "def extract_keypoints(results):\n",
    "    pose = np.array([[res.x, res.y, res.z, res.visibility] for res in results.pose_landmarks.landmark]).flatten() if results.pose_landmarks else np.zeros(33*4)\n",
    "    face = np.array([[res.x, res.y, res.z] for res in results.face_landmarks.landmark]).flatten() if results.face_landmarks else np.zeros(468*3)\n",
    "    lh = np.array([[res.x, res.y, res.z] for res in results.left_hand_landmarks.landmark]).flatten() if results.left_hand_landmarks else np.zeros(21*3)\n",
    "    rh = np.array([[res.x, res.y, res.z] for res in results.right_hand_landmarks.landmark]).flatten() if results.right_hand_landmarks else np.zeros(21*3)\n",
    "    return np.concatenate([pose, face, lh, rh])"
   ]
  },
  {
   "cell_type": "code",
   "execution_count": 15,
   "metadata": {},
   "outputs": [],
   "source": [
    "result_test = extract_keypoints(results)"
   ]
  },
  {
   "cell_type": "code",
   "execution_count": 16,
   "metadata": {},
   "outputs": [
    {
     "data": {
      "text/plain": [
       "array([ 0.41207987,  0.53468329, -0.84668559, ...,  0.        ,\n",
       "        0.        ,  0.        ])"
      ]
     },
     "execution_count": 16,
     "metadata": {},
     "output_type": "execute_result"
    }
   ],
   "source": [
    "result_test"
   ]
  },
  {
   "cell_type": "code",
   "execution_count": 17,
   "metadata": {},
   "outputs": [
    {
     "data": {
      "text/plain": [
       "1662"
      ]
     },
     "execution_count": 17,
     "metadata": {},
     "output_type": "execute_result"
    }
   ],
   "source": [
    "468*3+33*4+21*3+21*3"
   ]
  },
  {
   "cell_type": "code",
   "execution_count": 18,
   "metadata": {},
   "outputs": [],
   "source": [
    "np.save('0', result_test)"
   ]
  },
  {
   "cell_type": "code",
   "execution_count": 19,
   "metadata": {},
   "outputs": [
    {
     "data": {
      "text/plain": [
       "array([ 0.41207987,  0.53468329, -0.84668559, ...,  0.        ,\n",
       "        0.        ,  0.        ])"
      ]
     },
     "execution_count": 19,
     "metadata": {},
     "output_type": "execute_result"
    }
   ],
   "source": [
    "np.load('0.npy')"
   ]
  },
  {
   "cell_type": "markdown",
   "metadata": {},
   "source": [
    "# 4. Setup Folders for Collection"
   ]
  },
  {
   "cell_type": "code",
   "execution_count": 23,
   "metadata": {},
   "outputs": [
    {
     "name": "stdout",
     "output_type": "stream",
     "text": [
      "Actions Detected:\n",
      "['here' 'members' 'children' 'is' 'numbers' 'as follows' 'parents' 'start'\n",
      " 'other' 'regions' 'have' 'topic' 'but' 'family' 'our' 'follows' 'hello'\n",
      " 'guardians' 'users' 'now' 'diferrent' 'and' 'sign language' 'ugandan'\n",
      " 'ways']\n"
     ]
    }
   ],
   "source": [
    "# Path for exported data, numpy arrays\n",
    "DATA_PATH = os.path.join('MP_DATA') \n",
    "\n",
    "# Scan the data folder to collect unique action labels\n",
    "actions = set()\n",
    "for filename in os.listdir(DATA_PATH):\n",
    "    if filename.endswith('.mp4'):\n",
    "        action = filename.split('.')[0]  # Extract the action label from the filename\n",
    "        actions.add(action)\n",
    "\n",
    "# Convert the set of unique action labels to a NumPy array\n",
    "actions = np.array(list(actions))\n",
    "\n",
    "# 1 video worth of data\n",
    "no_sequences = 1\n",
    "\n",
    "# Videos are going to be 30 frames in length\n",
    "sequence_length = 30\n",
    "\n",
    "\n",
    "print(\"Actions Detected:\")\n",
    "print(actions)"
   ]
  },
  {
   "cell_type": "code",
   "execution_count": 24,
   "metadata": {},
   "outputs": [],
   "source": [
    "for action in actions: \n",
    "    for sequence in range(no_sequences):\n",
    "        try: \n",
    "            os.makedirs(os.path.join(DATA_PATH, action, str(sequence)))\n",
    "        except:\n",
    "            pass"
   ]
  },
  {
   "cell_type": "markdown",
   "metadata": {},
   "source": [
    "# 5. Collect Keypoint Values for Training and Testing"
   ]
  },
  {
   "cell_type": "code",
   "execution_count": 25,
   "metadata": {},
   "outputs": [
    {
     "name": "stderr",
     "output_type": "stream",
     "text": [
      "I0000 00:00:1711211903.826120       1 gl_context.cc:344] GL version: 2.1 (2.1 INTEL-20.2.44), renderer: Intel(R) UHD Graphics 617\n"
     ]
    },
    {
     "name": "stdout",
     "output_type": "stream",
     "text": [
      "Error: Failed to read frame from the video capture MP_DATA/family.mp4\n"
     ]
    },
    {
     "name": "stderr",
     "output_type": "stream",
     "text": [
      "I0000 00:00:1711211989.696889       1 gl_context.cc:344] GL version: 2.1 (2.1 INTEL-20.2.44), renderer: Intel(R) UHD Graphics 617\n"
     ]
    },
    {
     "name": "stdout",
     "output_type": "stream",
     "text": [
      "Error: Failed to read frame from the video capture MP_DATA/and.mp4\n"
     ]
    },
    {
     "name": "stderr",
     "output_type": "stream",
     "text": [
      "I0000 00:00:1711212045.765129       1 gl_context.cc:344] GL version: 2.1 (2.1 INTEL-20.2.44), renderer: Intel(R) UHD Graphics 617\n",
      "I0000 00:00:1711212248.474999       1 gl_context.cc:344] GL version: 2.1 (2.1 INTEL-20.2.44), renderer: Intel(R) UHD Graphics 617\n"
     ]
    },
    {
     "name": "stdout",
     "output_type": "stream",
     "text": [
      "Error: Failed to read frame from the video capture MP_DATA/but.mp4\n"
     ]
    },
    {
     "name": "stderr",
     "output_type": "stream",
     "text": [
      "I0000 00:00:1711212295.818561       1 gl_context.cc:344] GL version: 2.1 (2.1 INTEL-20.2.44), renderer: Intel(R) UHD Graphics 617\n",
      "I0000 00:00:1711212423.032771       1 gl_context.cc:344] GL version: 2.1 (2.1 INTEL-20.2.44), renderer: Intel(R) UHD Graphics 617\n",
      "I0000 00:00:1711212551.511889       1 gl_context.cc:344] GL version: 2.1 (2.1 INTEL-20.2.44), renderer: Intel(R) UHD Graphics 617\n",
      "I0000 00:00:1711212678.666759       1 gl_context.cc:344] GL version: 2.1 (2.1 INTEL-20.2.44), renderer: Intel(R) UHD Graphics 617\n",
      "I0000 00:00:1711212805.419558       1 gl_context.cc:344] GL version: 2.1 (2.1 INTEL-20.2.44), renderer: Intel(R) UHD Graphics 617\n"
     ]
    },
    {
     "name": "stdout",
     "output_type": "stream",
     "text": [
      "Error: Failed to read frame from the video capture MP_DATA/have.mp4\n"
     ]
    },
    {
     "name": "stderr",
     "output_type": "stream",
     "text": [
      "I0000 00:00:1711212899.948362       1 gl_context.cc:344] GL version: 2.1 (2.1 INTEL-20.2.44), renderer: Intel(R) UHD Graphics 617\n"
     ]
    },
    {
     "name": "stdout",
     "output_type": "stream",
     "text": [
      "Error: Failed to read frame from the video capture MP_DATA/hello.mp4\n"
     ]
    },
    {
     "name": "stderr",
     "output_type": "stream",
     "text": [
      "I0000 00:00:1711212955.549513       1 gl_context.cc:344] GL version: 2.1 (2.1 INTEL-20.2.44), renderer: Intel(R) UHD Graphics 617\n"
     ]
    },
    {
     "name": "stdout",
     "output_type": "stream",
     "text": [
      "Error: Failed to read frame from the video capture MP_DATA/here.mp4\n"
     ]
    },
    {
     "name": "stderr",
     "output_type": "stream",
     "text": [
      "I0000 00:00:1711213104.239129       1 gl_context.cc:344] GL version: 2.1 (2.1 INTEL-20.2.44), renderer: Intel(R) UHD Graphics 617\n"
     ]
    },
    {
     "name": "stdout",
     "output_type": "stream",
     "text": [
      "Error: Failed to read frame from the video capture MP_DATA/is.mp4\n"
     ]
    },
    {
     "name": "stderr",
     "output_type": "stream",
     "text": [
      "I0000 00:00:1711213168.747329       1 gl_context.cc:344] GL version: 2.1 (2.1 INTEL-20.2.44), renderer: Intel(R) UHD Graphics 617\n",
      "I0000 00:00:1711213296.322567       1 gl_context.cc:344] GL version: 2.1 (2.1 INTEL-20.2.44), renderer: Intel(R) UHD Graphics 617\n",
      "I0000 00:00:1711213424.973107       1 gl_context.cc:344] GL version: 2.1 (2.1 INTEL-20.2.44), renderer: Intel(R) UHD Graphics 617\n",
      "I0000 00:00:1711213551.871876       1 gl_context.cc:344] GL version: 2.1 (2.1 INTEL-20.2.44), renderer: Intel(R) UHD Graphics 617\n"
     ]
    },
    {
     "name": "stdout",
     "output_type": "stream",
     "text": [
      "Error: Failed to read frame from the video capture MP_DATA/other.mp4\n"
     ]
    },
    {
     "name": "stderr",
     "output_type": "stream",
     "text": [
      "I0000 00:00:1711213624.169943       1 gl_context.cc:344] GL version: 2.1 (2.1 INTEL-20.2.44), renderer: Intel(R) UHD Graphics 617\n"
     ]
    },
    {
     "name": "stdout",
     "output_type": "stream",
     "text": [
      "Error: Failed to read frame from the video capture MP_DATA/our.mp4\n"
     ]
    },
    {
     "name": "stderr",
     "output_type": "stream",
     "text": [
      "I0000 00:00:1711213705.650074       1 gl_context.cc:344] GL version: 2.1 (2.1 INTEL-20.2.44), renderer: Intel(R) UHD Graphics 617\n",
      "I0000 00:00:1711213835.044180       1 gl_context.cc:344] GL version: 2.1 (2.1 INTEL-20.2.44), renderer: Intel(R) UHD Graphics 617\n",
      "I0000 00:00:1711213962.656982       1 gl_context.cc:344] GL version: 2.1 (2.1 INTEL-20.2.44), renderer: Intel(R) UHD Graphics 617\n",
      "I0000 00:00:1711214090.412465       1 gl_context.cc:344] GL version: 2.1 (2.1 INTEL-20.2.44), renderer: Intel(R) UHD Graphics 617\n"
     ]
    },
    {
     "name": "stdout",
     "output_type": "stream",
     "text": [
      "Error: Failed to read frame from the video capture MP_DATA/start.mp4\n"
     ]
    },
    {
     "name": "stderr",
     "output_type": "stream",
     "text": [
      "I0000 00:00:1711214192.313224       1 gl_context.cc:344] GL version: 2.1 (2.1 INTEL-20.2.44), renderer: Intel(R) UHD Graphics 617\n",
      "I0000 00:00:1711214320.202647       1 gl_context.cc:344] GL version: 2.1 (2.1 INTEL-20.2.44), renderer: Intel(R) UHD Graphics 617\n",
      "I0000 00:00:1711214447.747158       1 gl_context.cc:344] GL version: 2.1 (2.1 INTEL-20.2.44), renderer: Intel(R) UHD Graphics 617\n",
      "I0000 00:00:1711214574.912020       1 gl_context.cc:344] GL version: 2.1 (2.1 INTEL-20.2.44), renderer: Intel(R) UHD Graphics 617\n"
     ]
    },
    {
     "name": "stdout",
     "output_type": "stream",
     "text": [
      "Error: Failed to read frame from the video capture MP_DATA/ways.mp4\n"
     ]
    }
   ],
   "source": [
    "import os\n",
    "import cv2\n",
    "import numpy as np\n",
    "import mediapipe as mp\n",
    "\n",
    "# Path for exported data, numpy arrays\n",
    "DATA_PATH = os.path.join('MP_DATA')\n",
    "\n",
    "# Path to the folder containing video files\n",
    "video_folder = 'MP_DATA'\n",
    "\n",
    "# Get a list of all video file paths\n",
    "video_paths = [os.path.join(video_folder, f) for f in os.listdir(video_folder) if f.endswith('.mp4')]\n",
    "\n",
    "# Set mediapipe model\n",
    "mp_holistic = mp.solutions.holistic\n",
    "\n",
    "# Videos are going to be 30 frames in length\n",
    "sequence_length = 30\n",
    "\n",
    "for video_path in video_paths:\n",
    "    # Get the action label from the video file name\n",
    "    action = os.path.basename(video_path).split('.')[0]\n",
    "\n",
    "    # Initialize the video capture object\n",
    "    cap = cv2.VideoCapture(video_path)\n",
    "\n",
    "    # Check if the video capture was successful\n",
    "    if not cap.isOpened():\n",
    "        print(f\"Error: Failed to open the video file {video_path}\")\n",
    "        continue\n",
    "\n",
    "    # Set mediapipe model\n",
    "    with mp_holistic.Holistic(min_detection_confidence=0.5, min_tracking_confidence=0.5) as holistic:\n",
    "        # Create folder for action if it doesn't exist\n",
    "        action_folder = os.path.join(DATA_PATH, action)\n",
    "        if not os.path.exists(action_folder):\n",
    "            os.makedirs(action_folder)\n",
    "\n",
    "        # Get the next available sequence folder name\n",
    "        sequence_id = 0\n",
    "        sequence_folder = os.path.join(action_folder, str(sequence_id))\n",
    "        while os.path.exists(sequence_folder):\n",
    "            sequence_id += 1\n",
    "            sequence_folder = os.path.join(action_folder, str(sequence_id))\n",
    "\n",
    "        # Create the new sequence folder\n",
    "        os.makedirs(sequence_folder)\n",
    "\n",
    "        # Check if all NumPy files already exist in the sequence folder\n",
    "        existing_files = [f for f in os.listdir(sequence_folder) if f.endswith('.npy')]\n",
    "        if len(existing_files) == sequence_length:\n",
    "            print(f\"Extraction already done for {action}. Skipping...\")\n",
    "            continue\n",
    "\n",
    "        # Loop through video length aka sequence length\n",
    "        for frame_num in range(sequence_length):\n",
    "            # Read feed\n",
    "            ret, frame = cap.read()\n",
    "\n",
    "            # Check if the frame is empty\n",
    "            if not ret:\n",
    "                print(f\"Error: Failed to read frame from the video capture {video_path}\")\n",
    "                break\n",
    "\n",
    "            # Make detections\n",
    "            image, results = mediapipe_detection(frame, holistic)\n",
    "\n",
    "            # Draw landmarks\n",
    "            draw_styled_landmarks(image, results)\n",
    "\n",
    "            # Apply wait logic\n",
    "            if frame_num == 0:\n",
    "                cv2.putText(image, 'STARTING COLLECTION', (120, 200),\n",
    "                            cv2.FONT_HERSHEY_SIMPLEX, 1, (0, 255, 0), 4, cv2.LINE_AA)\n",
    "                cv2.putText(image, 'Collecting frames for {} Video Number {}'.format(action, sequence_id), (15, 12),\n",
    "                            cv2.FONT_HERSHEY_SIMPLEX, 0.5, (0, 0, 255), 1, cv2.LINE_AA)\n",
    "                # Show to screen\n",
    "                cv2.imshow('OpenCV Feed', image)\n",
    "                cv2.waitKey(500)\n",
    "            else:\n",
    "                cv2.putText(image, 'Collecting frames for {} Video Number {}'.format(action, sequence_id), (15, 12),\n",
    "                            cv2.FONT_HERSHEY_SIMPLEX, 0.5, (0, 0, 255), 1, cv2.LINE_AA)\n",
    "                # Show to screen\n",
    "                cv2.imshow('OpenCV Feed', image)\n",
    "\n",
    "            # Export keypoints\n",
    "            keypoints = extract_keypoints(results)\n",
    "            npy_path = os.path.join(sequence_folder, str(frame_num))\n",
    "            np.save(npy_path, keypoints)\n",
    "\n",
    "            # Break gracefully\n",
    "            if cv2.waitKey(10) & 0xFF == ord('q'):\n",
    "                break\n",
    "\n",
    "    # Release video capture\n",
    "    cap.release()\n",
    "\n",
    "# Close OpenCV windows\n",
    "cv2.destroyAllWindows()"
   ]
  },
  {
   "cell_type": "code",
   "execution_count": 26,
   "metadata": {},
   "outputs": [],
   "source": [
    "cap.release()\n",
    "cv2.destroyAllWindows()"
   ]
  },
  {
   "cell_type": "markdown",
   "metadata": {},
   "source": [
    "# 6. Preprocess Data and Create Labels and Features"
   ]
  },
  {
   "cell_type": "code",
   "execution_count": 27,
   "metadata": {},
   "outputs": [],
   "source": [
    "from sklearn.model_selection import train_test_split\n",
    "from tensorflow.keras.utils import to_categorical"
   ]
  },
  {
   "cell_type": "code",
   "execution_count": 28,
   "metadata": {},
   "outputs": [],
   "source": [
    "label_map = {label:num for num, label in enumerate(actions)}"
   ]
  },
  {
   "cell_type": "code",
   "execution_count": 29,
   "metadata": {},
   "outputs": [
    {
     "data": {
      "text/plain": [
       "{'here': 0,\n",
       " 'members': 1,\n",
       " 'children': 2,\n",
       " 'is': 3,\n",
       " 'numbers': 4,\n",
       " 'as follows': 5,\n",
       " 'parents': 6,\n",
       " 'start': 7,\n",
       " 'other': 8,\n",
       " 'regions': 9,\n",
       " 'have': 10,\n",
       " 'topic': 11,\n",
       " 'but': 12,\n",
       " 'family': 13,\n",
       " 'our': 14,\n",
       " 'follows': 15,\n",
       " 'hello': 16,\n",
       " 'guardians': 17,\n",
       " 'users': 18,\n",
       " 'now': 19,\n",
       " 'diferrent': 20,\n",
       " 'and': 21,\n",
       " 'sign language': 22,\n",
       " 'ugandan': 23,\n",
       " 'ways': 24}"
      ]
     },
     "execution_count": 29,
     "metadata": {},
     "output_type": "execute_result"
    }
   ],
   "source": [
    "label_map"
   ]
  },
  {
   "cell_type": "code",
   "execution_count": 30,
   "metadata": {},
   "outputs": [],
   "source": [
    "import os\n",
    "import numpy as np\n",
    "\n",
    "# Path for exported data, numpy arrays\n",
    "DATA_PATH = os.path.join('MP_DATA')\n",
    "\n",
    "# Actions (labels) in the dataset\n",
    "potential_actions = os.listdir(DATA_PATH)\n",
    "actions = [action for action in potential_actions if os.path.isdir(os.path.join(DATA_PATH, action))]\n",
    "\n",
    "# Dictionary to map action names to label indices\n",
    "label_map = {action: idx for idx, action in enumerate(actions)}\n",
    "\n",
    "sequences, labels = [], []\n",
    "\n",
    "for action in actions:\n",
    "    action_folder = os.path.join(DATA_PATH, action)\n",
    "    sequence_folders = [os.path.join(action_folder, f) for f in os.listdir(action_folder) if os.path.isdir(os.path.join(action_folder, f))]\n",
    "    sequence_folders = sorted(sequence_folders)\n",
    "\n",
    "    for sequence_folder in sequence_folders:\n",
    "        sequence = []\n",
    "        frame_files = sorted([f for f in os.listdir(sequence_folder) if f.endswith('.npy') and not f.startswith('._')])\n",
    "        sequence_length = len(frame_files)\n",
    "\n",
    "        for frame_num in range(sequence_length):\n",
    "            npy_path = os.path.join(sequence_folder, frame_files[frame_num])\n",
    "            try:\n",
    "                res = np.load(npy_path)\n",
    "                sequence.append(res)\n",
    "            except EOFError:\n",
    "                print(f\"Warning: Skipping empty or corrupted file: {npy_path}\")\n",
    "                continue\n",
    "\n",
    "        sequences.append(sequence)\n",
    "        labels.append(label_map[action])"
   ]
  },
  {
   "cell_type": "code",
   "execution_count": 31,
   "metadata": {},
   "outputs": [],
   "source": [
    "import numpy as np\n",
    "from keras.preprocessing.sequence import pad_sequences\n",
    "\n",
    "# Get the length of the longest sequence\n",
    "max_sequence_length = max(len(seq) for seq in sequences)\n",
    "\n",
    "# Pad the sequences\n",
    "padded_sequences = pad_sequences(sequences, maxlen=max_sequence_length, padding='post')\n",
    "\n",
    "# Convert the padded sequences to a NumPy array\n",
    "sequences_array = np.array(padded_sequences)"
   ]
  },
  {
   "cell_type": "code",
   "execution_count": 32,
   "metadata": {},
   "outputs": [
    {
     "data": {
      "text/plain": [
       "(200,)"
      ]
     },
     "execution_count": 32,
     "metadata": {},
     "output_type": "execute_result"
    }
   ],
   "source": [
    "np.array(labels).shape"
   ]
  },
  {
   "cell_type": "code",
   "execution_count": 33,
   "metadata": {},
   "outputs": [],
   "source": [
    "import numpy as np\n",
    "from keras.preprocessing.sequence import pad_sequences\n",
    "\n",
    "# Get the length of the longest sequence\n",
    "max_sequence_length = max(len(seq) for seq in sequences)\n",
    "\n",
    "# Pad the sequences\n",
    "padded_sequences = pad_sequences(sequences, maxlen=max_sequence_length, padding='post')\n",
    "\n",
    "# Convert the padded sequences to a NumPy array\n",
    "X = np.array(padded_sequences)"
   ]
  },
  {
   "cell_type": "code",
   "execution_count": 34,
   "metadata": {},
   "outputs": [
    {
     "data": {
      "text/plain": [
       "(200, 30, 1662)"
      ]
     },
     "execution_count": 34,
     "metadata": {},
     "output_type": "execute_result"
    }
   ],
   "source": [
    "X.shape"
   ]
  },
  {
   "cell_type": "code",
   "execution_count": 35,
   "metadata": {},
   "outputs": [],
   "source": [
    "y = to_categorical(labels).astype(int)"
   ]
  },
  {
   "cell_type": "code",
   "execution_count": 36,
   "metadata": {},
   "outputs": [
    {
     "data": {
      "text/plain": [
       "array([[1, 0, 0, ..., 0, 0, 0],\n",
       "       [1, 0, 0, ..., 0, 0, 0],\n",
       "       [1, 0, 0, ..., 0, 0, 0],\n",
       "       ...,\n",
       "       [0, 0, 0, ..., 0, 0, 1],\n",
       "       [0, 0, 0, ..., 0, 0, 1],\n",
       "       [0, 0, 0, ..., 0, 0, 1]])"
      ]
     },
     "execution_count": 36,
     "metadata": {},
     "output_type": "execute_result"
    }
   ],
   "source": [
    "y"
   ]
  },
  {
   "cell_type": "code",
   "execution_count": 37,
   "metadata": {},
   "outputs": [],
   "source": [
    "X_train, X_test, y_train, y_test = train_test_split(X, y, test_size=0.05)"
   ]
  },
  {
   "cell_type": "code",
   "execution_count": 38,
   "metadata": {},
   "outputs": [
    {
     "data": {
      "text/plain": [
       "(10, 25)"
      ]
     },
     "execution_count": 38,
     "metadata": {},
     "output_type": "execute_result"
    }
   ],
   "source": [
    "y_test.shape"
   ]
  },
  {
   "cell_type": "markdown",
   "metadata": {},
   "source": [
    "# 7. Build and Train LSTM Neural Network"
   ]
  },
  {
   "cell_type": "code",
   "execution_count": 39,
   "metadata": {},
   "outputs": [],
   "source": [
    "from tensorflow.keras.models import Sequential\n",
    "from tensorflow.keras.layers import LSTM, Dense\n",
    "from tensorflow.keras.callbacks import TensorBoard"
   ]
  },
  {
   "cell_type": "code",
   "execution_count": 40,
   "metadata": {},
   "outputs": [],
   "source": [
    "log_dir = os.path.join('Logs')\n",
    "tb_callback = TensorBoard(log_dir=log_dir)"
   ]
  },
  {
   "cell_type": "code",
   "execution_count": 41,
   "metadata": {},
   "outputs": [],
   "source": [
    "from keras.models import Sequential\n",
    "from keras.layers import LSTM, Dense, Dropout\n",
    "\n",
    "model = Sequential()\n",
    "\n",
    "# Increase the number of LSTM units and add dropout regularization\n",
    "model.add(LSTM(128, return_sequences=True, activation='relu', input_shape=(30, 1662)))\n",
    "model.add(Dropout(0.2))  # Add dropout regularization\n",
    "\n",
    "# Add an additional LSTM layer with more units and dropout\n",
    "model.add(LSTM(256, return_sequences=True, activation='relu'))\n",
    "model.add(Dropout(0.2))\n",
    "\n",
    "# Keep the existing LSTM layer\n",
    "model.add(LSTM(64, return_sequences=False, activation='relu'))\n",
    "\n",
    "# Increase the number of units in the Dense layers\n",
    "model.add(Dense(128, activation='relu'))\n",
    "model.add(Dropout(0.2))  # Add dropout regularization\n",
    "model.add(Dense(64, activation='relu'))\n",
    "\n",
    "# Output layer with the number of classes\n",
    "model.add(Dense(len(actions), activation='softmax'))"
   ]
  },
  {
   "cell_type": "code",
   "execution_count": 70,
   "metadata": {},
   "outputs": [],
   "source": [
    "res = [.7, 0.2, 0.1]"
   ]
  },
  {
   "cell_type": "code",
   "execution_count": 71,
   "metadata": {},
   "outputs": [
    {
     "data": {
      "text/plain": [
       "'family'"
      ]
     },
     "execution_count": 71,
     "metadata": {},
     "output_type": "execute_result"
    }
   ],
   "source": [
    "actions[np.argmax(res)]"
   ]
  },
  {
   "cell_type": "code",
   "execution_count": 68,
   "metadata": {},
   "outputs": [],
   "source": [
    "model.compile(optimizer='Adam', loss='categorical_crossentropy', metrics=['categorical_accuracy'])"
   ]
  },
  {
   "cell_type": "code",
   "execution_count": 45,
   "metadata": {
    "scrolled": true
   },
   "outputs": [
    {
     "name": "stdout",
     "output_type": "stream",
     "text": [
      "Epoch 1/200\n",
      "6/6 [==============================] - 15s 825ms/step - loss: 3.2184 - categorical_accuracy: 0.0474\n",
      "Epoch 2/200\n",
      "6/6 [==============================] - 3s 560ms/step - loss: 3.2076 - categorical_accuracy: 0.0421\n",
      "Epoch 3/200\n",
      "6/6 [==============================] - 3s 556ms/step - loss: 3.1736 - categorical_accuracy: 0.0368\n",
      "Epoch 4/200\n",
      "6/6 [==============================] - 1s 240ms/step - loss: 3.2380 - categorical_accuracy: 0.0474\n",
      "Epoch 5/200\n",
      "6/6 [==============================] - 3s 618ms/step - loss: 3.1946 - categorical_accuracy: 0.0526\n",
      "Epoch 6/200\n",
      "6/6 [==============================] - 4s 690ms/step - loss: 3.2026 - categorical_accuracy: 0.0632\n",
      "Epoch 7/200\n",
      "6/6 [==============================] - 1s 246ms/step - loss: 3.1983 - categorical_accuracy: 0.0368\n",
      "Epoch 8/200\n",
      "6/6 [==============================] - 2s 256ms/step - loss: 3.1840 - categorical_accuracy: 0.0474\n",
      "Epoch 9/200\n",
      "6/6 [==============================] - 2s 274ms/step - loss: 3.1040 - categorical_accuracy: 0.0737\n",
      "Epoch 10/200\n",
      "6/6 [==============================] - 2s 271ms/step - loss: 3.0407 - categorical_accuracy: 0.0632\n",
      "Epoch 11/200\n",
      "6/6 [==============================] - 4s 697ms/step - loss: 3.0165 - categorical_accuracy: 0.0789\n",
      "Epoch 12/200\n",
      "6/6 [==============================] - 2s 287ms/step - loss: 2.9600 - categorical_accuracy: 0.1000\n",
      "Epoch 13/200\n",
      "6/6 [==============================] - 2s 280ms/step - loss: 2.7947 - categorical_accuracy: 0.1316\n",
      "Epoch 14/200\n",
      "6/6 [==============================] - 2s 287ms/step - loss: 2.5765 - categorical_accuracy: 0.1895\n",
      "Epoch 15/200\n",
      "6/6 [==============================] - 2s 352ms/step - loss: 2.8183 - categorical_accuracy: 0.1579\n",
      "Epoch 16/200\n",
      "6/6 [==============================] - 2s 392ms/step - loss: 2.9469 - categorical_accuracy: 0.1368\n",
      "Epoch 17/200\n",
      "6/6 [==============================] - 2s 366ms/step - loss: 2.8555 - categorical_accuracy: 0.0842\n",
      "Epoch 18/200\n",
      "6/6 [==============================] - 2s 347ms/step - loss: 2.6861 - categorical_accuracy: 0.1684\n",
      "Epoch 19/200\n",
      "6/6 [==============================] - 2s 363ms/step - loss: 2.5580 - categorical_accuracy: 0.1737\n",
      "Epoch 20/200\n",
      "6/6 [==============================] - 2s 367ms/step - loss: 2.5359 - categorical_accuracy: 0.2053\n",
      "Epoch 21/200\n",
      "6/6 [==============================] - 2s 308ms/step - loss: 2.4370 - categorical_accuracy: 0.2421\n",
      "Epoch 22/200\n",
      "6/6 [==============================] - 2s 376ms/step - loss: 2.2693 - categorical_accuracy: 0.2526\n",
      "Epoch 23/200\n",
      "6/6 [==============================] - 2s 355ms/step - loss: 2.1817 - categorical_accuracy: 0.2368\n",
      "Epoch 24/200\n",
      "6/6 [==============================] - 2s 357ms/step - loss: 2.1529 - categorical_accuracy: 0.2579\n",
      "Epoch 25/200\n",
      "6/6 [==============================] - 3s 553ms/step - loss: 2.1112 - categorical_accuracy: 0.2684\n",
      "Epoch 26/200\n",
      "6/6 [==============================] - 2s 336ms/step - loss: 2.1715 - categorical_accuracy: 0.2526\n",
      "Epoch 27/200\n",
      "6/6 [==============================] - 2s 338ms/step - loss: 2.2002 - categorical_accuracy: 0.2105\n",
      "Epoch 28/200\n",
      "6/6 [==============================] - 2s 351ms/step - loss: 1.9319 - categorical_accuracy: 0.3368\n",
      "Epoch 29/200\n",
      "6/6 [==============================] - 5s 852ms/step - loss: 2.0384 - categorical_accuracy: 0.2526\n",
      "Epoch 30/200\n",
      "6/6 [==============================] - 3s 565ms/step - loss: 1.9998 - categorical_accuracy: 0.3158\n",
      "Epoch 31/200\n",
      "6/6 [==============================] - 3s 624ms/step - loss: 1.8034 - categorical_accuracy: 0.4105\n",
      "Epoch 32/200\n",
      "6/6 [==============================] - 4s 682ms/step - loss: 1.7170 - categorical_accuracy: 0.3789\n",
      "Epoch 33/200\n",
      "6/6 [==============================] - 3s 542ms/step - loss: 1.5754 - categorical_accuracy: 0.4526\n",
      "Epoch 34/200\n",
      "6/6 [==============================] - 2s 304ms/step - loss: 1.4493 - categorical_accuracy: 0.4842\n",
      "Epoch 35/200\n",
      "6/6 [==============================] - 4s 625ms/step - loss: 1.4487 - categorical_accuracy: 0.4789\n",
      "Epoch 36/200\n",
      "6/6 [==============================] - 2s 362ms/step - loss: 1.4737 - categorical_accuracy: 0.4526\n",
      "Epoch 37/200\n",
      "6/6 [==============================] - 2s 301ms/step - loss: 1.6199 - categorical_accuracy: 0.4316\n",
      "Epoch 38/200\n",
      "6/6 [==============================] - 2s 366ms/step - loss: 2.0089 - categorical_accuracy: 0.3368\n",
      "Epoch 39/200\n",
      "6/6 [==============================] - 5s 908ms/step - loss: 1.9677 - categorical_accuracy: 0.3684\n",
      "Epoch 40/200\n",
      "6/6 [==============================] - 2s 353ms/step - loss: 1.6833 - categorical_accuracy: 0.4158\n",
      "Epoch 41/200\n",
      "6/6 [==============================] - 2s 310ms/step - loss: 1.4443 - categorical_accuracy: 0.5053\n",
      "Epoch 42/200\n",
      "6/6 [==============================] - 4s 752ms/step - loss: 1.3921 - categorical_accuracy: 0.5053\n",
      "Epoch 43/200\n",
      "6/6 [==============================] - 4s 681ms/step - loss: 1.3336 - categorical_accuracy: 0.5474\n",
      "Epoch 44/200\n",
      "6/6 [==============================] - 2s 275ms/step - loss: 1.3528 - categorical_accuracy: 0.5053\n",
      "Epoch 45/200\n",
      "6/6 [==============================] - 2s 284ms/step - loss: 1.3318 - categorical_accuracy: 0.5474\n",
      "Epoch 46/200\n",
      "6/6 [==============================] - 2s 280ms/step - loss: 1.3799 - categorical_accuracy: 0.5211\n",
      "Epoch 47/200\n",
      "6/6 [==============================] - 2s 296ms/step - loss: 1.2646 - categorical_accuracy: 0.5421\n",
      "Epoch 48/200\n",
      "6/6 [==============================] - 2s 294ms/step - loss: 1.1841 - categorical_accuracy: 0.6211\n",
      "Epoch 49/200\n",
      "6/6 [==============================] - 2s 326ms/step - loss: 1.1307 - categorical_accuracy: 0.5947\n",
      "Epoch 50/200\n",
      "6/6 [==============================] - 2s 289ms/step - loss: 1.0990 - categorical_accuracy: 0.6158\n",
      "Epoch 51/200\n",
      "6/6 [==============================] - 2s 289ms/step - loss: 1.1097 - categorical_accuracy: 0.5737\n",
      "Epoch 52/200\n",
      "6/6 [==============================] - 2s 308ms/step - loss: 1.0711 - categorical_accuracy: 0.6105\n",
      "Epoch 53/200\n",
      "6/6 [==============================] - 2s 321ms/step - loss: 1.0367 - categorical_accuracy: 0.6053\n",
      "Epoch 54/200\n",
      "6/6 [==============================] - 2s 314ms/step - loss: 1.0553 - categorical_accuracy: 0.6211\n",
      "Epoch 55/200\n",
      "6/6 [==============================] - 2s 338ms/step - loss: 1.0222 - categorical_accuracy: 0.6158\n",
      "Epoch 56/200\n",
      "6/6 [==============================] - 2s 306ms/step - loss: 1.1109 - categorical_accuracy: 0.5737\n",
      "Epoch 57/200\n",
      "6/6 [==============================] - 2s 319ms/step - loss: 1.2235 - categorical_accuracy: 0.5684\n",
      "Epoch 58/200\n",
      "6/6 [==============================] - 2s 293ms/step - loss: 1.9256 - categorical_accuracy: 0.3368\n",
      "Epoch 59/200\n",
      "6/6 [==============================] - 2s 352ms/step - loss: 1.8895 - categorical_accuracy: 0.3842\n",
      "Epoch 60/200\n",
      "6/6 [==============================] - 2s 286ms/step - loss: 1.8617 - categorical_accuracy: 0.3895\n",
      "Epoch 61/200\n",
      "6/6 [==============================] - 2s 302ms/step - loss: 1.7505 - categorical_accuracy: 0.3526\n",
      "Epoch 62/200\n",
      "6/6 [==============================] - 2s 323ms/step - loss: 1.3565 - categorical_accuracy: 0.5158\n",
      "Epoch 63/200\n",
      "6/6 [==============================] - 3s 617ms/step - loss: 1.1779 - categorical_accuracy: 0.5632\n",
      "Epoch 64/200\n",
      "6/6 [==============================] - 2s 282ms/step - loss: 1.1163 - categorical_accuracy: 0.6158\n",
      "Epoch 65/200\n",
      "6/6 [==============================] - 2s 284ms/step - loss: 1.0829 - categorical_accuracy: 0.6000\n",
      "Epoch 66/200\n",
      "6/6 [==============================] - 2s 285ms/step - loss: 1.1118 - categorical_accuracy: 0.5737\n",
      "Epoch 67/200\n",
      "6/6 [==============================] - 2s 280ms/step - loss: 1.2194 - categorical_accuracy: 0.5789\n",
      "Epoch 68/200\n",
      "6/6 [==============================] - 2s 281ms/step - loss: 1.1752 - categorical_accuracy: 0.5789\n",
      "Epoch 69/200\n",
      "6/6 [==============================] - 2s 296ms/step - loss: 1.0677 - categorical_accuracy: 0.6053\n",
      "Epoch 70/200\n",
      "6/6 [==============================] - 2s 294ms/step - loss: 1.0569 - categorical_accuracy: 0.5895\n",
      "Epoch 71/200\n",
      "6/6 [==============================] - 2s 302ms/step - loss: 1.0522 - categorical_accuracy: 0.6211\n",
      "Epoch 72/200\n",
      "6/6 [==============================] - 5s 864ms/step - loss: 1.0055 - categorical_accuracy: 0.6421\n",
      "Epoch 73/200\n",
      "6/6 [==============================] - 2s 270ms/step - loss: 0.9791 - categorical_accuracy: 0.6684\n",
      "Epoch 74/200\n",
      "6/6 [==============================] - 2s 283ms/step - loss: 0.9920 - categorical_accuracy: 0.6316\n",
      "Epoch 75/200\n",
      "6/6 [==============================] - 2s 276ms/step - loss: 0.9718 - categorical_accuracy: 0.6632\n",
      "Epoch 76/200\n",
      "6/6 [==============================] - 2s 277ms/step - loss: 0.9801 - categorical_accuracy: 0.6421\n",
      "Epoch 77/200\n",
      "6/6 [==============================] - 2s 280ms/step - loss: 0.9460 - categorical_accuracy: 0.6474\n",
      "Epoch 78/200\n",
      "6/6 [==============================] - 2s 284ms/step - loss: 0.9311 - categorical_accuracy: 0.6579\n",
      "Epoch 79/200\n",
      "6/6 [==============================] - 2s 280ms/step - loss: 0.9910 - categorical_accuracy: 0.6211\n",
      "Epoch 80/200\n",
      "6/6 [==============================] - 2s 281ms/step - loss: 0.9928 - categorical_accuracy: 0.6316\n",
      "Epoch 81/200\n",
      "6/6 [==============================] - 2s 292ms/step - loss: 1.0337 - categorical_accuracy: 0.6421\n",
      "Epoch 82/200\n",
      "6/6 [==============================] - 2s 298ms/step - loss: 0.9310 - categorical_accuracy: 0.6895\n",
      "Epoch 83/200\n",
      "6/6 [==============================] - 5s 821ms/step - loss: 0.9433 - categorical_accuracy: 0.6474\n",
      "Epoch 84/200\n",
      "6/6 [==============================] - 2s 269ms/step - loss: 0.8854 - categorical_accuracy: 0.6947\n",
      "Epoch 85/200\n",
      "6/6 [==============================] - 5s 851ms/step - loss: 0.9059 - categorical_accuracy: 0.6526\n",
      "Epoch 86/200\n",
      "6/6 [==============================] - 2s 262ms/step - loss: 0.9132 - categorical_accuracy: 0.6632\n",
      "Epoch 87/200\n",
      "6/6 [==============================] - 2s 286ms/step - loss: 0.9727 - categorical_accuracy: 0.6579\n",
      "Epoch 88/200\n",
      "6/6 [==============================] - 2s 279ms/step - loss: 1.0198 - categorical_accuracy: 0.6105\n",
      "Epoch 89/200\n",
      "6/6 [==============================] - 2s 273ms/step - loss: 0.9663 - categorical_accuracy: 0.6474\n",
      "Epoch 90/200\n",
      "6/6 [==============================] - 4s 800ms/step - loss: 0.9819 - categorical_accuracy: 0.6579\n",
      "Epoch 91/200\n",
      "6/6 [==============================] - 2s 260ms/step - loss: 0.9675 - categorical_accuracy: 0.6474\n",
      "Epoch 92/200\n",
      "6/6 [==============================] - 2s 270ms/step - loss: 0.9256 - categorical_accuracy: 0.6579\n",
      "Epoch 93/200\n",
      "6/6 [==============================] - 2s 274ms/step - loss: 0.8736 - categorical_accuracy: 0.6895\n",
      "Epoch 94/200\n",
      "6/6 [==============================] - 4s 810ms/step - loss: 0.8391 - categorical_accuracy: 0.7000\n",
      "Epoch 95/200\n",
      "6/6 [==============================] - 2s 257ms/step - loss: 0.9128 - categorical_accuracy: 0.6526\n",
      "Epoch 96/200\n",
      "6/6 [==============================] - 2s 275ms/step - loss: 1.0627 - categorical_accuracy: 0.6421\n",
      "Epoch 97/200\n",
      "6/6 [==============================] - 2s 278ms/step - loss: 0.9999 - categorical_accuracy: 0.6421\n",
      "Epoch 98/200\n",
      "6/6 [==============================] - 2s 283ms/step - loss: 0.9623 - categorical_accuracy: 0.6421\n",
      "Epoch 99/200\n",
      "6/6 [==============================] - 2s 275ms/step - loss: 0.9556 - categorical_accuracy: 0.6421\n",
      "Epoch 100/200\n",
      "6/6 [==============================] - 3s 615ms/step - loss: 0.9235 - categorical_accuracy: 0.6684\n",
      "Epoch 101/200\n",
      "6/6 [==============================] - 2s 270ms/step - loss: 0.8947 - categorical_accuracy: 0.6684\n",
      "Epoch 102/200\n",
      "6/6 [==============================] - 2s 270ms/step - loss: 0.8497 - categorical_accuracy: 0.6842\n",
      "Epoch 103/200\n",
      "6/6 [==============================] - 2s 294ms/step - loss: 0.8403 - categorical_accuracy: 0.6789\n",
      "Epoch 104/200\n",
      "6/6 [==============================] - 2s 278ms/step - loss: 0.8216 - categorical_accuracy: 0.6947\n",
      "Epoch 105/200\n",
      "6/6 [==============================] - 2s 280ms/step - loss: 0.8345 - categorical_accuracy: 0.7000\n",
      "Epoch 106/200\n",
      "6/6 [==============================] - 2s 287ms/step - loss: 0.9166 - categorical_accuracy: 0.7053\n",
      "Epoch 107/200\n",
      "6/6 [==============================] - 2s 326ms/step - loss: 1.0117 - categorical_accuracy: 0.6368\n",
      "Epoch 108/200\n",
      "6/6 [==============================] - 2s 280ms/step - loss: 0.9665 - categorical_accuracy: 0.6474\n",
      "Epoch 109/200\n",
      "6/6 [==============================] - 2s 281ms/step - loss: 0.9409 - categorical_accuracy: 0.6737\n",
      "Epoch 110/200\n",
      "6/6 [==============================] - 3s 617ms/step - loss: 0.8653 - categorical_accuracy: 0.6737\n",
      "Epoch 111/200\n",
      "6/6 [==============================] - 3s 613ms/step - loss: 0.8960 - categorical_accuracy: 0.6684\n",
      "Epoch 112/200\n",
      "6/6 [==============================] - 2s 257ms/step - loss: 0.9385 - categorical_accuracy: 0.6737\n",
      "Epoch 113/200\n",
      "6/6 [==============================] - 2s 280ms/step - loss: 1.0216 - categorical_accuracy: 0.6632\n",
      "Epoch 114/200\n",
      "6/6 [==============================] - 2s 271ms/step - loss: 0.9555 - categorical_accuracy: 0.6842\n",
      "Epoch 115/200\n",
      "6/6 [==============================] - 2s 274ms/step - loss: 0.8714 - categorical_accuracy: 0.6632\n",
      "Epoch 116/200\n",
      "6/6 [==============================] - 2s 285ms/step - loss: 0.9291 - categorical_accuracy: 0.6421\n",
      "Epoch 117/200\n",
      "6/6 [==============================] - 2s 311ms/step - loss: 0.8906 - categorical_accuracy: 0.6737\n",
      "Epoch 118/200\n",
      "6/6 [==============================] - 2s 298ms/step - loss: 0.8728 - categorical_accuracy: 0.6737\n",
      "Epoch 119/200\n",
      "6/6 [==============================] - 2s 282ms/step - loss: 0.8342 - categorical_accuracy: 0.6895\n",
      "Epoch 120/200\n",
      "6/6 [==============================] - 3s 558ms/step - loss: 0.8142 - categorical_accuracy: 0.6947\n",
      "Epoch 121/200\n",
      "6/6 [==============================] - 2s 268ms/step - loss: 0.8324 - categorical_accuracy: 0.6947\n",
      "Epoch 122/200\n",
      "6/6 [==============================] - 2s 272ms/step - loss: 0.8121 - categorical_accuracy: 0.7000\n",
      "Epoch 123/200\n",
      "6/6 [==============================] - 2s 281ms/step - loss: 0.8211 - categorical_accuracy: 0.6895\n",
      "Epoch 124/200\n",
      "6/6 [==============================] - 2s 290ms/step - loss: 0.8506 - categorical_accuracy: 0.6842\n",
      "Epoch 125/200\n",
      "6/6 [==============================] - 2s 282ms/step - loss: 0.8322 - categorical_accuracy: 0.6789\n",
      "Epoch 126/200\n",
      "6/6 [==============================] - 2s 281ms/step - loss: 0.8554 - categorical_accuracy: 0.6737\n",
      "Epoch 127/200\n",
      "6/6 [==============================] - 5s 849ms/step - loss: 0.8894 - categorical_accuracy: 0.6684\n",
      "Epoch 128/200\n",
      "6/6 [==============================] - 2s 258ms/step - loss: 1.0386 - categorical_accuracy: 0.6421\n",
      "Epoch 129/200\n",
      "6/6 [==============================] - 5s 862ms/step - loss: 0.9668 - categorical_accuracy: 0.6316\n",
      "Epoch 130/200\n",
      "6/6 [==============================] - 4s 734ms/step - loss: 0.9431 - categorical_accuracy: 0.6632\n",
      "Epoch 131/200\n",
      "6/6 [==============================] - 4s 729ms/step - loss: 0.8742 - categorical_accuracy: 0.6526\n",
      "Epoch 132/200\n",
      "6/6 [==============================] - 3s 562ms/step - loss: 0.8433 - categorical_accuracy: 0.6789\n",
      "Epoch 133/200\n",
      "6/6 [==============================] - 3s 560ms/step - loss: 0.8096 - categorical_accuracy: 0.7211\n",
      "Epoch 134/200\n",
      "6/6 [==============================] - 2s 262ms/step - loss: 0.8166 - categorical_accuracy: 0.6895\n",
      "Epoch 135/200\n",
      "6/6 [==============================] - 4s 729ms/step - loss: 0.8922 - categorical_accuracy: 0.6579\n",
      "Epoch 136/200\n",
      "6/6 [==============================] - 2s 257ms/step - loss: 0.8198 - categorical_accuracy: 0.6789\n",
      "Epoch 137/200\n",
      "6/6 [==============================] - 2s 274ms/step - loss: 0.8087 - categorical_accuracy: 0.7105\n",
      "Epoch 138/200\n",
      "6/6 [==============================] - 2s 305ms/step - loss: 0.8353 - categorical_accuracy: 0.6684\n",
      "Epoch 139/200\n",
      "6/6 [==============================] - 2s 294ms/step - loss: 0.8150 - categorical_accuracy: 0.6895\n",
      "Epoch 140/200\n",
      "6/6 [==============================] - 2s 303ms/step - loss: 0.8153 - categorical_accuracy: 0.6895\n",
      "Epoch 141/200\n",
      "6/6 [==============================] - 2s 294ms/step - loss: 0.8114 - categorical_accuracy: 0.6684\n",
      "Epoch 142/200\n",
      "6/6 [==============================] - 2s 296ms/step - loss: 0.8034 - categorical_accuracy: 0.7053\n",
      "Epoch 143/200\n",
      "6/6 [==============================] - 2s 313ms/step - loss: 0.8105 - categorical_accuracy: 0.6947\n",
      "Epoch 144/200\n",
      "6/6 [==============================] - 2s 284ms/step - loss: 0.8169 - categorical_accuracy: 0.6842\n",
      "Epoch 145/200\n",
      "6/6 [==============================] - 2s 296ms/step - loss: 0.8065 - categorical_accuracy: 0.6947\n",
      "Epoch 146/200\n",
      "6/6 [==============================] - 4s 689ms/step - loss: 0.8105 - categorical_accuracy: 0.6947\n",
      "Epoch 147/200\n",
      "6/6 [==============================] - 2s 266ms/step - loss: 0.7969 - categorical_accuracy: 0.6947\n",
      "Epoch 148/200\n",
      "6/6 [==============================] - 2s 288ms/step - loss: 0.7882 - categorical_accuracy: 0.7263\n",
      "Epoch 149/200\n",
      "6/6 [==============================] - 2s 299ms/step - loss: 0.7882 - categorical_accuracy: 0.7105\n",
      "Epoch 150/200\n",
      "6/6 [==============================] - 2s 284ms/step - loss: 0.7842 - categorical_accuracy: 0.7211\n",
      "Epoch 151/200\n",
      "6/6 [==============================] - 2s 276ms/step - loss: 0.8037 - categorical_accuracy: 0.6842\n",
      "Epoch 152/200\n",
      "6/6 [==============================] - 2s 280ms/step - loss: 0.8311 - categorical_accuracy: 0.6947\n",
      "Epoch 153/200\n",
      "6/6 [==============================] - 2s 305ms/step - loss: 0.8309 - categorical_accuracy: 0.6684\n",
      "Epoch 154/200\n",
      "6/6 [==============================] - 4s 740ms/step - loss: 0.7972 - categorical_accuracy: 0.7053\n",
      "Epoch 155/200\n",
      "6/6 [==============================] - 4s 648ms/step - loss: 0.8108 - categorical_accuracy: 0.7105\n",
      "Epoch 156/200\n",
      "6/6 [==============================] - 2s 264ms/step - loss: 1.1222 - categorical_accuracy: 0.6421\n",
      "Epoch 157/200\n",
      "6/6 [==============================] - 2s 286ms/step - loss: 1.1663 - categorical_accuracy: 0.6158\n",
      "Epoch 158/200\n",
      "6/6 [==============================] - 2s 277ms/step - loss: 1.0666 - categorical_accuracy: 0.6526\n",
      "Epoch 159/200\n",
      "6/6 [==============================] - 2s 291ms/step - loss: 1.0233 - categorical_accuracy: 0.6316\n",
      "Epoch 160/200\n",
      "6/6 [==============================] - 5s 847ms/step - loss: 1.0034 - categorical_accuracy: 0.6526\n",
      "Epoch 161/200\n",
      "6/6 [==============================] - 2s 261ms/step - loss: 0.9470 - categorical_accuracy: 0.6895\n",
      "Epoch 162/200\n",
      "6/6 [==============================] - 2s 281ms/step - loss: 0.9095 - categorical_accuracy: 0.6526\n",
      "Epoch 163/200\n",
      "6/6 [==============================] - 2s 290ms/step - loss: 0.9143 - categorical_accuracy: 0.6474\n",
      "Epoch 164/200\n",
      "6/6 [==============================] - 2s 304ms/step - loss: 0.9227 - categorical_accuracy: 0.6684\n",
      "Epoch 165/200\n",
      "6/6 [==============================] - 2s 297ms/step - loss: 0.9020 - categorical_accuracy: 0.6842\n",
      "Epoch 166/200\n",
      "6/6 [==============================] - 2s 293ms/step - loss: 0.8972 - categorical_accuracy: 0.6579\n",
      "Epoch 167/200\n",
      "6/6 [==============================] - 2s 309ms/step - loss: 0.8908 - categorical_accuracy: 0.7105\n",
      "Epoch 168/200\n",
      "6/6 [==============================] - 2s 322ms/step - loss: 0.8868 - categorical_accuracy: 0.6632\n",
      "Epoch 169/200\n",
      "6/6 [==============================] - 2s 351ms/step - loss: 0.8675 - categorical_accuracy: 0.6789\n",
      "Epoch 170/200\n",
      "6/6 [==============================] - 3s 522ms/step - loss: 0.8537 - categorical_accuracy: 0.6789\n",
      "Epoch 171/200\n",
      "6/6 [==============================] - 3s 430ms/step - loss: 0.8404 - categorical_accuracy: 0.7105\n",
      "Epoch 172/200\n",
      "6/6 [==============================] - 2s 366ms/step - loss: 0.8675 - categorical_accuracy: 0.6895\n",
      "Epoch 173/200\n",
      "6/6 [==============================] - 4s 621ms/step - loss: 0.9000 - categorical_accuracy: 0.6895\n",
      "Epoch 174/200\n",
      "6/6 [==============================] - 2s 358ms/step - loss: 0.9375 - categorical_accuracy: 0.6526\n",
      "Epoch 175/200\n",
      "6/6 [==============================] - 2s 377ms/step - loss: 1.0477 - categorical_accuracy: 0.6632\n",
      "Epoch 176/200\n",
      "6/6 [==============================] - 2s 387ms/step - loss: 1.0111 - categorical_accuracy: 0.6737\n",
      "Epoch 177/200\n",
      "6/6 [==============================] - 2s 379ms/step - loss: 0.9731 - categorical_accuracy: 0.6632\n",
      "Epoch 178/200\n",
      "6/6 [==============================] - 3s 421ms/step - loss: 0.9237 - categorical_accuracy: 0.6579\n",
      "Epoch 179/200\n",
      "6/6 [==============================] - 5s 935ms/step - loss: 0.9141 - categorical_accuracy: 0.6526\n",
      "Epoch 180/200\n",
      "6/6 [==============================] - 3s 572ms/step - loss: 0.9735 - categorical_accuracy: 0.6316\n",
      "Epoch 181/200\n",
      "6/6 [==============================] - 3s 433ms/step - loss: 1.0047 - categorical_accuracy: 0.6421\n",
      "Epoch 182/200\n",
      "6/6 [==============================] - 3s 432ms/step - loss: 0.8632 - categorical_accuracy: 0.6842\n",
      "Epoch 183/200\n",
      "6/6 [==============================] - 4s 632ms/step - loss: 0.8676 - categorical_accuracy: 0.6895\n",
      "Epoch 184/200\n",
      "6/6 [==============================] - 3s 430ms/step - loss: 0.9455 - categorical_accuracy: 0.6737\n",
      "Epoch 185/200\n",
      "6/6 [==============================] - 6s 1s/step - loss: 0.8961 - categorical_accuracy: 0.6632\n",
      "Epoch 186/200\n",
      "6/6 [==============================] - 3s 445ms/step - loss: 0.9069 - categorical_accuracy: 0.6737\n",
      "Epoch 187/200\n",
      "6/6 [==============================] - 3s 413ms/step - loss: 0.8441 - categorical_accuracy: 0.6684\n",
      "Epoch 188/200\n",
      "6/6 [==============================] - 2s 402ms/step - loss: 0.8821 - categorical_accuracy: 0.6684\n",
      "Epoch 189/200\n",
      "6/6 [==============================] - 3s 410ms/step - loss: 0.8286 - categorical_accuracy: 0.7000\n",
      "Epoch 190/200\n",
      "6/6 [==============================] - 3s 419ms/step - loss: 0.8073 - categorical_accuracy: 0.6842\n",
      "Epoch 191/200\n",
      "6/6 [==============================] - 3s 447ms/step - loss: 0.8072 - categorical_accuracy: 0.7053\n",
      "Epoch 192/200\n",
      "6/6 [==============================] - 3s 459ms/step - loss: 0.8071 - categorical_accuracy: 0.6842\n",
      "Epoch 193/200\n",
      "6/6 [==============================] - 5s 886ms/step - loss: 0.7943 - categorical_accuracy: 0.6895\n",
      "Epoch 194/200\n",
      "6/6 [==============================] - 2s 413ms/step - loss: 0.7933 - categorical_accuracy: 0.7105\n",
      "Epoch 195/200\n",
      "6/6 [==============================] - 2s 407ms/step - loss: 0.8168 - categorical_accuracy: 0.7105\n",
      "Epoch 196/200\n",
      "6/6 [==============================] - 3s 487ms/step - loss: 0.7974 - categorical_accuracy: 0.7158\n",
      "Epoch 197/200\n",
      "6/6 [==============================] - 3s 413ms/step - loss: 0.7822 - categorical_accuracy: 0.7105\n",
      "Epoch 198/200\n",
      "6/6 [==============================] - 4s 721ms/step - loss: 0.7896 - categorical_accuracy: 0.7158\n",
      "Epoch 199/200\n",
      "6/6 [==============================] - 3s 530ms/step - loss: 0.7923 - categorical_accuracy: 0.6947\n",
      "Epoch 200/200\n",
      "6/6 [==============================] - 2s 406ms/step - loss: 0.7983 - categorical_accuracy: 0.7158\n"
     ]
    },
    {
     "data": {
      "text/plain": [
       "<keras.src.callbacks.History at 0x144e4e150>"
      ]
     },
     "execution_count": 45,
     "metadata": {},
     "output_type": "execute_result"
    }
   ],
   "source": [
    "model.fit(X_train, y_train, epochs=200, callbacks=[tb_callback])"
   ]
  },
  {
   "cell_type": "code",
   "execution_count": 72,
   "metadata": {},
   "outputs": [
    {
     "name": "stdout",
     "output_type": "stream",
     "text": [
      "Model: \"sequential\"\n",
      "_________________________________________________________________\n",
      " Layer (type)                Output Shape              Param #   \n",
      "=================================================================\n",
      " lstm (LSTM)                 (None, 30, 128)           916992    \n",
      "                                                                 \n",
      " dropout (Dropout)           (None, 30, 128)           0         \n",
      "                                                                 \n",
      " lstm_1 (LSTM)               (None, 30, 256)           394240    \n",
      "                                                                 \n",
      " dropout_1 (Dropout)         (None, 30, 256)           0         \n",
      "                                                                 \n",
      " lstm_2 (LSTM)               (None, 64)                82176     \n",
      "                                                                 \n",
      " dense (Dense)               (None, 128)               8320      \n",
      "                                                                 \n",
      " dropout_2 (Dropout)         (None, 128)               0         \n",
      "                                                                 \n",
      " dense_1 (Dense)             (None, 64)                8256      \n",
      "                                                                 \n",
      " dense_2 (Dense)             (None, 25)                1625      \n",
      "                                                                 \n",
      "=================================================================\n",
      "Total params: 1411609 (5.38 MB)\n",
      "Trainable params: 1411609 (5.38 MB)\n",
      "Non-trainable params: 0 (0.00 Byte)\n",
      "_________________________________________________________________\n"
     ]
    }
   ],
   "source": [
    "model.summary()"
   ]
  },
  {
   "cell_type": "markdown",
   "metadata": {},
   "source": [
    "# 8. Make Predictions"
   ]
  },
  {
   "cell_type": "code",
   "execution_count": 96,
   "metadata": {},
   "outputs": [
    {
     "name": "stdout",
     "output_type": "stream",
     "text": [
      "1/1 [==============================] - 0s 158ms/step\n"
     ]
    }
   ],
   "source": [
    "res = model.predict(X_test)"
   ]
  },
  {
   "cell_type": "code",
   "execution_count": 97,
   "metadata": {},
   "outputs": [
    {
     "data": {
      "text/plain": [
       "'but'"
      ]
     },
     "execution_count": 97,
     "metadata": {},
     "output_type": "execute_result"
    }
   ],
   "source": [
    "actions[np.argmax(res[4])]"
   ]
  },
  {
   "cell_type": "code",
   "execution_count": 98,
   "metadata": {},
   "outputs": [
    {
     "data": {
      "text/plain": [
       "'diferrent'"
      ]
     },
     "execution_count": 98,
     "metadata": {},
     "output_type": "execute_result"
    }
   ],
   "source": [
    "actions[np.argmax(y_test[4])]"
   ]
  },
  {
   "cell_type": "markdown",
   "metadata": {},
   "source": [
    "# 9. Save Weights"
   ]
  },
  {
   "cell_type": "code",
   "execution_count": 64,
   "metadata": {},
   "outputs": [
    {
     "name": "stderr",
     "output_type": "stream",
     "text": [
      "/Library/Frameworks/Python.framework/Versions/3.11/lib/python3.11/site-packages/keras/src/engine/training.py:3103: UserWarning: You are saving your model as an HDF5 file via `model.save()`. This file format is considered legacy. We recommend using instead the native Keras format, e.g. `model.save('my_model.keras')`.\n",
      "  saving_api.save_model(\n"
     ]
    }
   ],
   "source": [
    "model.save('ugsign.h5')"
   ]
  },
  {
   "cell_type": "code",
   "execution_count": 217,
   "metadata": {},
   "outputs": [],
   "source": [
    "del model"
   ]
  },
  {
   "cell_type": "code",
   "execution_count": 15,
   "metadata": {},
   "outputs": [],
   "source": [
    "model.load_weights('action.h5')"
   ]
  },
  {
   "cell_type": "markdown",
   "metadata": {},
   "source": [
    "# 10. Evaluation using Confusion Matrix and Accuracy"
   ]
  },
  {
   "cell_type": "code",
   "execution_count": 16,
   "metadata": {},
   "outputs": [],
   "source": [
    "from sklearn.metrics import multilabel_confusion_matrix, accuracy_score"
   ]
  },
  {
   "cell_type": "code",
   "execution_count": 90,
   "metadata": {},
   "outputs": [],
   "source": [
    "yhat = model.predict(X_test)"
   ]
  },
  {
   "cell_type": "code",
   "execution_count": 91,
   "metadata": {},
   "outputs": [],
   "source": [
    "ytrue = np.argmax(y_test, axis=1).tolist()\n",
    "yhat = np.argmax(yhat, axis=1).tolist()"
   ]
  },
  {
   "cell_type": "code",
   "execution_count": 92,
   "metadata": {},
   "outputs": [
    {
     "data": {
      "text/plain": [
       "array([[[2, 0],\n",
       "        [0, 3]],\n",
       "\n",
       "       [[4, 0],\n",
       "        [0, 1]],\n",
       "\n",
       "       [[4, 0],\n",
       "        [0, 1]]], dtype=int64)"
      ]
     },
     "execution_count": 92,
     "metadata": {},
     "output_type": "execute_result"
    }
   ],
   "source": [
    "multilabel_confusion_matrix(ytrue, yhat)"
   ]
  },
  {
   "cell_type": "code",
   "execution_count": 93,
   "metadata": {},
   "outputs": [
    {
     "data": {
      "text/plain": [
       "1.0"
      ]
     },
     "execution_count": 93,
     "metadata": {},
     "output_type": "execute_result"
    }
   ],
   "source": [
    "accuracy_score(ytrue, yhat)"
   ]
  },
  {
   "cell_type": "markdown",
   "metadata": {},
   "source": [
    "# 11. Test in Real Time"
   ]
  },
  {
   "cell_type": "code",
   "execution_count": 101,
   "metadata": {},
   "outputs": [
    {
     "name": "stderr",
     "output_type": "stream",
     "text": [
      "I0000 00:00:1711219871.902028       1 gl_context.cc:344] GL version: 2.1 (2.1 INTEL-20.2.44), renderer: Intel(R) UHD Graphics 617\n"
     ]
    },
    {
     "name": "stdout",
     "output_type": "stream",
     "text": [
      "<class 'mediapipe.python.solution_base.SolutionOutputs'>\n",
      "<class 'mediapipe.python.solution_base.SolutionOutputs'>\n",
      "<class 'mediapipe.python.solution_base.SolutionOutputs'>\n",
      "<class 'mediapipe.python.solution_base.SolutionOutputs'>\n",
      "<class 'mediapipe.python.solution_base.SolutionOutputs'>\n",
      "<class 'mediapipe.python.solution_base.SolutionOutputs'>\n",
      "<class 'mediapipe.python.solution_base.SolutionOutputs'>\n",
      "<class 'mediapipe.python.solution_base.SolutionOutputs'>\n",
      "<class 'mediapipe.python.solution_base.SolutionOutputs'>\n",
      "<class 'mediapipe.python.solution_base.SolutionOutputs'>\n",
      "<class 'mediapipe.python.solution_base.SolutionOutputs'>\n",
      "<class 'mediapipe.python.solution_base.SolutionOutputs'>\n",
      "<class 'mediapipe.python.solution_base.SolutionOutputs'>\n",
      "<class 'mediapipe.python.solution_base.SolutionOutputs'>\n",
      "<class 'mediapipe.python.solution_base.SolutionOutputs'>\n",
      "<class 'mediapipe.python.solution_base.SolutionOutputs'>\n",
      "<class 'mediapipe.python.solution_base.SolutionOutputs'>\n",
      "<class 'mediapipe.python.solution_base.SolutionOutputs'>\n",
      "<class 'mediapipe.python.solution_base.SolutionOutputs'>\n",
      "<class 'mediapipe.python.solution_base.SolutionOutputs'>\n",
      "<class 'mediapipe.python.solution_base.SolutionOutputs'>\n",
      "<class 'mediapipe.python.solution_base.SolutionOutputs'>\n",
      "<class 'mediapipe.python.solution_base.SolutionOutputs'>\n",
      "<class 'mediapipe.python.solution_base.SolutionOutputs'>\n",
      "<class 'mediapipe.python.solution_base.SolutionOutputs'>\n",
      "<class 'mediapipe.python.solution_base.SolutionOutputs'>\n",
      "<class 'mediapipe.python.solution_base.SolutionOutputs'>\n",
      "<class 'mediapipe.python.solution_base.SolutionOutputs'>\n",
      "<class 'mediapipe.python.solution_base.SolutionOutputs'>\n",
      "<class 'mediapipe.python.solution_base.SolutionOutputs'>\n",
      "1/1 [==============================] - 0s 64ms/step\n",
      "ways\n",
      "<class 'mediapipe.python.solution_base.SolutionOutputs'>\n",
      "1/1 [==============================] - 0s 57ms/step\n",
      "ways\n",
      "<class 'mediapipe.python.solution_base.SolutionOutputs'>\n",
      "1/1 [==============================] - 0s 59ms/step\n",
      "ways\n",
      "<class 'mediapipe.python.solution_base.SolutionOutputs'>\n",
      "1/1 [==============================] - 0s 52ms/step\n",
      "ways\n",
      "<class 'mediapipe.python.solution_base.SolutionOutputs'>\n",
      "1/1 [==============================] - 0s 131ms/step\n",
      "ways\n",
      "<class 'mediapipe.python.solution_base.SolutionOutputs'>\n",
      "1/1 [==============================] - 0s 53ms/step\n",
      "ways\n",
      "<class 'mediapipe.python.solution_base.SolutionOutputs'>\n",
      "1/1 [==============================] - 0s 57ms/step\n",
      "ways\n",
      "<class 'mediapipe.python.solution_base.SolutionOutputs'>\n",
      "1/1 [==============================] - 0s 56ms/step\n",
      "ways\n",
      "<class 'mediapipe.python.solution_base.SolutionOutputs'>\n",
      "1/1 [==============================] - 0s 55ms/step\n",
      "ways\n",
      "<class 'mediapipe.python.solution_base.SolutionOutputs'>\n",
      "1/1 [==============================] - 0s 108ms/step\n",
      "ways\n",
      "<class 'mediapipe.python.solution_base.SolutionOutputs'>\n",
      "1/1 [==============================] - 0s 54ms/step\n",
      "ways\n",
      "<class 'mediapipe.python.solution_base.SolutionOutputs'>\n",
      "1/1 [==============================] - 0s 52ms/step\n",
      "ways\n",
      "<class 'mediapipe.python.solution_base.SolutionOutputs'>\n",
      "1/1 [==============================] - 0s 52ms/step\n",
      "ways\n",
      "<class 'mediapipe.python.solution_base.SolutionOutputs'>\n",
      "1/1 [==============================] - 0s 56ms/step\n",
      "ways\n",
      "<class 'mediapipe.python.solution_base.SolutionOutputs'>\n",
      "1/1 [==============================] - 0s 53ms/step\n",
      "ways\n",
      "<class 'mediapipe.python.solution_base.SolutionOutputs'>\n",
      "1/1 [==============================] - 0s 55ms/step\n",
      "ways\n",
      "<class 'mediapipe.python.solution_base.SolutionOutputs'>\n",
      "1/1 [==============================] - 0s 59ms/step\n",
      "ways\n",
      "<class 'mediapipe.python.solution_base.SolutionOutputs'>\n",
      "1/1 [==============================] - 0s 51ms/step\n",
      "ways\n",
      "<class 'mediapipe.python.solution_base.SolutionOutputs'>\n",
      "1/1 [==============================] - 0s 72ms/step\n",
      "ways\n",
      "<class 'mediapipe.python.solution_base.SolutionOutputs'>\n",
      "1/1 [==============================] - 0s 153ms/step\n",
      "ways\n",
      "<class 'mediapipe.python.solution_base.SolutionOutputs'>\n",
      "1/1 [==============================] - 0s 123ms/step\n",
      "ways\n",
      "<class 'mediapipe.python.solution_base.SolutionOutputs'>\n",
      "1/1 [==============================] - 0s 84ms/step\n",
      "ways\n",
      "<class 'mediapipe.python.solution_base.SolutionOutputs'>\n",
      "1/1 [==============================] - 0s 83ms/step\n",
      "ways\n",
      "<class 'mediapipe.python.solution_base.SolutionOutputs'>\n",
      "1/1 [==============================] - 0s 135ms/step\n",
      "ways\n",
      "<class 'mediapipe.python.solution_base.SolutionOutputs'>\n",
      "1/1 [==============================] - 0s 93ms/step\n",
      "ways\n",
      "<class 'mediapipe.python.solution_base.SolutionOutputs'>\n",
      "1/1 [==============================] - 0s 49ms/step\n",
      "ways\n",
      "<class 'mediapipe.python.solution_base.SolutionOutputs'>\n",
      "1/1 [==============================] - 0s 55ms/step\n",
      "ways\n",
      "<class 'mediapipe.python.solution_base.SolutionOutputs'>\n",
      "1/1 [==============================] - 0s 52ms/step\n",
      "ways\n",
      "<class 'mediapipe.python.solution_base.SolutionOutputs'>\n",
      "1/1 [==============================] - 0s 53ms/step\n",
      "ways\n",
      "<class 'mediapipe.python.solution_base.SolutionOutputs'>\n",
      "1/1 [==============================] - 0s 55ms/step\n",
      "ways\n",
      "<class 'mediapipe.python.solution_base.SolutionOutputs'>\n",
      "1/1 [==============================] - 0s 57ms/step\n",
      "ways\n",
      "<class 'mediapipe.python.solution_base.SolutionOutputs'>\n",
      "1/1 [==============================] - 0s 58ms/step\n",
      "ways\n",
      "<class 'mediapipe.python.solution_base.SolutionOutputs'>\n",
      "1/1 [==============================] - 0s 57ms/step\n",
      "ways\n",
      "<class 'mediapipe.python.solution_base.SolutionOutputs'>\n",
      "1/1 [==============================] - 0s 55ms/step\n",
      "ways\n",
      "<class 'mediapipe.python.solution_base.SolutionOutputs'>\n",
      "1/1 [==============================] - 0s 54ms/step\n",
      "ways\n",
      "<class 'mediapipe.python.solution_base.SolutionOutputs'>\n",
      "1/1 [==============================] - 0s 52ms/step\n",
      "ways\n",
      "<class 'mediapipe.python.solution_base.SolutionOutputs'>\n",
      "1/1 [==============================] - 0s 62ms/step\n",
      "ways\n",
      "<class 'mediapipe.python.solution_base.SolutionOutputs'>\n",
      "1/1 [==============================] - 0s 54ms/step\n",
      "ways\n",
      "<class 'mediapipe.python.solution_base.SolutionOutputs'>\n",
      "1/1 [==============================] - 0s 56ms/step\n",
      "ways\n",
      "<class 'mediapipe.python.solution_base.SolutionOutputs'>\n",
      "1/1 [==============================] - 0s 53ms/step\n",
      "ways\n",
      "<class 'mediapipe.python.solution_base.SolutionOutputs'>\n",
      "1/1 [==============================] - 0s 56ms/step\n",
      "ways\n",
      "<class 'mediapipe.python.solution_base.SolutionOutputs'>\n",
      "1/1 [==============================] - 0s 57ms/step\n",
      "ways\n",
      "<class 'mediapipe.python.solution_base.SolutionOutputs'>\n",
      "1/1 [==============================] - 0s 58ms/step\n",
      "ways\n",
      "<class 'mediapipe.python.solution_base.SolutionOutputs'>\n",
      "1/1 [==============================] - 0s 53ms/step\n",
      "ways\n",
      "<class 'mediapipe.python.solution_base.SolutionOutputs'>\n",
      "1/1 [==============================] - 0s 53ms/step\n",
      "ways\n",
      "<class 'mediapipe.python.solution_base.SolutionOutputs'>\n",
      "1/1 [==============================] - 0s 54ms/step\n",
      "ways\n",
      "<class 'mediapipe.python.solution_base.SolutionOutputs'>\n",
      "1/1 [==============================] - 0s 89ms/step\n",
      "ways\n",
      "<class 'mediapipe.python.solution_base.SolutionOutputs'>\n",
      "1/1 [==============================] - 0s 59ms/step\n",
      "ways\n",
      "<class 'mediapipe.python.solution_base.SolutionOutputs'>\n",
      "1/1 [==============================] - 0s 51ms/step\n",
      "ways\n",
      "<class 'mediapipe.python.solution_base.SolutionOutputs'>\n",
      "1/1 [==============================] - 0s 54ms/step\n",
      "ways\n",
      "<class 'mediapipe.python.solution_base.SolutionOutputs'>\n",
      "1/1 [==============================] - 0s 52ms/step\n",
      "ways\n",
      "<class 'mediapipe.python.solution_base.SolutionOutputs'>\n",
      "1/1 [==============================] - 0s 59ms/step\n",
      "ways\n",
      "<class 'mediapipe.python.solution_base.SolutionOutputs'>\n",
      "1/1 [==============================] - 0s 53ms/step\n",
      "ways\n",
      "<class 'mediapipe.python.solution_base.SolutionOutputs'>\n",
      "1/1 [==============================] - 0s 56ms/step\n",
      "ways\n",
      "<class 'mediapipe.python.solution_base.SolutionOutputs'>\n",
      "1/1 [==============================] - 0s 58ms/step\n",
      "ways\n",
      "<class 'mediapipe.python.solution_base.SolutionOutputs'>\n",
      "1/1 [==============================] - 0s 56ms/step\n",
      "ways\n",
      "<class 'mediapipe.python.solution_base.SolutionOutputs'>\n",
      "1/1 [==============================] - 0s 56ms/step\n",
      "ways\n",
      "<class 'mediapipe.python.solution_base.SolutionOutputs'>\n",
      "1/1 [==============================] - 0s 56ms/step\n",
      "ways\n",
      "<class 'mediapipe.python.solution_base.SolutionOutputs'>\n",
      "1/1 [==============================] - 0s 128ms/step\n",
      "ways\n",
      "<class 'mediapipe.python.solution_base.SolutionOutputs'>\n",
      "1/1 [==============================] - 0s 90ms/step\n",
      "ways\n",
      "<class 'mediapipe.python.solution_base.SolutionOutputs'>\n",
      "1/1 [==============================] - 0s 104ms/step\n",
      "ways\n",
      "<class 'mediapipe.python.solution_base.SolutionOutputs'>\n",
      "1/1 [==============================] - 0s 89ms/step\n",
      "ways\n",
      "<class 'mediapipe.python.solution_base.SolutionOutputs'>\n",
      "1/1 [==============================] - 0s 110ms/step\n",
      "ways\n",
      "<class 'mediapipe.python.solution_base.SolutionOutputs'>\n",
      "1/1 [==============================] - 0s 119ms/step\n",
      "ways\n",
      "<class 'mediapipe.python.solution_base.SolutionOutputs'>\n",
      "1/1 [==============================] - 0s 74ms/step\n",
      "ways\n",
      "<class 'mediapipe.python.solution_base.SolutionOutputs'>\n",
      "1/1 [==============================] - 0s 68ms/step\n",
      "ways\n",
      "<class 'mediapipe.python.solution_base.SolutionOutputs'>\n",
      "1/1 [==============================] - 0s 57ms/step\n",
      "ways\n",
      "<class 'mediapipe.python.solution_base.SolutionOutputs'>\n",
      "1/1 [==============================] - 0s 80ms/step\n",
      "ways\n",
      "<class 'mediapipe.python.solution_base.SolutionOutputs'>\n",
      "1/1 [==============================] - 0s 64ms/step\n",
      "ways\n",
      "<class 'mediapipe.python.solution_base.SolutionOutputs'>\n",
      "1/1 [==============================] - 0s 53ms/step\n",
      "ways\n",
      "<class 'mediapipe.python.solution_base.SolutionOutputs'>\n",
      "1/1 [==============================] - 0s 59ms/step\n",
      "ways\n",
      "<class 'mediapipe.python.solution_base.SolutionOutputs'>\n",
      "1/1 [==============================] - 0s 59ms/step\n",
      "ways\n",
      "<class 'mediapipe.python.solution_base.SolutionOutputs'>\n",
      "1/1 [==============================] - 0s 56ms/step\n",
      "ways\n",
      "<class 'mediapipe.python.solution_base.SolutionOutputs'>\n",
      "1/1 [==============================] - 0s 58ms/step\n",
      "ways\n",
      "<class 'mediapipe.python.solution_base.SolutionOutputs'>\n",
      "1/1 [==============================] - 0s 81ms/step\n",
      "ways\n",
      "<class 'mediapipe.python.solution_base.SolutionOutputs'>\n",
      "1/1 [==============================] - 0s 102ms/step\n",
      "ways\n",
      "<class 'mediapipe.python.solution_base.SolutionOutputs'>\n",
      "1/1 [==============================] - 0s 116ms/step\n",
      "ways\n",
      "<class 'mediapipe.python.solution_base.SolutionOutputs'>\n",
      "1/1 [==============================] - 0s 72ms/step\n",
      "ways\n",
      "<class 'mediapipe.python.solution_base.SolutionOutputs'>\n",
      "1/1 [==============================] - 0s 128ms/step\n",
      "ways\n",
      "<class 'mediapipe.python.solution_base.SolutionOutputs'>\n",
      "1/1 [==============================] - 0s 58ms/step\n",
      "ways\n",
      "<class 'mediapipe.python.solution_base.SolutionOutputs'>\n",
      "1/1 [==============================] - 0s 54ms/step\n",
      "ways\n",
      "<class 'mediapipe.python.solution_base.SolutionOutputs'>\n",
      "1/1 [==============================] - 0s 105ms/step\n",
      "ways\n",
      "<class 'mediapipe.python.solution_base.SolutionOutputs'>\n",
      "1/1 [==============================] - 0s 133ms/step\n",
      "ways\n",
      "<class 'mediapipe.python.solution_base.SolutionOutputs'>\n",
      "1/1 [==============================] - 0s 75ms/step\n",
      "ways\n"
     ]
    },
    {
     "ename": "KeyboardInterrupt",
     "evalue": "",
     "output_type": "error",
     "traceback": [
      "\u001b[0;31m---------------------------------------------------------------------------\u001b[0m",
      "\u001b[0;31mKeyboardInterrupt\u001b[0m                         Traceback (most recent call last)",
      "Cell \u001b[0;32mIn[101], line 15\u001b[0m\n\u001b[1;32m     12\u001b[0m ret, frame \u001b[38;5;241m=\u001b[39m cap\u001b[38;5;241m.\u001b[39mread()\n\u001b[1;32m     14\u001b[0m \u001b[38;5;66;03m# Make detections\u001b[39;00m\n\u001b[0;32m---> 15\u001b[0m image, results \u001b[38;5;241m=\u001b[39m \u001b[43mmediapipe_detection\u001b[49m\u001b[43m(\u001b[49m\u001b[43mframe\u001b[49m\u001b[43m,\u001b[49m\u001b[43m \u001b[49m\u001b[43mholistic\u001b[49m\u001b[43m)\u001b[49m\n\u001b[1;32m     16\u001b[0m \u001b[38;5;28mprint\u001b[39m(results)\n\u001b[1;32m     18\u001b[0m \u001b[38;5;66;03m# Draw landmarks\u001b[39;00m\n",
      "Cell \u001b[0;32mIn[3], line 4\u001b[0m, in \u001b[0;36mmediapipe_detection\u001b[0;34m(image, model)\u001b[0m\n\u001b[1;32m      2\u001b[0m image \u001b[38;5;241m=\u001b[39m cv2\u001b[38;5;241m.\u001b[39mcvtColor(image, cv2\u001b[38;5;241m.\u001b[39mCOLOR_BGR2RGB) \u001b[38;5;66;03m# COLOR CONVERSION BGR 2 RGB\u001b[39;00m\n\u001b[1;32m      3\u001b[0m image\u001b[38;5;241m.\u001b[39mflags\u001b[38;5;241m.\u001b[39mwriteable \u001b[38;5;241m=\u001b[39m \u001b[38;5;28;01mFalse\u001b[39;00m                  \u001b[38;5;66;03m# Image is no longer writeable\u001b[39;00m\n\u001b[0;32m----> 4\u001b[0m results \u001b[38;5;241m=\u001b[39m \u001b[43mmodel\u001b[49m\u001b[38;5;241;43m.\u001b[39;49m\u001b[43mprocess\u001b[49m\u001b[43m(\u001b[49m\u001b[43mimage\u001b[49m\u001b[43m)\u001b[49m                 \u001b[38;5;66;03m# Make prediction\u001b[39;00m\n\u001b[1;32m      5\u001b[0m image\u001b[38;5;241m.\u001b[39mflags\u001b[38;5;241m.\u001b[39mwriteable \u001b[38;5;241m=\u001b[39m \u001b[38;5;28;01mTrue\u001b[39;00m                   \u001b[38;5;66;03m# Image is now writeable \u001b[39;00m\n\u001b[1;32m      6\u001b[0m image \u001b[38;5;241m=\u001b[39m cv2\u001b[38;5;241m.\u001b[39mcvtColor(image, cv2\u001b[38;5;241m.\u001b[39mCOLOR_RGB2BGR) \u001b[38;5;66;03m# COLOR COVERSION RGB 2 BGR\u001b[39;00m\n",
      "File \u001b[0;32m/Library/Frameworks/Python.framework/Versions/3.11/lib/python3.11/site-packages/mediapipe/python/solutions/holistic.py:160\u001b[0m, in \u001b[0;36mHolistic.process\u001b[0;34m(self, image)\u001b[0m\n\u001b[1;32m    136\u001b[0m \u001b[38;5;28;01mdef\u001b[39;00m \u001b[38;5;21mprocess\u001b[39m(\u001b[38;5;28mself\u001b[39m, image: np\u001b[38;5;241m.\u001b[39mndarray) \u001b[38;5;241m-\u001b[39m\u001b[38;5;241m>\u001b[39m NamedTuple:\n\u001b[1;32m    137\u001b[0m \u001b[38;5;250m  \u001b[39m\u001b[38;5;124;03m\"\"\"Processes an RGB image and returns the pose landmarks, left and right hand landmarks, and face landmarks on the most prominent person detected.\u001b[39;00m\n\u001b[1;32m    138\u001b[0m \n\u001b[1;32m    139\u001b[0m \u001b[38;5;124;03m  Args:\u001b[39;00m\n\u001b[0;32m   (...)\u001b[0m\n\u001b[1;32m    157\u001b[0m \u001b[38;5;124;03m         \"enable_segmentation\" is set to true.\u001b[39;00m\n\u001b[1;32m    158\u001b[0m \u001b[38;5;124;03m  \"\"\"\u001b[39;00m\n\u001b[0;32m--> 160\u001b[0m   results \u001b[38;5;241m=\u001b[39m \u001b[38;5;28;43msuper\u001b[39;49m\u001b[43m(\u001b[49m\u001b[43m)\u001b[49m\u001b[38;5;241;43m.\u001b[39;49m\u001b[43mprocess\u001b[49m\u001b[43m(\u001b[49m\u001b[43minput_data\u001b[49m\u001b[38;5;241;43m=\u001b[39;49m\u001b[43m{\u001b[49m\u001b[38;5;124;43m'\u001b[39;49m\u001b[38;5;124;43mimage\u001b[39;49m\u001b[38;5;124;43m'\u001b[39;49m\u001b[43m:\u001b[49m\u001b[43m \u001b[49m\u001b[43mimage\u001b[49m\u001b[43m}\u001b[49m\u001b[43m)\u001b[49m\n\u001b[1;32m    161\u001b[0m   \u001b[38;5;28;01mif\u001b[39;00m results\u001b[38;5;241m.\u001b[39mpose_landmarks:  \u001b[38;5;66;03m# pytype: disable=attribute-error\u001b[39;00m\n\u001b[1;32m    162\u001b[0m     \u001b[38;5;28;01mfor\u001b[39;00m landmark \u001b[38;5;129;01min\u001b[39;00m results\u001b[38;5;241m.\u001b[39mpose_landmarks\u001b[38;5;241m.\u001b[39mlandmark:  \u001b[38;5;66;03m# pytype: disable=attribute-error\u001b[39;00m\n",
      "File \u001b[0;32m/Library/Frameworks/Python.framework/Versions/3.11/lib/python3.11/site-packages/mediapipe/python/solution_base.py:372\u001b[0m, in \u001b[0;36mSolutionBase.process\u001b[0;34m(self, input_data)\u001b[0m\n\u001b[1;32m    366\u001b[0m   \u001b[38;5;28;01melse\u001b[39;00m:\n\u001b[1;32m    367\u001b[0m     \u001b[38;5;28mself\u001b[39m\u001b[38;5;241m.\u001b[39m_graph\u001b[38;5;241m.\u001b[39madd_packet_to_input_stream(\n\u001b[1;32m    368\u001b[0m         stream\u001b[38;5;241m=\u001b[39mstream_name,\n\u001b[1;32m    369\u001b[0m         packet\u001b[38;5;241m=\u001b[39m\u001b[38;5;28mself\u001b[39m\u001b[38;5;241m.\u001b[39m_make_packet(input_stream_type,\n\u001b[1;32m    370\u001b[0m                                  data)\u001b[38;5;241m.\u001b[39mat(\u001b[38;5;28mself\u001b[39m\u001b[38;5;241m.\u001b[39m_simulated_timestamp))\n\u001b[0;32m--> 372\u001b[0m \u001b[38;5;28;43mself\u001b[39;49m\u001b[38;5;241;43m.\u001b[39;49m\u001b[43m_graph\u001b[49m\u001b[38;5;241;43m.\u001b[39;49m\u001b[43mwait_until_idle\u001b[49m\u001b[43m(\u001b[49m\u001b[43m)\u001b[49m\n\u001b[1;32m    373\u001b[0m \u001b[38;5;66;03m# Create a NamedTuple object where the field names are mapping to the graph\u001b[39;00m\n\u001b[1;32m    374\u001b[0m \u001b[38;5;66;03m# output stream names.\u001b[39;00m\n\u001b[1;32m    375\u001b[0m solution_outputs \u001b[38;5;241m=\u001b[39m collections\u001b[38;5;241m.\u001b[39mnamedtuple(\n\u001b[1;32m    376\u001b[0m     \u001b[38;5;124m'\u001b[39m\u001b[38;5;124mSolutionOutputs\u001b[39m\u001b[38;5;124m'\u001b[39m, \u001b[38;5;28mself\u001b[39m\u001b[38;5;241m.\u001b[39m_output_stream_type_info\u001b[38;5;241m.\u001b[39mkeys())\n",
      "\u001b[0;31mKeyboardInterrupt\u001b[0m: "
     ]
    }
   ],
   "source": [
    "# 1. New detection variables\n",
    "sequence = []\n",
    "sentence = []\n",
    "threshold = 0.4\n",
    "\n",
    "cap = cv2.VideoCapture(0)\n",
    "# Set mediapipe model \n",
    "with mp_holistic.Holistic(min_detection_confidence=0.5, min_tracking_confidence=0.5) as holistic:\n",
    "    while cap.isOpened():\n",
    "\n",
    "        # Read feed\n",
    "        ret, frame = cap.read()\n",
    "\n",
    "        # Make detections\n",
    "        image, results = mediapipe_detection(frame, holistic)\n",
    "        print(results)\n",
    "        \n",
    "        # Draw landmarks\n",
    "        draw_styled_landmarks(image, results)\n",
    "        \n",
    "        # 2. Prediction logic\n",
    "        keypoints = extract_keypoints(results)\n",
    "        sequence.insert(0,keypoints)\n",
    "#         sequence = sequence[:30]\n",
    "#        sequence.append(keypoints)\n",
    "        sequence = sequence[-30:]\n",
    "        \n",
    "        if len(sequence) == 30:\n",
    "            res = model.predict(np.expand_dims(sequence, axis=0))[0]\n",
    "            print(actions[np.argmax(res)])\n",
    "            \n",
    "            \n",
    "        #3. Viz logic\n",
    "            if res[np.argmax(res)] > threshold: \n",
    "                if len(sentence) > 0: \n",
    "                    if actions[np.argmax(res)] != sentence[-1]:\n",
    "                        sentence.append(actions[np.argmax(res)])\n",
    "                else:\n",
    "                    sentence.append(actions[np.argmax(res)])\n",
    "\n",
    "            if len(sentence) > 5: \n",
    "                sentence = sentence[-5:]\n",
    "\n",
    "    \n",
    "            \n",
    "        cv2.rectangle(image, (0,0), (640, 40), (245, 117, 16), -1)\n",
    "        cv2.putText(image, ' '.join(sentence), (3,30), \n",
    "                       cv2.FONT_HERSHEY_SIMPLEX, 1, (255, 255, 255), 2, cv2.LINE_AA)\n",
    "        \n",
    "        # Show to screen\n",
    "        cv2.imshow('OpenCV Feed', image)\n",
    "\n",
    "        # Break gracefully\n",
    "        if cv2.waitKey(10) & 0xFF == ord('q'):\n",
    "            break\n",
    "    cap.release()\n",
    "    cv2.destroyAllWindows()"
   ]
  },
  {
   "cell_type": "code",
   "execution_count": 103,
   "metadata": {},
   "outputs": [],
   "source": [
    "cap.release()\n",
    "cv2.destroyAllWindows()"
   ]
  }
 ],
 "metadata": {
  "kernelspec": {
   "display_name": "Python 3",
   "language": "python",
   "name": "python3"
  },
  "language_info": {
   "codemirror_mode": {
    "name": "ipython",
    "version": 3
   },
   "file_extension": ".py",
   "mimetype": "text/x-python",
   "name": "python",
   "nbconvert_exporter": "python",
   "pygments_lexer": "ipython3",
   "version": "3.11.4"
  }
 },
 "nbformat": 4,
 "nbformat_minor": 2
}
