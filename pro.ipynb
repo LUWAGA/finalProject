{
 "cells": [
  {
   "cell_type": "markdown",
   "metadata": {},
   "source": [
    "# 1. Import and Install Dependencies"
   ]
  },
  {
   "cell_type": "code",
   "execution_count": 1,
   "metadata": {},
   "outputs": [
    {
     "name": "stderr",
     "output_type": "stream",
     "text": [
      "2024-03-23 19:33:06.278938: I tensorflow/core/platform/cpu_feature_guard.cc:182] This TensorFlow binary is optimized to use available CPU instructions in performance-critical operations.\n",
      "To enable the following instructions: AVX2 FMA, in other operations, rebuild TensorFlow with the appropriate compiler flags.\n"
     ]
    }
   ],
   "source": [
    "import cv2\n",
    "import numpy as np\n",
    "import os\n",
    "from matplotlib import pyplot as plt\n",
    "import time\n",
    "import mediapipe as mp"
   ]
  },
  {
   "cell_type": "markdown",
   "metadata": {},
   "source": [
    "# 2. Keypoints using MP Holistic"
   ]
  },
  {
   "cell_type": "code",
   "execution_count": 3,
   "metadata": {},
   "outputs": [],
   "source": [
    "mp_holistic = mp.solutions.holistic # Holistic model\n",
    "mp_drawing = mp.solutions.drawing_utils # Drawing utilities"
   ]
  },
  {
   "cell_type": "code",
   "execution_count": 4,
   "metadata": {},
   "outputs": [],
   "source": [
    "def mediapipe_detection(image, model):\n",
    "    image = cv2.cvtColor(image, cv2.COLOR_BGR2RGB) # COLOR CONVERSION BGR 2 RGB\n",
    "    image.flags.writeable = False                  # Image is no longer writeable\n",
    "    results = model.process(image)                 # Make prediction\n",
    "    image.flags.writeable = True                   # Image is now writeable \n",
    "    image = cv2.cvtColor(image, cv2.COLOR_RGB2BGR) # COLOR COVERSION RGB 2 BGR\n",
    "    return image, results"
   ]
  },
  {
   "cell_type": "code",
   "execution_count": 5,
   "metadata": {},
   "outputs": [],
   "source": [
    "def draw_landmarks(image, results):\n",
    "    mp_drawing.draw_landmarks(image, results.face_landmarks, mp_holistic.FACEMESH_TESSELATION) # Draw face connections\n",
    "    mp_drawing.draw_landmarks(image, results.pose_landmarks, mp_holistic.POSE_CONNECTIONS) # Draw pose connections\n",
    "    mp_drawing.draw_landmarks(image, results.left_hand_landmarks, mp_holistic.HAND_CONNECTIONS) # Draw left hand connections\n",
    "    mp_drawing.draw_landmarks(image, results.right_hand_landmarks, mp_holistic.HAND_CONNECTIONS) # Draw right hand connections"
   ]
  },
  {
   "cell_type": "code",
   "execution_count": 6,
   "metadata": {},
   "outputs": [],
   "source": [
    "def draw_styled_landmarks(image, results):\n",
    "    # Draw face connections\n",
    "    mp_drawing.draw_landmarks(image, results.face_landmarks, mp_holistic.FACEMESH_TESSELATION, \n",
    "                             mp_drawing.DrawingSpec(color=(80,110,10), thickness=1, circle_radius=1), \n",
    "                             mp_drawing.DrawingSpec(color=(80,256,121), thickness=1, circle_radius=1)\n",
    "                             ) \n",
    "    # Draw pose connections\n",
    "    mp_drawing.draw_landmarks(image, results.pose_landmarks, mp_holistic.POSE_CONNECTIONS,\n",
    "                             mp_drawing.DrawingSpec(color=(80,22,10), thickness=2, circle_radius=4), \n",
    "                             mp_drawing.DrawingSpec(color=(80,44,121), thickness=2, circle_radius=2)\n",
    "                             ) \n",
    "    # Draw left hand connections\n",
    "    mp_drawing.draw_landmarks(image, results.left_hand_landmarks, mp_holistic.HAND_CONNECTIONS, \n",
    "                             mp_drawing.DrawingSpec(color=(121,22,76), thickness=2, circle_radius=4), \n",
    "                             mp_drawing.DrawingSpec(color=(121,44,250), thickness=2, circle_radius=2)\n",
    "                             ) \n",
    "    # Draw right hand connections  \n",
    "    mp_drawing.draw_landmarks(image, results.right_hand_landmarks, mp_holistic.HAND_CONNECTIONS, \n",
    "                             mp_drawing.DrawingSpec(color=(245,117,66), thickness=2, circle_radius=4), \n",
    "                             mp_drawing.DrawingSpec(color=(245,66,230), thickness=2, circle_radius=2)\n",
    "                             ) "
   ]
  },
  {
   "cell_type": "code",
   "execution_count": 7,
   "metadata": {
    "collapsed": true
   },
   "outputs": [
    {
     "name": "stderr",
     "output_type": "stream",
     "text": [
      "WARNING: All log messages before absl::InitializeLog() is called are written to STDERR\n",
      "I0000 00:00:1711115467.947199       1 gl_context.cc:344] GL version: 2.1 (2.1 INTEL-20.2.44), renderer: Intel(R) UHD Graphics 617\n",
      "INFO: Created TensorFlow Lite XNNPACK delegate for CPU.\n"
     ]
    },
    {
     "name": "stdout",
     "output_type": "stream",
     "text": [
      "<class 'mediapipe.python.solution_base.SolutionOutputs'>\n",
      "<class 'mediapipe.python.solution_base.SolutionOutputs'>\n",
      "<class 'mediapipe.python.solution_base.SolutionOutputs'>\n",
      "<class 'mediapipe.python.solution_base.SolutionOutputs'>\n",
      "<class 'mediapipe.python.solution_base.SolutionOutputs'>\n",
      "<class 'mediapipe.python.solution_base.SolutionOutputs'>\n",
      "<class 'mediapipe.python.solution_base.SolutionOutputs'>\n",
      "<class 'mediapipe.python.solution_base.SolutionOutputs'>\n",
      "<class 'mediapipe.python.solution_base.SolutionOutputs'>\n",
      "<class 'mediapipe.python.solution_base.SolutionOutputs'>\n",
      "<class 'mediapipe.python.solution_base.SolutionOutputs'>\n",
      "<class 'mediapipe.python.solution_base.SolutionOutputs'>\n",
      "<class 'mediapipe.python.solution_base.SolutionOutputs'>\n",
      "<class 'mediapipe.python.solution_base.SolutionOutputs'>\n",
      "<class 'mediapipe.python.solution_base.SolutionOutputs'>\n",
      "<class 'mediapipe.python.solution_base.SolutionOutputs'>\n",
      "<class 'mediapipe.python.solution_base.SolutionOutputs'>\n",
      "<class 'mediapipe.python.solution_base.SolutionOutputs'>\n",
      "<class 'mediapipe.python.solution_base.SolutionOutputs'>\n",
      "<class 'mediapipe.python.solution_base.SolutionOutputs'>\n",
      "<class 'mediapipe.python.solution_base.SolutionOutputs'>\n",
      "<class 'mediapipe.python.solution_base.SolutionOutputs'>\n",
      "<class 'mediapipe.python.solution_base.SolutionOutputs'>\n",
      "<class 'mediapipe.python.solution_base.SolutionOutputs'>\n",
      "<class 'mediapipe.python.solution_base.SolutionOutputs'>\n",
      "<class 'mediapipe.python.solution_base.SolutionOutputs'>\n",
      "<class 'mediapipe.python.solution_base.SolutionOutputs'>\n",
      "<class 'mediapipe.python.solution_base.SolutionOutputs'>\n",
      "<class 'mediapipe.python.solution_base.SolutionOutputs'>\n",
      "<class 'mediapipe.python.solution_base.SolutionOutputs'>\n",
      "<class 'mediapipe.python.solution_base.SolutionOutputs'>\n",
      "<class 'mediapipe.python.solution_base.SolutionOutputs'>\n",
      "<class 'mediapipe.python.solution_base.SolutionOutputs'>\n",
      "<class 'mediapipe.python.solution_base.SolutionOutputs'>\n",
      "<class 'mediapipe.python.solution_base.SolutionOutputs'>\n",
      "<class 'mediapipe.python.solution_base.SolutionOutputs'>\n",
      "<class 'mediapipe.python.solution_base.SolutionOutputs'>\n",
      "<class 'mediapipe.python.solution_base.SolutionOutputs'>\n",
      "<class 'mediapipe.python.solution_base.SolutionOutputs'>\n",
      "<class 'mediapipe.python.solution_base.SolutionOutputs'>\n",
      "<class 'mediapipe.python.solution_base.SolutionOutputs'>\n",
      "<class 'mediapipe.python.solution_base.SolutionOutputs'>\n",
      "<class 'mediapipe.python.solution_base.SolutionOutputs'>\n",
      "<class 'mediapipe.python.solution_base.SolutionOutputs'>\n",
      "<class 'mediapipe.python.solution_base.SolutionOutputs'>\n",
      "<class 'mediapipe.python.solution_base.SolutionOutputs'>\n",
      "<class 'mediapipe.python.solution_base.SolutionOutputs'>\n",
      "<class 'mediapipe.python.solution_base.SolutionOutputs'>\n",
      "<class 'mediapipe.python.solution_base.SolutionOutputs'>\n",
      "<class 'mediapipe.python.solution_base.SolutionOutputs'>\n",
      "<class 'mediapipe.python.solution_base.SolutionOutputs'>\n",
      "<class 'mediapipe.python.solution_base.SolutionOutputs'>\n",
      "<class 'mediapipe.python.solution_base.SolutionOutputs'>\n",
      "<class 'mediapipe.python.solution_base.SolutionOutputs'>\n",
      "<class 'mediapipe.python.solution_base.SolutionOutputs'>\n",
      "<class 'mediapipe.python.solution_base.SolutionOutputs'>\n",
      "<class 'mediapipe.python.solution_base.SolutionOutputs'>\n",
      "<class 'mediapipe.python.solution_base.SolutionOutputs'>\n",
      "<class 'mediapipe.python.solution_base.SolutionOutputs'>\n",
      "<class 'mediapipe.python.solution_base.SolutionOutputs'>\n",
      "<class 'mediapipe.python.solution_base.SolutionOutputs'>\n",
      "<class 'mediapipe.python.solution_base.SolutionOutputs'>\n",
      "<class 'mediapipe.python.solution_base.SolutionOutputs'>\n",
      "<class 'mediapipe.python.solution_base.SolutionOutputs'>\n",
      "<class 'mediapipe.python.solution_base.SolutionOutputs'>\n",
      "<class 'mediapipe.python.solution_base.SolutionOutputs'>\n",
      "<class 'mediapipe.python.solution_base.SolutionOutputs'>\n",
      "<class 'mediapipe.python.solution_base.SolutionOutputs'>\n",
      "<class 'mediapipe.python.solution_base.SolutionOutputs'>\n",
      "<class 'mediapipe.python.solution_base.SolutionOutputs'>\n",
      "<class 'mediapipe.python.solution_base.SolutionOutputs'>\n",
      "<class 'mediapipe.python.solution_base.SolutionOutputs'>\n",
      "<class 'mediapipe.python.solution_base.SolutionOutputs'>\n",
      "<class 'mediapipe.python.solution_base.SolutionOutputs'>\n",
      "<class 'mediapipe.python.solution_base.SolutionOutputs'>\n",
      "<class 'mediapipe.python.solution_base.SolutionOutputs'>\n",
      "<class 'mediapipe.python.solution_base.SolutionOutputs'>\n",
      "<class 'mediapipe.python.solution_base.SolutionOutputs'>\n"
     ]
    },
    {
     "ename": "KeyboardInterrupt",
     "evalue": "",
     "output_type": "error",
     "traceback": [
      "\u001b[0;31m---------------------------------------------------------------------------\u001b[0m",
      "\u001b[0;31mKeyboardInterrupt\u001b[0m                         Traceback (most recent call last)",
      "Cell \u001b[0;32mIn[7], line 10\u001b[0m\n\u001b[1;32m      7\u001b[0m ret, frame \u001b[38;5;241m=\u001b[39m cap\u001b[38;5;241m.\u001b[39mread()\n\u001b[1;32m      9\u001b[0m \u001b[38;5;66;03m# Make detections\u001b[39;00m\n\u001b[0;32m---> 10\u001b[0m image, results \u001b[38;5;241m=\u001b[39m \u001b[43mmediapipe_detection\u001b[49m\u001b[43m(\u001b[49m\u001b[43mframe\u001b[49m\u001b[43m,\u001b[49m\u001b[43m \u001b[49m\u001b[43mholistic\u001b[49m\u001b[43m)\u001b[49m\n\u001b[1;32m     11\u001b[0m \u001b[38;5;28mprint\u001b[39m(results)\n\u001b[1;32m     13\u001b[0m \u001b[38;5;66;03m# Draw landmarks\u001b[39;00m\n",
      "Cell \u001b[0;32mIn[4], line 4\u001b[0m, in \u001b[0;36mmediapipe_detection\u001b[0;34m(image, model)\u001b[0m\n\u001b[1;32m      2\u001b[0m image \u001b[38;5;241m=\u001b[39m cv2\u001b[38;5;241m.\u001b[39mcvtColor(image, cv2\u001b[38;5;241m.\u001b[39mCOLOR_BGR2RGB) \u001b[38;5;66;03m# COLOR CONVERSION BGR 2 RGB\u001b[39;00m\n\u001b[1;32m      3\u001b[0m image\u001b[38;5;241m.\u001b[39mflags\u001b[38;5;241m.\u001b[39mwriteable \u001b[38;5;241m=\u001b[39m \u001b[38;5;28;01mFalse\u001b[39;00m                  \u001b[38;5;66;03m# Image is no longer writeable\u001b[39;00m\n\u001b[0;32m----> 4\u001b[0m results \u001b[38;5;241m=\u001b[39m \u001b[43mmodel\u001b[49m\u001b[38;5;241;43m.\u001b[39;49m\u001b[43mprocess\u001b[49m\u001b[43m(\u001b[49m\u001b[43mimage\u001b[49m\u001b[43m)\u001b[49m                 \u001b[38;5;66;03m# Make prediction\u001b[39;00m\n\u001b[1;32m      5\u001b[0m image\u001b[38;5;241m.\u001b[39mflags\u001b[38;5;241m.\u001b[39mwriteable \u001b[38;5;241m=\u001b[39m \u001b[38;5;28;01mTrue\u001b[39;00m                   \u001b[38;5;66;03m# Image is now writeable \u001b[39;00m\n\u001b[1;32m      6\u001b[0m image \u001b[38;5;241m=\u001b[39m cv2\u001b[38;5;241m.\u001b[39mcvtColor(image, cv2\u001b[38;5;241m.\u001b[39mCOLOR_RGB2BGR) \u001b[38;5;66;03m# COLOR COVERSION RGB 2 BGR\u001b[39;00m\n",
      "File \u001b[0;32m/Library/Frameworks/Python.framework/Versions/3.11/lib/python3.11/site-packages/mediapipe/python/solutions/holistic.py:160\u001b[0m, in \u001b[0;36mHolistic.process\u001b[0;34m(self, image)\u001b[0m\n\u001b[1;32m    136\u001b[0m \u001b[38;5;28;01mdef\u001b[39;00m \u001b[38;5;21mprocess\u001b[39m(\u001b[38;5;28mself\u001b[39m, image: np\u001b[38;5;241m.\u001b[39mndarray) \u001b[38;5;241m-\u001b[39m\u001b[38;5;241m>\u001b[39m NamedTuple:\n\u001b[1;32m    137\u001b[0m \u001b[38;5;250m  \u001b[39m\u001b[38;5;124;03m\"\"\"Processes an RGB image and returns the pose landmarks, left and right hand landmarks, and face landmarks on the most prominent person detected.\u001b[39;00m\n\u001b[1;32m    138\u001b[0m \n\u001b[1;32m    139\u001b[0m \u001b[38;5;124;03m  Args:\u001b[39;00m\n\u001b[0;32m   (...)\u001b[0m\n\u001b[1;32m    157\u001b[0m \u001b[38;5;124;03m         \"enable_segmentation\" is set to true.\u001b[39;00m\n\u001b[1;32m    158\u001b[0m \u001b[38;5;124;03m  \"\"\"\u001b[39;00m\n\u001b[0;32m--> 160\u001b[0m   results \u001b[38;5;241m=\u001b[39m \u001b[38;5;28;43msuper\u001b[39;49m\u001b[43m(\u001b[49m\u001b[43m)\u001b[49m\u001b[38;5;241;43m.\u001b[39;49m\u001b[43mprocess\u001b[49m\u001b[43m(\u001b[49m\u001b[43minput_data\u001b[49m\u001b[38;5;241;43m=\u001b[39;49m\u001b[43m{\u001b[49m\u001b[38;5;124;43m'\u001b[39;49m\u001b[38;5;124;43mimage\u001b[39;49m\u001b[38;5;124;43m'\u001b[39;49m\u001b[43m:\u001b[49m\u001b[43m \u001b[49m\u001b[43mimage\u001b[49m\u001b[43m}\u001b[49m\u001b[43m)\u001b[49m\n\u001b[1;32m    161\u001b[0m   \u001b[38;5;28;01mif\u001b[39;00m results\u001b[38;5;241m.\u001b[39mpose_landmarks:  \u001b[38;5;66;03m# pytype: disable=attribute-error\u001b[39;00m\n\u001b[1;32m    162\u001b[0m     \u001b[38;5;28;01mfor\u001b[39;00m landmark \u001b[38;5;129;01min\u001b[39;00m results\u001b[38;5;241m.\u001b[39mpose_landmarks\u001b[38;5;241m.\u001b[39mlandmark:  \u001b[38;5;66;03m# pytype: disable=attribute-error\u001b[39;00m\n",
      "File \u001b[0;32m/Library/Frameworks/Python.framework/Versions/3.11/lib/python3.11/site-packages/mediapipe/python/solution_base.py:372\u001b[0m, in \u001b[0;36mSolutionBase.process\u001b[0;34m(self, input_data)\u001b[0m\n\u001b[1;32m    366\u001b[0m   \u001b[38;5;28;01melse\u001b[39;00m:\n\u001b[1;32m    367\u001b[0m     \u001b[38;5;28mself\u001b[39m\u001b[38;5;241m.\u001b[39m_graph\u001b[38;5;241m.\u001b[39madd_packet_to_input_stream(\n\u001b[1;32m    368\u001b[0m         stream\u001b[38;5;241m=\u001b[39mstream_name,\n\u001b[1;32m    369\u001b[0m         packet\u001b[38;5;241m=\u001b[39m\u001b[38;5;28mself\u001b[39m\u001b[38;5;241m.\u001b[39m_make_packet(input_stream_type,\n\u001b[1;32m    370\u001b[0m                                  data)\u001b[38;5;241m.\u001b[39mat(\u001b[38;5;28mself\u001b[39m\u001b[38;5;241m.\u001b[39m_simulated_timestamp))\n\u001b[0;32m--> 372\u001b[0m \u001b[38;5;28;43mself\u001b[39;49m\u001b[38;5;241;43m.\u001b[39;49m\u001b[43m_graph\u001b[49m\u001b[38;5;241;43m.\u001b[39;49m\u001b[43mwait_until_idle\u001b[49m\u001b[43m(\u001b[49m\u001b[43m)\u001b[49m\n\u001b[1;32m    373\u001b[0m \u001b[38;5;66;03m# Create a NamedTuple object where the field names are mapping to the graph\u001b[39;00m\n\u001b[1;32m    374\u001b[0m \u001b[38;5;66;03m# output stream names.\u001b[39;00m\n\u001b[1;32m    375\u001b[0m solution_outputs \u001b[38;5;241m=\u001b[39m collections\u001b[38;5;241m.\u001b[39mnamedtuple(\n\u001b[1;32m    376\u001b[0m     \u001b[38;5;124m'\u001b[39m\u001b[38;5;124mSolutionOutputs\u001b[39m\u001b[38;5;124m'\u001b[39m, \u001b[38;5;28mself\u001b[39m\u001b[38;5;241m.\u001b[39m_output_stream_type_info\u001b[38;5;241m.\u001b[39mkeys())\n",
      "\u001b[0;31mKeyboardInterrupt\u001b[0m: "
     ]
    }
   ],
   "source": [
    "cap = cv2.VideoCapture(0)\n",
    "# Set mediapipe model \n",
    "with mp_holistic.Holistic(min_detection_confidence=0.5, min_tracking_confidence=0.5) as holistic:\n",
    "    while cap.isOpened():\n",
    "\n",
    "        # Read feed\n",
    "        ret, frame = cap.read()\n",
    "\n",
    "        # Make detections\n",
    "        image, results = mediapipe_detection(frame, holistic)\n",
    "        print(results)\n",
    "        \n",
    "        # Draw landmarks\n",
    "        draw_styled_landmarks(image, results)\n",
    "\n",
    "        # Show to screen\n",
    "        cv2.imshow('OpenCV Feed', image)\n",
    "\n",
    "        # Break gracefully\n",
    "        if cv2.waitKey(10) & 0xFF == ord('q'):\n",
    "            break\n",
    "    cap.release()\n",
    "    cv2.destroyAllWindows()"
   ]
  },
  {
   "cell_type": "code",
   "execution_count": 8,
   "metadata": {},
   "outputs": [
    {
     "data": {
      "text/plain": [
       "21"
      ]
     },
     "execution_count": 8,
     "metadata": {},
     "output_type": "execute_result"
    }
   ],
   "source": [
    "len(results.left_hand_landmarks.landmark)"
   ]
  },
  {
   "cell_type": "code",
   "execution_count": 9,
   "metadata": {},
   "outputs": [
    {
     "data": {
      "text/plain": [
       "mediapipe.python.solution_base.SolutionOutputs"
      ]
     },
     "execution_count": 9,
     "metadata": {},
     "output_type": "execute_result"
    }
   ],
   "source": [
    "results"
   ]
  },
  {
   "cell_type": "code",
   "execution_count": 10,
   "metadata": {},
   "outputs": [],
   "source": [
    "draw_landmarks(frame, results)"
   ]
  },
  {
   "cell_type": "code",
   "execution_count": 12,
   "metadata": {},
   "outputs": [
    {
     "data": {
      "text/plain": [
       "<matplotlib.image.AxesImage at 0x147782a10>"
      ]
     },
     "execution_count": 12,
     "metadata": {},
     "output_type": "execute_result"
    },
    {
     "data": {
      "image/png": "[encoded data removed]",
      "text/plain": [
       "<Figure size 640x480 with 1 Axes>"
      ]
     },
     "metadata": {},
     "output_type": "display_data"
    }
   ],
   "source": [
    "plt.imshow(cv2.cvtColor(frame, cv2.COLOR_BGR2RGB))"
   ]
  },
  {
   "cell_type": "markdown",
   "metadata": {},
   "source": [
    "# 3. Extract Keypoint Values"
   ]
  },
  {
   "cell_type": "code",
   "execution_count": 13,
   "metadata": {},
   "outputs": [
    {
     "data": {
      "text/plain": [
       "21"
      ]
     },
     "execution_count": 13,
     "metadata": {},
     "output_type": "execute_result"
    }
   ],
   "source": [
    "len(results.left_hand_landmarks.landmark)"
   ]
  },
  {
   "cell_type": "code",
   "execution_count": 14,
   "metadata": {},
   "outputs": [],
   "source": [
    "pose = []\n",
    "for res in results.pose_landmarks.landmark:\n",
    "    test = np.array([res.x, res.y, res.z, res.visibility])\n",
    "    pose.append(test)"
   ]
  },
  {
   "cell_type": "code",
   "execution_count": 15,
   "metadata": {},
   "outputs": [],
   "source": [
    "pose = np.array([[res.x, res.y, res.z, res.visibility] for res in results.pose_landmarks.landmark]).flatten() if results.pose_landmarks else np.zeros(132)\n",
    "face = np.array([[res.x, res.y, res.z] for res in results.face_landmarks.landmark]).flatten() if results.face_landmarks else np.zeros(1404)\n",
    "lh = np.array([[res.x, res.y, res.z] for res in results.left_hand_landmarks.landmark]).flatten() if results.left_hand_landmarks else np.zeros(21*3)\n",
    "rh = np.array([[res.x, res.y, res.z] for res in results.right_hand_landmarks.landmark]).flatten() if results.right_hand_landmarks else np.zeros(21*3)"
   ]
  },
  {
   "cell_type": "code",
   "execution_count": 16,
   "metadata": {},
   "outputs": [],
   "source": [
    "def extract_keypoints(results):\n",
    "    pose = np.array([[res.x, res.y, res.z, res.visibility] for res in results.pose_landmarks.landmark]).flatten() if results.pose_landmarks else np.zeros(33*4)\n",
    "    face = np.array([[res.x, res.y, res.z] for res in results.face_landmarks.landmark]).flatten() if results.face_landmarks else np.zeros(468*3)\n",
    "    lh = np.array([[res.x, res.y, res.z] for res in results.left_hand_landmarks.landmark]).flatten() if results.left_hand_landmarks else np.zeros(21*3)\n",
    "    rh = np.array([[res.x, res.y, res.z] for res in results.right_hand_landmarks.landmark]).flatten() if results.right_hand_landmarks else np.zeros(21*3)\n",
    "    return np.concatenate([pose, face, lh, rh])"
   ]
  },
  {
   "cell_type": "code",
   "execution_count": 17,
   "metadata": {},
   "outputs": [],
   "source": [
    "result_test = extract_keypoints(results)"
   ]
  },
  {
   "cell_type": "code",
   "execution_count": 18,
   "metadata": {},
   "outputs": [
    {
     "data": {
      "text/plain": [
       "array([ 0.4553884 ,  0.58197165, -0.55597389, ...,  0.        ,\n",
       "        0.        ,  0.        ])"
      ]
     },
     "execution_count": 18,
     "metadata": {},
     "output_type": "execute_result"
    }
   ],
   "source": [
    "result_test"
   ]
  },
  {
   "cell_type": "code",
   "execution_count": 19,
   "metadata": {},
   "outputs": [
    {
     "data": {
      "text/plain": [
       "1662"
      ]
     },
     "execution_count": 19,
     "metadata": {},
     "output_type": "execute_result"
    }
   ],
   "source": [
    "468*3+33*4+21*3+21*3"
   ]
  },
  {
   "cell_type": "code",
   "execution_count": 20,
   "metadata": {},
   "outputs": [],
   "source": [
    "np.save('0', result_test)"
   ]
  },
  {
   "cell_type": "code",
   "execution_count": 21,
   "metadata": {},
   "outputs": [
    {
     "data": {
      "text/plain": [
       "array([ 0.4553884 ,  0.58197165, -0.55597389, ...,  0.        ,\n",
       "        0.        ,  0.        ])"
      ]
     },
     "execution_count": 21,
     "metadata": {},
     "output_type": "execute_result"
    }
   ],
   "source": [
    "np.load('0.npy')"
   ]
  },
  {
   "cell_type": "markdown",
   "metadata": {},
   "source": [
    "# 4. Setup Folders for Collection"
   ]
  },
  {
   "cell_type": "code",
   "execution_count": 22,
   "metadata": {},
   "outputs": [
    {
     "name": "stdout",
     "output_type": "stream",
     "text": [
      "Actions Detected:\n",
      "['parents' 'have' 'other' 'family' 'ugandan' 'ways' 'hello'\n",
      " 'sign language' 'users' 'numbers' 'children' 'but' 'here' 'is' 'members'\n",
      " 'diferrent' 'start' 'guardians' 'our' 'regions' 'as follows' 'follows'\n",
      " 'now' 'topic' 'and']\n"
     ]
    }
   ],
   "source": [
    "# Path for exported data, numpy arrays\n",
    "DATA_PATH = os.path.join('MP_DATA') \n",
    "\n",
    "# Scan the data folder to collect unique action labels\n",
    "actions = set()\n",
    "for filename in os.listdir(DATA_PATH):\n",
    "    if filename.endswith('.mp4'):\n",
    "        action = filename.split('.')[0]  # Extract the action label from the filename\n",
    "        actions.add(action)\n",
    "\n",
    "# Convert the set of unique action labels to a NumPy array\n",
    "actions = np.array(list(actions))\n",
    "\n",
    "# 1 video worth of data\n",
    "no_sequences = 1\n",
    "\n",
    "# Videos are going to be 30 frames in length\n",
    "sequence_length = 30\n",
    "\n",
    "\n",
    "print(\"Actions Detected:\")\n",
    "print(actions)"
   ]
  },
  {
   "cell_type": "code",
   "execution_count": 23,
   "metadata": {},
   "outputs": [],
   "source": [
    "for action in actions: \n",
    "    for sequence in range(no_sequences):\n",
    "        try: \n",
    "            os.makedirs(os.path.join(DATA_PATH, action, str(sequence)))\n",
    "        except:\n",
    "            pass"
   ]
  },
  {
   "cell_type": "markdown",
   "metadata": {},
   "source": [
    "# 5. Collect Keypoint Values for Training and Testing"
   ]
  },
  {
   "cell_type": "code",
   "execution_count": 24,
   "metadata": {},
   "outputs": [
    {
     "name": "stderr",
     "output_type": "stream",
     "text": [
      "I0000 00:00:1711115556.779028       1 gl_context.cc:344] GL version: 2.1 (2.1 INTEL-20.2.44), renderer: Intel(R) UHD Graphics 617\n"
     ]
    },
    {
     "name": "stdout",
     "output_type": "stream",
     "text": [
      "Error: Failed to read frame from the video capture MP_DATA/family.mp4\n"
     ]
    },
    {
     "name": "stderr",
     "output_type": "stream",
     "text": [
      "I0000 00:00:1711115638.824693       1 gl_context.cc:344] GL version: 2.1 (2.1 INTEL-20.2.44), renderer: Intel(R) UHD Graphics 617\n"
     ]
    },
    {
     "name": "stdout",
     "output_type": "stream",
     "text": [
      "Error: Failed to read frame from the video capture MP_DATA/and.mp4\n"
     ]
    },
    {
     "name": "stderr",
     "output_type": "stream",
     "text": [
      "I0000 00:00:1711115696.889679       1 gl_context.cc:344] GL version: 2.1 (2.1 INTEL-20.2.44), renderer: Intel(R) UHD Graphics 617\n",
      "I0000 00:00:1711115836.112799       1 gl_context.cc:344] GL version: 2.1 (2.1 INTEL-20.2.44), renderer: Intel(R) UHD Graphics 617\n"
     ]
    },
    {
     "name": "stdout",
     "output_type": "stream",
     "text": [
      "Error: Failed to read frame from the video capture MP_DATA/but.mp4\n"
     ]
    },
    {
     "name": "stderr",
     "output_type": "stream",
     "text": [
      "I0000 00:00:1711115889.419328       1 gl_context.cc:344] GL version: 2.1 (2.1 INTEL-20.2.44), renderer: Intel(R) UHD Graphics 617\n",
      "I0000 00:00:1711116024.762780       1 gl_context.cc:344] GL version: 2.1 (2.1 INTEL-20.2.44), renderer: Intel(R) UHD Graphics 617\n",
      "I0000 00:00:1711116158.226048       1 gl_context.cc:344] GL version: 2.1 (2.1 INTEL-20.2.44), renderer: Intel(R) UHD Graphics 617\n",
      "I0000 00:00:1711116291.785047       1 gl_context.cc:344] GL version: 2.1 (2.1 INTEL-20.2.44), renderer: Intel(R) UHD Graphics 617\n",
      "I0000 00:00:1711116426.001295       1 gl_context.cc:344] GL version: 2.1 (2.1 INTEL-20.2.44), renderer: Intel(R) UHD Graphics 617\n"
     ]
    },
    {
     "name": "stdout",
     "output_type": "stream",
     "text": [
      "Error: Failed to read frame from the video capture MP_DATA/have.mp4\n"
     ]
    },
    {
     "name": "stderr",
     "output_type": "stream",
     "text": [
      "I0000 00:00:1711116525.126477       1 gl_context.cc:344] GL version: 2.1 (2.1 INTEL-20.2.44), renderer: Intel(R) UHD Graphics 617\n"
     ]
    },
    {
     "name": "stdout",
     "output_type": "stream",
     "text": [
      "Error: Failed to read frame from the video capture MP_DATA/hello.mp4\n"
     ]
    },
    {
     "name": "stderr",
     "output_type": "stream",
     "text": [
      "I0000 00:00:1711116585.009191       1 gl_context.cc:344] GL version: 2.1 (2.1 INTEL-20.2.44), renderer: Intel(R) UHD Graphics 617\n"
     ]
    },
    {
     "name": "stdout",
     "output_type": "stream",
     "text": [
      "Error: Failed to read frame from the video capture MP_DATA/here.mp4\n"
     ]
    },
    {
     "name": "stderr",
     "output_type": "stream",
     "text": [
      "I0000 00:00:1711116654.544665       1 gl_context.cc:344] GL version: 2.1 (2.1 INTEL-20.2.44), renderer: Intel(R) UHD Graphics 617\n"
     ]
    },
    {
     "name": "stdout",
     "output_type": "stream",
     "text": [
      "Error: Failed to read frame from the video capture MP_DATA/is.mp4\n"
     ]
    },
    {
     "name": "stderr",
     "output_type": "stream",
     "text": [
      "I0000 00:00:1711116724.243417       1 gl_context.cc:344] GL version: 2.1 (2.1 INTEL-20.2.44), renderer: Intel(R) UHD Graphics 617\n",
      "I0000 00:00:1711116859.154938       1 gl_context.cc:344] GL version: 2.1 (2.1 INTEL-20.2.44), renderer: Intel(R) UHD Graphics 617\n",
      "I0000 00:00:1711116996.183149       1 gl_context.cc:344] GL version: 2.1 (2.1 INTEL-20.2.44), renderer: Intel(R) UHD Graphics 617\n",
      "I0000 00:00:1711117131.737597       1 gl_context.cc:344] GL version: 2.1 (2.1 INTEL-20.2.44), renderer: Intel(R) UHD Graphics 617\n"
     ]
    },
    {
     "name": "stdout",
     "output_type": "stream",
     "text": [
      "Error: Failed to read frame from the video capture MP_DATA/other.mp4\n"
     ]
    },
    {
     "name": "stderr",
     "output_type": "stream",
     "text": [
      "I0000 00:00:1711117210.042212       1 gl_context.cc:344] GL version: 2.1 (2.1 INTEL-20.2.44), renderer: Intel(R) UHD Graphics 617\n"
     ]
    },
    {
     "name": "stdout",
     "output_type": "stream",
     "text": [
      "Error: Failed to read frame from the video capture MP_DATA/our.mp4\n"
     ]
    },
    {
     "name": "stderr",
     "output_type": "stream",
     "text": [
      "I0000 00:00:1711117297.501443       1 gl_context.cc:344] GL version: 2.1 (2.1 INTEL-20.2.44), renderer: Intel(R) UHD Graphics 617\n",
      "I0000 00:00:1711117433.881783       1 gl_context.cc:344] GL version: 2.1 (2.1 INTEL-20.2.44), renderer: Intel(R) UHD Graphics 617\n",
      "I0000 00:00:1711117573.975274       1 gl_context.cc:344] GL version: 2.1 (2.1 INTEL-20.2.44), renderer: Intel(R) UHD Graphics 617\n",
      "I0000 00:00:1711117708.603978       1 gl_context.cc:344] GL version: 2.1 (2.1 INTEL-20.2.44), renderer: Intel(R) UHD Graphics 617\n"
     ]
    },
    {
     "name": "stdout",
     "output_type": "stream",
     "text": [
      "Error: Failed to read frame from the video capture MP_DATA/start.mp4\n"
     ]
    },
    {
     "name": "stderr",
     "output_type": "stream",
     "text": [
      "I0000 00:00:1711117818.181026       1 gl_context.cc:344] GL version: 2.1 (2.1 INTEL-20.2.44), renderer: Intel(R) UHD Graphics 617\n",
      "I0000 00:00:1711117954.069381       1 gl_context.cc:344] GL version: 2.1 (2.1 INTEL-20.2.44), renderer: Intel(R) UHD Graphics 617\n",
      "I0000 00:00:1711118089.825453       1 gl_context.cc:344] GL version: 2.1 (2.1 INTEL-20.2.44), renderer: Intel(R) UHD Graphics 617\n",
      "I0000 00:00:1711118224.944809       1 gl_context.cc:344] GL version: 2.1 (2.1 INTEL-20.2.44), renderer: Intel(R) UHD Graphics 617\n"
     ]
    },
    {
     "name": "stdout",
     "output_type": "stream",
     "text": [
      "Error: Failed to read frame from the video capture MP_DATA/ways.mp4\n"
     ]
    }
   ],
   "source": [
    "import os\n",
    "import cv2\n",
    "import numpy as np\n",
    "import mediapipe as mp\n",
    "\n",
    "# Path for exported data, numpy arrays\n",
    "DATA_PATH = os.path.join('MP_DATA')\n",
    "\n",
    "# Path to the folder containing video files\n",
    "video_folder = 'MP_DATA'\n",
    "\n",
    "# Get a list of all video file paths\n",
    "video_paths = [os.path.join(video_folder, f) for f in os.listdir(video_folder) if f.endswith('.mp4')]\n",
    "\n",
    "# Set mediapipe model\n",
    "mp_holistic = mp.solutions.holistic\n",
    "\n",
    "# Videos are going to be 30 frames in length\n",
    "sequence_length = 30\n",
    "\n",
    "for video_path in video_paths:\n",
    "    # Get the action label from the video file name\n",
    "    action = os.path.basename(video_path).split('.')[0]\n",
    "\n",
    "    # Initialize the video capture object\n",
    "    cap = cv2.VideoCapture(video_path)\n",
    "\n",
    "    # Check if the video capture was successful\n",
    "    if not cap.isOpened():\n",
    "        print(f\"Error: Failed to open the video file {video_path}\")\n",
    "        continue\n",
    "\n",
    "    # Set mediapipe model\n",
    "    with mp_holistic.Holistic(min_detection_confidence=0.5, min_tracking_confidence=0.5) as holistic:\n",
    "        # Create folder for action if it doesn't exist\n",
    "        action_folder = os.path.join(DATA_PATH, action)\n",
    "        if not os.path.exists(action_folder):\n",
    "            os.makedirs(action_folder)\n",
    "\n",
    "        # Get the next available sequence folder name\n",
    "        sequence_id = 0\n",
    "        sequence_folder = os.path.join(action_folder, str(sequence_id))\n",
    "        while os.path.exists(sequence_folder):\n",
    "            sequence_id += 1\n",
    "            sequence_folder = os.path.join(action_folder, str(sequence_id))\n",
    "\n",
    "        # Create the new sequence folder\n",
    "        os.makedirs(sequence_folder)\n",
    "\n",
    "        # Check if all NumPy files already exist in the sequence folder\n",
    "        existing_files = [f for f in os.listdir(sequence_folder) if f.endswith('.npy')]\n",
    "        if len(existing_files) == sequence_length:\n",
    "            print(f\"Extraction already done for {action}. Skipping...\")\n",
    "            continue\n",
    "\n",
    "        # Loop through video length aka sequence length\n",
    "        for frame_num in range(sequence_length):\n",
    "            # Read feed\n",
    "            ret, frame = cap.read()\n",
    "\n",
    "            # Check if the frame is empty\n",
    "            if not ret:\n",
    "                print(f\"Error: Failed to read frame from the video capture {video_path}\")\n",
    "                break\n",
    "\n",
    "            # Make detections\n",
    "            image, results = mediapipe_detection(frame, holistic)\n",
    "\n",
    "            # Draw landmarks\n",
    "            draw_styled_landmarks(image, results)\n",
    "\n",
    "            # Apply wait logic\n",
    "            if frame_num == 0:\n",
    "                cv2.putText(image, 'STARTING COLLECTION', (120, 200),\n",
    "                            cv2.FONT_HERSHEY_SIMPLEX, 1, (0, 255, 0), 4, cv2.LINE_AA)\n",
    "                cv2.putText(image, 'Collecting frames for {} Video Number {}'.format(action, sequence_id), (15, 12),\n",
    "                            cv2.FONT_HERSHEY_SIMPLEX, 0.5, (0, 0, 255), 1, cv2.LINE_AA)\n",
    "                # Show to screen\n",
    "                cv2.imshow('OpenCV Feed', image)\n",
    "                cv2.waitKey(500)\n",
    "            else:\n",
    "                cv2.putText(image, 'Collecting frames for {} Video Number {}'.format(action, sequence_id), (15, 12),\n",
    "                            cv2.FONT_HERSHEY_SIMPLEX, 0.5, (0, 0, 255), 1, cv2.LINE_AA)\n",
    "                # Show to screen\n",
    "                cv2.imshow('OpenCV Feed', image)\n",
    "\n",
    "            # Export keypoints\n",
    "            keypoints = extract_keypoints(results)\n",
    "            npy_path = os.path.join(sequence_folder, str(frame_num))\n",
    "            np.save(npy_path, keypoints)\n",
    "\n",
    "            # Break gracefully\n",
    "            if cv2.waitKey(10) & 0xFF == ord('q'):\n",
    "                break\n",
    "\n",
    "    # Release video capture\n",
    "    cap.release()\n",
    "\n",
    "# Close OpenCV windows\n",
    "cv2.destroyAllWindows()"
   ]
  },
  {
   "cell_type": "code",
   "execution_count": 25,
   "metadata": {},
   "outputs": [],
   "source": [
    "cap.release()\n",
    "cv2.destroyAllWindows()"
   ]
  },
  {
   "cell_type": "markdown",
   "metadata": {},
   "source": [
    "# 6. Preprocess Data and Create Labels and Features"
   ]
  },
  {
   "cell_type": "code",
   "execution_count": 26,
   "metadata": {},
   "outputs": [],
   "source": [
    "from sklearn.model_selection import train_test_split\n",
    "from tensorflow.keras.utils import to_categorical"
   ]
  },
  {
   "cell_type": "code",
   "execution_count": 27,
   "metadata": {},
   "outputs": [],
   "source": [
    "label_map = {label:num for num, label in enumerate(actions)}"
   ]
  },
  {
   "cell_type": "code",
   "execution_count": 28,
   "metadata": {},
   "outputs": [
    {
     "data": {
      "text/plain": [
       "{'parents': 0,\n",
       " 'have': 1,\n",
       " 'other': 2,\n",
       " 'family': 3,\n",
       " 'ugandan': 4,\n",
       " 'ways': 5,\n",
       " 'hello': 6,\n",
       " 'sign language': 7,\n",
       " 'users': 8,\n",
       " 'numbers': 9,\n",
       " 'children': 10,\n",
       " 'but': 11,\n",
       " 'here': 12,\n",
       " 'is': 13,\n",
       " 'members': 14,\n",
       " 'diferrent': 15,\n",
       " 'start': 16,\n",
       " 'guardians': 17,\n",
       " 'our': 18,\n",
       " 'regions': 19,\n",
       " 'as follows': 20,\n",
       " 'follows': 21,\n",
       " 'now': 22,\n",
       " 'topic': 23,\n",
       " 'and': 24}"
      ]
     },
     "execution_count": 28,
     "metadata": {},
     "output_type": "execute_result"
    }
   ],
   "source": [
    "label_map"
   ]
  },
  {
   "cell_type": "code",
   "execution_count": 29,
   "metadata": {},
   "outputs": [],
   "source": [
    "import os\n",
    "import numpy as np\n",
    "\n",
    "# Path for exported data, numpy arrays\n",
    "DATA_PATH = os.path.join('MP_DATA')\n",
    "\n",
    "# Actions (labels) in the dataset\n",
    "potential_actions = os.listdir(DATA_PATH)\n",
    "actions = [action for action in potential_actions if os.path.isdir(os.path.join(DATA_PATH, action))]\n",
    "\n",
    "# Dictionary to map action names to label indices\n",
    "label_map = {action: idx for idx, action in enumerate(actions)}\n",
    "\n",
    "sequences, labels = [], []\n",
    "\n",
    "for action in actions:\n",
    "    action_folder = os.path.join(DATA_PATH, action)\n",
    "    sequence_folders = [os.path.join(action_folder, f) for f in os.listdir(action_folder) if os.path.isdir(os.path.join(action_folder, f))]\n",
    "    sequence_folders = sorted(sequence_folders)\n",
    "\n",
    "    for sequence_folder in sequence_folders:\n",
    "        sequence = []\n",
    "        frame_files = sorted([f for f in os.listdir(sequence_folder) if f.endswith('.npy') and not f.startswith('._')])\n",
    "        sequence_length = len(frame_files)\n",
    "\n",
    "        for frame_num in range(sequence_length):\n",
    "            npy_path = os.path.join(sequence_folder, frame_files[frame_num])\n",
    "            try:\n",
    "                res = np.load(npy_path)\n",
    "                sequence.append(res)\n",
    "            except EOFError:\n",
    "                print(f\"Warning: Skipping empty or corrupted file: {npy_path}\")\n",
    "                continue\n",
    "\n",
    "        sequences.append(sequence)\n",
    "        labels.append(label_map[action])"
   ]
  },
  {
   "cell_type": "code",
   "execution_count": 30,
   "metadata": {},
   "outputs": [],
   "source": [
    "import numpy as np\n",
    "from keras.preprocessing.sequence import pad_sequences\n",
    "\n",
    "# Get the length of the longest sequence\n",
    "max_sequence_length = max(len(seq) for seq in sequences)\n",
    "\n",
    "# Pad the sequences\n",
    "padded_sequences = pad_sequences(sequences, maxlen=max_sequence_length, padding='post')\n",
    "\n",
    "# Convert the padded sequences to a NumPy array\n",
    "sequences_array = np.array(padded_sequences)"
   ]
  },
  {
   "cell_type": "code",
   "execution_count": 31,
   "metadata": {},
   "outputs": [
    {
     "data": {
      "text/plain": [
       "(175,)"
      ]
     },
     "execution_count": 31,
     "metadata": {},
     "output_type": "execute_result"
    }
   ],
   "source": [
    "np.array(labels).shape"
   ]
  },
  {
   "cell_type": "code",
   "execution_count": 32,
   "metadata": {},
   "outputs": [],
   "source": [
    "import numpy as np\n",
    "from keras.preprocessing.sequence import pad_sequences\n",
    "\n",
    "# Get the length of the longest sequence\n",
    "max_sequence_length = max(len(seq) for seq in sequences)\n",
    "\n",
    "# Pad the sequences\n",
    "padded_sequences = pad_sequences(sequences, maxlen=max_sequence_length, padding='post')\n",
    "\n",
    "# Convert the padded sequences to a NumPy array\n",
    "X = np.array(padded_sequences)"
   ]
  },
  {
   "cell_type": "code",
   "execution_count": 33,
   "metadata": {},
   "outputs": [
    {
     "data": {
      "text/plain": [
       "(175, 30, 1662)"
      ]
     },
     "execution_count": 33,
     "metadata": {},
     "output_type": "execute_result"
    }
   ],
   "source": [
    "X.shape"
   ]
  },
  {
   "cell_type": "code",
   "execution_count": 34,
   "metadata": {},
   "outputs": [],
   "source": [
    "y = to_categorical(labels).astype(int)"
   ]
  },
  {
   "cell_type": "code",
   "execution_count": 35,
   "metadata": {},
   "outputs": [
    {
     "data": {
      "text/plain": [
       "array([[1, 0, 0, ..., 0, 0, 0],\n",
       "       [1, 0, 0, ..., 0, 0, 0],\n",
       "       [1, 0, 0, ..., 0, 0, 0],\n",
       "       ...,\n",
       "       [0, 0, 0, ..., 0, 0, 1],\n",
       "       [0, 0, 0, ..., 0, 0, 1],\n",
       "       [0, 0, 0, ..., 0, 0, 1]])"
      ]
     },
     "execution_count": 35,
     "metadata": {},
     "output_type": "execute_result"
    }
   ],
   "source": [
    "y"
   ]
  },
  {
   "cell_type": "code",
   "execution_count": 36,
   "metadata": {},
   "outputs": [],
   "source": [
    "X_train, X_test, y_train, y_test = train_test_split(X, y, test_size=0.05)"
   ]
  },
  {
   "cell_type": "code",
   "execution_count": 37,
   "metadata": {},
   "outputs": [
    {
     "data": {
      "text/plain": [
       "(9, 25)"
      ]
     },
     "execution_count": 37,
     "metadata": {},
     "output_type": "execute_result"
    }
   ],
   "source": [
    "y_test.shape"
   ]
  },
  {
   "cell_type": "markdown",
   "metadata": {},
   "source": [
    "# 7. Build and Train LSTM Neural Network"
   ]
  },
  {
   "cell_type": "code",
   "execution_count": 38,
   "metadata": {},
   "outputs": [],
   "source": [
    "from tensorflow.keras.models import Sequential\n",
    "from tensorflow.keras.layers import LSTM, Dense\n",
    "from tensorflow.keras.callbacks import TensorBoard"
   ]
  },
  {
   "cell_type": "code",
   "execution_count": 39,
   "metadata": {},
   "outputs": [],
   "source": [
    "log_dir = os.path.join('Logs')\n",
    "tb_callback = TensorBoard(log_dir=log_dir)"
   ]
  },
  {
   "cell_type": "code",
   "execution_count": 40,
   "metadata": {},
   "outputs": [],
   "source": [
    "from keras.models import Sequential\n",
    "from keras.layers import LSTM, Dense, Dropout\n",
    "\n",
    "model = Sequential()\n",
    "\n",
    "# Increase the number of LSTM units and add dropout regularization\n",
    "model.add(LSTM(128, return_sequences=True, activation='relu', input_shape=(30, 1662)))\n",
    "model.add(Dropout(0.2))  # Add dropout regularization\n",
    "\n",
    "# Add an additional LSTM layer with more units and dropout\n",
    "model.add(LSTM(256, return_sequences=True, activation='relu'))\n",
    "model.add(Dropout(0.2))\n",
    "\n",
    "# Keep the existing LSTM layer\n",
    "model.add(LSTM(64, return_sequences=False, activation='relu'))\n",
    "\n",
    "# Increase the number of units in the Dense layers\n",
    "model.add(Dense(128, activation='relu'))\n",
    "model.add(Dropout(0.2))  # Add dropout regularization\n",
    "model.add(Dense(64, activation='relu'))\n",
    "\n",
    "# Output layer with the number of classes\n",
    "model.add(Dense(len(actions), activation='softmax'))"
   ]
  },
  {
   "cell_type": "code",
   "execution_count": 41,
   "metadata": {},
   "outputs": [],
   "source": [
    "res = [.7, 0.2, 0.1]"
   ]
  },
  {
   "cell_type": "code",
   "execution_count": 42,
   "metadata": {},
   "outputs": [
    {
     "data": {
      "text/plain": [
       "'family'"
      ]
     },
     "execution_count": 42,
     "metadata": {},
     "output_type": "execute_result"
    }
   ],
   "source": [
    "actions[np.argmax(res)]"
   ]
  },
  {
   "cell_type": "code",
   "execution_count": 43,
   "metadata": {},
   "outputs": [],
   "source": [
    "model.compile(optimizer='Adam', loss='categorical_crossentropy', metrics=['categorical_accuracy'])"
   ]
  },
  {
   "cell_type": "code",
   "execution_count": 44,
   "metadata": {
    "scrolled": true
   },
   "outputs": [
    {
     "name": "stdout",
     "output_type": "stream",
     "text": [
      "Epoch 1/200\n",
      "6/6 [==============================] - 15s 615ms/step - loss: 3.2202 - categorical_accuracy: 0.0301\n",
      "Epoch 2/200\n",
      "6/6 [==============================] - 4s 710ms/step - loss: 3.2164 - categorical_accuracy: 0.0361\n",
      "Epoch 3/200\n",
      "6/6 [==============================] - 1s 221ms/step - loss: 3.2049 - categorical_accuracy: 0.0361\n",
      "Epoch 4/200\n",
      "6/6 [==============================] - 3s 562ms/step - loss: 3.1819 - categorical_accuracy: 0.0301\n",
      "Epoch 5/200\n",
      "6/6 [==============================] - 3s 564ms/step - loss: 3.2544 - categorical_accuracy: 0.0663\n",
      "Epoch 6/200\n",
      "6/6 [==============================] - 2s 281ms/step - loss: 3.1941 - categorical_accuracy: 0.0361\n",
      "Epoch 7/200\n",
      "6/6 [==============================] - 2s 347ms/step - loss: 3.1863 - categorical_accuracy: 0.0843\n",
      "Epoch 8/200\n",
      "6/6 [==============================] - 2s 255ms/step - loss: 3.1570 - categorical_accuracy: 0.0843\n",
      "Epoch 9/200\n",
      "6/6 [==============================] - 3s 634ms/step - loss: 3.0166 - categorical_accuracy: 0.1024\n",
      "Epoch 10/200\n",
      "6/6 [==============================] - 4s 687ms/step - loss: 3.3234 - categorical_accuracy: 0.0663\n",
      "Epoch 11/200\n",
      "6/6 [==============================] - 1s 235ms/step - loss: 3.0841 - categorical_accuracy: 0.0783\n",
      "Epoch 12/200\n",
      "6/6 [==============================] - 3s 544ms/step - loss: 3.0200 - categorical_accuracy: 0.0482\n",
      "Epoch 13/200\n",
      "6/6 [==============================] - 1s 240ms/step - loss: 2.9103 - categorical_accuracy: 0.0602\n",
      "Epoch 14/200\n",
      "6/6 [==============================] - 2s 264ms/step - loss: 2.8495 - categorical_accuracy: 0.0964\n",
      "Epoch 15/200\n",
      "6/6 [==============================] - 4s 709ms/step - loss: 2.7752 - categorical_accuracy: 0.0723\n",
      "Epoch 16/200\n",
      "6/6 [==============================] - 2s 252ms/step - loss: 2.7724 - categorical_accuracy: 0.0663\n",
      "Epoch 17/200\n",
      "6/6 [==============================] - 2s 259ms/step - loss: 2.7135 - categorical_accuracy: 0.0361\n",
      "Epoch 18/200\n",
      "6/6 [==============================] - 2s 297ms/step - loss: 2.7155 - categorical_accuracy: 0.0843\n",
      "Epoch 19/200\n",
      "6/6 [==============================] - 2s 274ms/step - loss: 2.6813 - categorical_accuracy: 0.0783\n",
      "Epoch 20/200\n",
      "6/6 [==============================] - 2s 261ms/step - loss: 2.6901 - categorical_accuracy: 0.0904\n",
      "Epoch 21/200\n",
      "6/6 [==============================] - 2s 274ms/step - loss: 2.5935 - categorical_accuracy: 0.1205\n",
      "Epoch 22/200\n",
      "6/6 [==============================] - 2s 274ms/step - loss: 2.6215 - categorical_accuracy: 0.0723\n",
      "Epoch 23/200\n",
      "6/6 [==============================] - 2s 267ms/step - loss: 2.5531 - categorical_accuracy: 0.1145\n",
      "Epoch 24/200\n",
      "6/6 [==============================] - 2s 264ms/step - loss: 2.7103 - categorical_accuracy: 0.1627\n",
      "Epoch 25/200\n",
      "6/6 [==============================] - 2s 272ms/step - loss: 2.5542 - categorical_accuracy: 0.1325\n",
      "Epoch 26/200\n",
      "6/6 [==============================] - 2s 287ms/step - loss: 2.4213 - categorical_accuracy: 0.1566\n",
      "Epoch 27/200\n",
      "6/6 [==============================] - 2s 286ms/step - loss: 2.3532 - categorical_accuracy: 0.2169\n",
      "Epoch 28/200\n",
      "6/6 [==============================] - 2s 274ms/step - loss: 2.5899 - categorical_accuracy: 0.2470\n",
      "Epoch 29/200\n",
      "6/6 [==============================] - 2s 284ms/step - loss: 2.3786 - categorical_accuracy: 0.1386\n",
      "Epoch 30/200\n",
      "6/6 [==============================] - 2s 318ms/step - loss: 2.3855 - categorical_accuracy: 0.1988\n",
      "Epoch 31/200\n",
      "6/6 [==============================] - 2s 276ms/step - loss: 2.2809 - categorical_accuracy: 0.2229\n",
      "Epoch 32/200\n",
      "6/6 [==============================] - 2s 320ms/step - loss: 2.2880 - categorical_accuracy: 0.2169\n",
      "Epoch 33/200\n",
      "6/6 [==============================] - 2s 267ms/step - loss: 2.3285 - categorical_accuracy: 0.2169\n",
      "Epoch 34/200\n",
      "6/6 [==============================] - 2s 280ms/step - loss: 2.1533 - categorical_accuracy: 0.3313\n",
      "Epoch 35/200\n",
      "6/6 [==============================] - 2s 280ms/step - loss: 2.1864 - categorical_accuracy: 0.3554\n",
      "Epoch 36/200\n",
      "6/6 [==============================] - 2s 272ms/step - loss: 2.0410 - categorical_accuracy: 0.3193\n",
      "Epoch 37/200\n",
      "6/6 [==============================] - 2s 278ms/step - loss: 2.1715 - categorical_accuracy: 0.3735\n",
      "Epoch 38/200\n",
      "6/6 [==============================] - 2s 270ms/step - loss: 2.3392 - categorical_accuracy: 0.2952\n",
      "Epoch 39/200\n",
      "6/6 [==============================] - 2s 274ms/step - loss: 2.4120 - categorical_accuracy: 0.1627\n",
      "Epoch 40/200\n",
      "6/6 [==============================] - 2s 273ms/step - loss: 2.1301 - categorical_accuracy: 0.2229\n",
      "Epoch 41/200\n",
      "6/6 [==============================] - 2s 268ms/step - loss: 1.9980 - categorical_accuracy: 0.2952\n",
      "Epoch 42/200\n",
      "6/6 [==============================] - 2s 273ms/step - loss: 1.8319 - categorical_accuracy: 0.3494\n",
      "Epoch 43/200\n",
      "6/6 [==============================] - 2s 324ms/step - loss: 1.6848 - categorical_accuracy: 0.4699\n",
      "Epoch 44/200\n",
      "6/6 [==============================] - 2s 273ms/step - loss: 1.6951 - categorical_accuracy: 0.4217\n",
      "Epoch 45/200\n",
      "6/6 [==============================] - 2s 308ms/step - loss: 1.5728 - categorical_accuracy: 0.4699\n",
      "Epoch 46/200\n",
      "6/6 [==============================] - 2s 287ms/step - loss: 1.6263 - categorical_accuracy: 0.4639\n",
      "Epoch 47/200\n",
      "6/6 [==============================] - 2s 276ms/step - loss: 1.5341 - categorical_accuracy: 0.4819\n",
      "Epoch 48/200\n",
      "6/6 [==============================] - 2s 274ms/step - loss: 1.5189 - categorical_accuracy: 0.4819\n",
      "Epoch 49/200\n",
      "6/6 [==============================] - 2s 353ms/step - loss: 1.3963 - categorical_accuracy: 0.5060\n",
      "Epoch 50/200\n",
      "6/6 [==============================] - 2s 339ms/step - loss: 1.7008 - categorical_accuracy: 0.5241\n",
      "Epoch 51/200\n",
      "6/6 [==============================] - 2s 307ms/step - loss: 2.5798 - categorical_accuracy: 0.2530\n",
      "Epoch 52/200\n",
      "6/6 [==============================] - 2s 274ms/step - loss: 2.8983 - categorical_accuracy: 0.2108\n",
      "Epoch 53/200\n",
      "6/6 [==============================] - 2s 274ms/step - loss: 2.7277 - categorical_accuracy: 0.2169\n",
      "Epoch 54/200\n",
      "6/6 [==============================] - 2s 279ms/step - loss: 2.7083 - categorical_accuracy: 0.1747\n",
      "Epoch 55/200\n",
      "6/6 [==============================] - 2s 274ms/step - loss: 2.6255 - categorical_accuracy: 0.1627\n",
      "Epoch 56/200\n",
      "6/6 [==============================] - 2s 283ms/step - loss: 2.4938 - categorical_accuracy: 0.1807\n",
      "Epoch 57/200\n",
      "6/6 [==============================] - 2s 380ms/step - loss: 2.2431 - categorical_accuracy: 0.2470\n",
      "Epoch 58/200\n",
      "6/6 [==============================] - 2s 274ms/step - loss: 1.9530 - categorical_accuracy: 0.3253\n",
      "Epoch 59/200\n",
      "6/6 [==============================] - 2s 282ms/step - loss: 1.7912 - categorical_accuracy: 0.3313\n",
      "Epoch 60/200\n",
      "6/6 [==============================] - 2s 352ms/step - loss: 1.7019 - categorical_accuracy: 0.4157\n",
      "Epoch 61/200\n",
      "6/6 [==============================] - 2s 271ms/step - loss: 1.6366 - categorical_accuracy: 0.4578\n",
      "Epoch 62/200\n",
      "6/6 [==============================] - 2s 291ms/step - loss: 1.7434 - categorical_accuracy: 0.3795\n",
      "Epoch 63/200\n",
      "6/6 [==============================] - 2s 275ms/step - loss: 1.4311 - categorical_accuracy: 0.5120\n",
      "Epoch 64/200\n",
      "6/6 [==============================] - 2s 285ms/step - loss: 1.4346 - categorical_accuracy: 0.5241\n",
      "Epoch 65/200\n",
      "6/6 [==============================] - 2s 281ms/step - loss: 1.3655 - categorical_accuracy: 0.5542\n",
      "Epoch 66/200\n",
      "6/6 [==============================] - 2s 272ms/step - loss: 1.4775 - categorical_accuracy: 0.4699\n",
      "Epoch 67/200\n",
      "6/6 [==============================] - 2s 268ms/step - loss: 1.4079 - categorical_accuracy: 0.5241\n",
      "Epoch 68/200\n",
      "6/6 [==============================] - 2s 305ms/step - loss: 1.3120 - categorical_accuracy: 0.5482\n",
      "Epoch 69/200\n",
      "6/6 [==============================] - 2s 280ms/step - loss: 1.3193 - categorical_accuracy: 0.5602\n",
      "Epoch 70/200\n",
      "6/6 [==============================] - 2s 272ms/step - loss: 1.2289 - categorical_accuracy: 0.5723\n",
      "Epoch 71/200\n",
      "6/6 [==============================] - 2s 309ms/step - loss: 1.2154 - categorical_accuracy: 0.5663\n",
      "Epoch 72/200\n",
      "6/6 [==============================] - 2s 286ms/step - loss: 1.2198 - categorical_accuracy: 0.5723\n",
      "Epoch 73/200\n",
      "6/6 [==============================] - 2s 275ms/step - loss: 1.2559 - categorical_accuracy: 0.5663\n",
      "Epoch 74/200\n",
      "6/6 [==============================] - 2s 318ms/step - loss: 1.4232 - categorical_accuracy: 0.5060\n",
      "Epoch 75/200\n",
      "6/6 [==============================] - 2s 265ms/step - loss: 1.2670 - categorical_accuracy: 0.5783\n",
      "Epoch 76/200\n",
      "6/6 [==============================] - 2s 318ms/step - loss: 1.2547 - categorical_accuracy: 0.5422\n",
      "Epoch 77/200\n",
      "6/6 [==============================] - 2s 267ms/step - loss: 1.3180 - categorical_accuracy: 0.5301\n",
      "Epoch 78/200\n",
      "6/6 [==============================] - 2s 269ms/step - loss: 1.1947 - categorical_accuracy: 0.6024\n",
      "Epoch 79/200\n",
      "6/6 [==============================] - 2s 280ms/step - loss: 1.0718 - categorical_accuracy: 0.6446\n",
      "Epoch 80/200\n",
      "6/6 [==============================] - 2s 270ms/step - loss: 1.0744 - categorical_accuracy: 0.6145\n",
      "Epoch 81/200\n",
      "6/6 [==============================] - 2s 267ms/step - loss: 1.1110 - categorical_accuracy: 0.6084\n",
      "Epoch 82/200\n",
      "6/6 [==============================] - 2s 272ms/step - loss: 0.9879 - categorical_accuracy: 0.6687\n",
      "Epoch 83/200\n",
      "6/6 [==============================] - 2s 277ms/step - loss: 0.9643 - categorical_accuracy: 0.6747\n",
      "Epoch 84/200\n",
      "6/6 [==============================] - 2s 271ms/step - loss: 0.9687 - categorical_accuracy: 0.6867\n",
      "Epoch 85/200\n",
      "6/6 [==============================] - 2s 267ms/step - loss: 0.9551 - categorical_accuracy: 0.6988\n",
      "Epoch 86/200\n",
      "6/6 [==============================] - 3s 442ms/step - loss: 0.9424 - categorical_accuracy: 0.6807\n",
      "Epoch 87/200\n",
      "6/6 [==============================] - 3s 552ms/step - loss: 0.9069 - categorical_accuracy: 0.6928\n",
      "Epoch 88/200\n",
      "6/6 [==============================] - 3s 550ms/step - loss: 0.9113 - categorical_accuracy: 0.6807\n",
      "Epoch 89/200\n",
      "6/6 [==============================] - 2s 346ms/step - loss: 0.9312 - categorical_accuracy: 0.6506\n",
      "Epoch 90/200\n",
      "6/6 [==============================] - 2s 267ms/step - loss: 0.9295 - categorical_accuracy: 0.6747\n",
      "Epoch 91/200\n",
      "6/6 [==============================] - 2s 278ms/step - loss: 0.9133 - categorical_accuracy: 0.7048\n",
      "Epoch 92/200\n",
      "6/6 [==============================] - 2s 265ms/step - loss: 0.8693 - categorical_accuracy: 0.7108\n",
      "Epoch 93/200\n",
      "6/6 [==============================] - 2s 262ms/step - loss: 0.8701 - categorical_accuracy: 0.6807\n",
      "Epoch 94/200\n",
      "6/6 [==============================] - 2s 267ms/step - loss: 0.9408 - categorical_accuracy: 0.6687\n",
      "Epoch 95/200\n",
      "6/6 [==============================] - 2s 276ms/step - loss: 0.9552 - categorical_accuracy: 0.6928\n",
      "Epoch 96/200\n",
      "6/6 [==============================] - 2s 260ms/step - loss: 0.8910 - categorical_accuracy: 0.6867\n",
      "Epoch 97/200\n",
      "6/6 [==============================] - 2s 323ms/step - loss: 1.0879 - categorical_accuracy: 0.6747\n",
      "Epoch 98/200\n",
      "6/6 [==============================] - 2s 266ms/step - loss: 1.0825 - categorical_accuracy: 0.6386\n",
      "Epoch 99/200\n",
      "6/6 [==============================] - 2s 259ms/step - loss: 0.9167 - categorical_accuracy: 0.6988\n",
      "Epoch 100/200\n",
      "6/6 [==============================] - 2s 260ms/step - loss: 0.9095 - categorical_accuracy: 0.6867\n",
      "Epoch 101/200\n",
      "6/6 [==============================] - 2s 269ms/step - loss: 0.8707 - categorical_accuracy: 0.7108\n",
      "Epoch 102/200\n",
      "6/6 [==============================] - 2s 262ms/step - loss: 0.9090 - categorical_accuracy: 0.6687\n",
      "Epoch 103/200\n",
      "6/6 [==============================] - 2s 268ms/step - loss: 0.8757 - categorical_accuracy: 0.6867\n",
      "Epoch 104/200\n",
      "6/6 [==============================] - 2s 262ms/step - loss: 0.9655 - categorical_accuracy: 0.6446\n",
      "Epoch 105/200\n",
      "6/6 [==============================] - 2s 270ms/step - loss: 1.1104 - categorical_accuracy: 0.6145\n",
      "Epoch 106/200\n",
      "6/6 [==============================] - 2s 263ms/step - loss: 1.0129 - categorical_accuracy: 0.6265\n",
      "Epoch 107/200\n",
      "6/6 [==============================] - 2s 266ms/step - loss: 0.9374 - categorical_accuracy: 0.6807\n",
      "Epoch 108/200\n",
      "6/6 [==============================] - 2s 257ms/step - loss: 0.9243 - categorical_accuracy: 0.6627\n",
      "Epoch 109/200\n",
      "6/6 [==============================] - 2s 258ms/step - loss: 0.8963 - categorical_accuracy: 0.6867\n",
      "Epoch 110/200\n",
      "6/6 [==============================] - 2s 264ms/step - loss: 0.8842 - categorical_accuracy: 0.6867\n",
      "Epoch 111/200\n",
      "6/6 [==============================] - 2s 290ms/step - loss: 0.8566 - categorical_accuracy: 0.7169\n",
      "Epoch 112/200\n",
      "6/6 [==============================] - 4s 840ms/step - loss: 0.8303 - categorical_accuracy: 0.7229\n",
      "Epoch 113/200\n",
      "6/6 [==============================] - 3s 560ms/step - loss: 0.8419 - categorical_accuracy: 0.7169\n",
      "Epoch 114/200\n",
      "6/6 [==============================] - 2s 291ms/step - loss: 0.8360 - categorical_accuracy: 0.7048\n",
      "Epoch 115/200\n",
      "6/6 [==============================] - 5s 903ms/step - loss: 0.8490 - categorical_accuracy: 0.7108\n",
      "Epoch 116/200\n",
      "6/6 [==============================] - 2s 337ms/step - loss: 0.8125 - categorical_accuracy: 0.7169\n",
      "Epoch 117/200\n",
      "6/6 [==============================] - 2s 263ms/step - loss: 0.8163 - categorical_accuracy: 0.7108\n",
      "Epoch 118/200\n",
      "6/6 [==============================] - 2s 319ms/step - loss: 0.8176 - categorical_accuracy: 0.7108\n",
      "Epoch 119/200\n",
      "6/6 [==============================] - 3s 552ms/step - loss: 0.8057 - categorical_accuracy: 0.7289\n",
      "Epoch 120/200\n",
      "6/6 [==============================] - 2s 262ms/step - loss: 0.8400 - categorical_accuracy: 0.6747\n",
      "Epoch 121/200\n",
      "6/6 [==============================] - 2s 249ms/step - loss: 0.8054 - categorical_accuracy: 0.7108\n",
      "Epoch 122/200\n",
      "6/6 [==============================] - 2s 256ms/step - loss: 0.8124 - categorical_accuracy: 0.6928\n",
      "Epoch 123/200\n",
      "6/6 [==============================] - 2s 298ms/step - loss: 0.8158 - categorical_accuracy: 0.7108\n",
      "Epoch 124/200\n",
      "6/6 [==============================] - 2s 257ms/step - loss: 0.7908 - categorical_accuracy: 0.7229\n",
      "Epoch 125/200\n",
      "6/6 [==============================] - 2s 249ms/step - loss: 0.8334 - categorical_accuracy: 0.7048\n",
      "Epoch 126/200\n",
      "6/6 [==============================] - 2s 263ms/step - loss: 0.8787 - categorical_accuracy: 0.6687\n",
      "Epoch 127/200\n",
      "6/6 [==============================] - 2s 250ms/step - loss: 0.8645 - categorical_accuracy: 0.7108\n",
      "Epoch 128/200\n",
      "6/6 [==============================] - 2s 258ms/step - loss: 0.8699 - categorical_accuracy: 0.6867\n",
      "Epoch 129/200\n",
      "6/6 [==============================] - 2s 264ms/step - loss: 0.8347 - categorical_accuracy: 0.7169\n",
      "Epoch 130/200\n",
      "6/6 [==============================] - 2s 248ms/step - loss: 0.8145 - categorical_accuracy: 0.6928\n",
      "Epoch 131/200\n",
      "6/6 [==============================] - 2s 301ms/step - loss: 1.0300 - categorical_accuracy: 0.6566\n",
      "Epoch 132/200\n",
      "6/6 [==============================] - 2s 269ms/step - loss: 1.1827 - categorical_accuracy: 0.6566\n",
      "Epoch 133/200\n",
      "6/6 [==============================] - 2s 254ms/step - loss: 0.9689 - categorical_accuracy: 0.6325\n",
      "Epoch 134/200\n",
      "6/6 [==============================] - 2s 250ms/step - loss: 0.9705 - categorical_accuracy: 0.6566\n",
      "Epoch 135/200\n",
      "6/6 [==============================] - 2s 252ms/step - loss: 0.9061 - categorical_accuracy: 0.6747\n",
      "Epoch 136/200\n",
      "6/6 [==============================] - 2s 270ms/step - loss: 0.8956 - categorical_accuracy: 0.7108\n",
      "Epoch 137/200\n",
      "6/6 [==============================] - 2s 254ms/step - loss: 0.8910 - categorical_accuracy: 0.6988\n",
      "Epoch 138/200\n",
      "6/6 [==============================] - 2s 251ms/step - loss: 0.8555 - categorical_accuracy: 0.6807\n",
      "Epoch 139/200\n",
      "6/6 [==============================] - 2s 255ms/step - loss: 0.8410 - categorical_accuracy: 0.7048\n",
      "Epoch 140/200\n",
      "6/6 [==============================] - 2s 247ms/step - loss: 0.8478 - categorical_accuracy: 0.6988\n",
      "Epoch 141/200\n",
      "6/6 [==============================] - 2s 265ms/step - loss: 0.8143 - categorical_accuracy: 0.6988\n",
      "Epoch 142/200\n",
      "6/6 [==============================] - 2s 252ms/step - loss: 0.8252 - categorical_accuracy: 0.6988\n",
      "Epoch 143/200\n",
      "6/6 [==============================] - 2s 278ms/step - loss: 0.8114 - categorical_accuracy: 0.7108\n",
      "Epoch 144/200\n",
      "6/6 [==============================] - 2s 254ms/step - loss: 0.7960 - categorical_accuracy: 0.7349\n",
      "Epoch 145/200\n",
      "6/6 [==============================] - 2s 275ms/step - loss: 0.8013 - categorical_accuracy: 0.7048\n",
      "Epoch 146/200\n",
      "6/6 [==============================] - 2s 292ms/step - loss: 0.8058 - categorical_accuracy: 0.7289\n",
      "Epoch 147/200\n",
      "6/6 [==============================] - 2s 248ms/step - loss: 0.8028 - categorical_accuracy: 0.7229\n",
      "Epoch 148/200\n",
      "6/6 [==============================] - 2s 252ms/step - loss: 0.7971 - categorical_accuracy: 0.7289\n",
      "Epoch 149/200\n",
      "6/6 [==============================] - 2s 248ms/step - loss: 0.8045 - categorical_accuracy: 0.7048\n",
      "Epoch 150/200\n",
      "6/6 [==============================] - 2s 254ms/step - loss: 0.8135 - categorical_accuracy: 0.7108\n",
      "Epoch 151/200\n",
      "6/6 [==============================] - 1s 245ms/step - loss: 0.8132 - categorical_accuracy: 0.7169\n",
      "Epoch 152/200\n",
      "6/6 [==============================] - 2s 289ms/step - loss: 0.8043 - categorical_accuracy: 0.7108\n",
      "Epoch 153/200\n",
      "6/6 [==============================] - 2s 270ms/step - loss: 0.7916 - categorical_accuracy: 0.7169\n",
      "Epoch 154/200\n",
      "6/6 [==============================] - 2s 260ms/step - loss: 0.8048 - categorical_accuracy: 0.7048\n",
      "Epoch 155/200\n",
      "6/6 [==============================] - 2s 267ms/step - loss: 0.8404 - categorical_accuracy: 0.6687\n",
      "Epoch 156/200\n",
      "6/6 [==============================] - 2s 273ms/step - loss: 0.8661 - categorical_accuracy: 0.6928\n",
      "Epoch 157/200\n",
      "6/6 [==============================] - 2s 258ms/step - loss: 1.0394 - categorical_accuracy: 0.6747\n",
      "Epoch 158/200\n",
      "6/6 [==============================] - 2s 260ms/step - loss: 0.8278 - categorical_accuracy: 0.7048\n",
      "Epoch 159/200\n",
      "6/6 [==============================] - 2s 258ms/step - loss: 0.9293 - categorical_accuracy: 0.6867\n",
      "Epoch 160/200\n",
      "6/6 [==============================] - 2s 249ms/step - loss: 0.8374 - categorical_accuracy: 0.6928\n",
      "Epoch 161/200\n",
      "6/6 [==============================] - 2s 254ms/step - loss: 0.8464 - categorical_accuracy: 0.7048\n",
      "Epoch 162/200\n",
      "6/6 [==============================] - 2s 254ms/step - loss: 0.8042 - categorical_accuracy: 0.7169\n",
      "Epoch 163/200\n",
      "6/6 [==============================] - 2s 251ms/step - loss: 0.7956 - categorical_accuracy: 0.7108\n",
      "Epoch 164/200\n",
      "6/6 [==============================] - 2s 279ms/step - loss: 0.8022 - categorical_accuracy: 0.6988\n",
      "Epoch 165/200\n",
      "6/6 [==============================] - 2s 250ms/step - loss: 0.7977 - categorical_accuracy: 0.6807\n",
      "Epoch 166/200\n",
      "6/6 [==============================] - 2s 250ms/step - loss: 0.8005 - categorical_accuracy: 0.6988\n",
      "Epoch 167/200\n",
      "6/6 [==============================] - 2s 249ms/step - loss: 0.8144 - categorical_accuracy: 0.6807\n",
      "Epoch 168/200\n",
      "6/6 [==============================] - 2s 268ms/step - loss: 0.8000 - categorical_accuracy: 0.7169\n",
      "Epoch 169/200\n",
      "6/6 [==============================] - 2s 290ms/step - loss: 0.7991 - categorical_accuracy: 0.7169\n",
      "Epoch 170/200\n",
      "6/6 [==============================] - 2s 250ms/step - loss: 0.8042 - categorical_accuracy: 0.7048\n",
      "Epoch 171/200\n",
      "6/6 [==============================] - 2s 250ms/step - loss: 0.8175 - categorical_accuracy: 0.7108\n",
      "Epoch 172/200\n",
      "6/6 [==============================] - 2s 253ms/step - loss: 0.7896 - categorical_accuracy: 0.7229\n",
      "Epoch 173/200\n",
      "6/6 [==============================] - 2s 252ms/step - loss: 0.7872 - categorical_accuracy: 0.7048\n",
      "Epoch 174/200\n",
      "6/6 [==============================] - 2s 262ms/step - loss: 0.7935 - categorical_accuracy: 0.6988\n",
      "Epoch 175/200\n",
      "6/6 [==============================] - 2s 246ms/step - loss: 0.7955 - categorical_accuracy: 0.7108\n",
      "Epoch 176/200\n",
      "6/6 [==============================] - 2s 248ms/step - loss: 0.7891 - categorical_accuracy: 0.7289\n",
      "Epoch 177/200\n",
      "6/6 [==============================] - 2s 248ms/step - loss: 0.7969 - categorical_accuracy: 0.7108\n",
      "Epoch 178/200\n",
      "6/6 [==============================] - 2s 265ms/step - loss: 0.7974 - categorical_accuracy: 0.7169\n",
      "Epoch 179/200\n",
      "6/6 [==============================] - 2s 254ms/step - loss: 0.7882 - categorical_accuracy: 0.7048\n",
      "Epoch 180/200\n",
      "6/6 [==============================] - 2s 260ms/step - loss: 0.8062 - categorical_accuracy: 0.6988\n",
      "Epoch 181/200\n",
      "6/6 [==============================] - 2s 276ms/step - loss: 0.7860 - categorical_accuracy: 0.7229\n",
      "Epoch 182/200\n",
      "6/6 [==============================] - 2s 249ms/step - loss: 0.7830 - categorical_accuracy: 0.7229\n",
      "Epoch 183/200\n",
      "6/6 [==============================] - 1s 247ms/step - loss: 0.7873 - categorical_accuracy: 0.7229\n",
      "Epoch 184/200\n",
      "6/6 [==============================] - 2s 248ms/step - loss: 0.8064 - categorical_accuracy: 0.7108\n",
      "Epoch 185/200\n",
      "6/6 [==============================] - 2s 319ms/step - loss: 0.7889 - categorical_accuracy: 0.6988\n",
      "Epoch 186/200\n",
      "6/6 [==============================] - 2s 265ms/step - loss: 0.7873 - categorical_accuracy: 0.6928\n",
      "Epoch 187/200\n",
      "6/6 [==============================] - 2s 246ms/step - loss: 0.7990 - categorical_accuracy: 0.7169\n",
      "Epoch 188/200\n",
      "6/6 [==============================] - 2s 251ms/step - loss: 0.7888 - categorical_accuracy: 0.7229\n",
      "Epoch 189/200\n",
      "6/6 [==============================] - 2s 248ms/step - loss: 0.7901 - categorical_accuracy: 0.7229\n",
      "Epoch 190/200\n",
      "6/6 [==============================] - 2s 273ms/step - loss: 0.8291 - categorical_accuracy: 0.6988\n",
      "Epoch 191/200\n",
      "6/6 [==============================] - 2s 257ms/step - loss: 0.7874 - categorical_accuracy: 0.7169\n",
      "Epoch 192/200\n",
      "6/6 [==============================] - 2s 297ms/step - loss: 0.8457 - categorical_accuracy: 0.6988\n",
      "Epoch 193/200\n",
      "6/6 [==============================] - 2s 260ms/step - loss: 0.8222 - categorical_accuracy: 0.7048\n",
      "Epoch 194/200\n",
      "6/6 [==============================] - 2s 247ms/step - loss: 0.8591 - categorical_accuracy: 0.6988\n",
      "Epoch 195/200\n",
      "6/6 [==============================] - 2s 246ms/step - loss: 0.8407 - categorical_accuracy: 0.6807\n",
      "Epoch 196/200\n",
      "6/6 [==============================] - 2s 251ms/step - loss: 0.8247 - categorical_accuracy: 0.6867\n",
      "Epoch 197/200\n",
      "6/6 [==============================] - 2s 248ms/step - loss: 0.7966 - categorical_accuracy: 0.7169\n",
      "Epoch 198/200\n",
      "6/6 [==============================] - 2s 314ms/step - loss: 0.8269 - categorical_accuracy: 0.7048\n",
      "Epoch 199/200\n",
      "6/6 [==============================] - 2s 307ms/step - loss: 0.8054 - categorical_accuracy: 0.7169\n",
      "Epoch 200/200\n",
      "6/6 [==============================] - 2s 257ms/step - loss: 0.8259 - categorical_accuracy: 0.6807\n"
     ]
    },
    {
     "data": {
      "text/plain": [
       "<keras.src.callbacks.History at 0x144210d50>"
      ]
     },
     "execution_count": 44,
     "metadata": {},
     "output_type": "execute_result"
    }
   ],
   "source": [
    "model.fit(X_train, y_train, epochs=200, callbacks=[tb_callback])"
   ]
  },
  {
   "cell_type": "code",
   "execution_count": 48,
   "metadata": {},
   "outputs": [
    {
     "name": "stdout",
     "output_type": "stream",
     "text": [
      "Model: \"sequential_1\"\n",
      "_________________________________________________________________\n",
      " Layer (type)                Output Shape              Param #   \n",
      "=================================================================\n",
      " lstm_1 (LSTM)               (None, 30, 128)           916992    \n",
      "                                                                 \n",
      " dropout (Dropout)           (None, 30, 128)           0         \n",
      "                                                                 \n",
      " lstm_2 (LSTM)               (None, 30, 256)           394240    \n",
      "                                                                 \n",
      " dropout_1 (Dropout)         (None, 30, 256)           0         \n",
      "                                                                 \n",
      " lstm_3 (LSTM)               (None, 64)                82176     \n",
      "                                                                 \n",
      " dense (Dense)               (None, 128)               8320      \n",
      "                                                                 \n",
      " dropout_2 (Dropout)         (None, 128)               0         \n",
      "                                                                 \n",
      " dense_1 (Dense)             (None, 64)                8256      \n",
      "                                                                 \n",
      " dense_2 (Dense)             (None, 25)                1625      \n",
      "                                                                 \n",
      "=================================================================\n",
      "Total params: 1411609 (5.38 MB)\n",
      "Trainable params: 1411609 (5.38 MB)\n",
      "Non-trainable params: 0 (0.00 Byte)\n",
      "_________________________________________________________________\n"
     ]
    }
   ],
   "source": [
    "model.summary()"
   ]
  },
  {
   "cell_type": "markdown",
   "metadata": {},
   "source": [
    "# 8. Make Predictions"
   ]
  },
  {
   "cell_type": "code",
   "execution_count": 61,
   "metadata": {},
   "outputs": [
    {
     "name": "stdout",
     "output_type": "stream",
     "text": [
      "1/1 [==============================] - 0s 56ms/step\n"
     ]
    }
   ],
   "source": [
    "res = model.predict(X_test)"
   ]
  },
  {
   "cell_type": "code",
   "execution_count": 62,
   "metadata": {},
   "outputs": [
    {
     "data": {
      "text/plain": [
       "'follows'"
      ]
     },
     "execution_count": 62,
     "metadata": {},
     "output_type": "execute_result"
    }
   ],
   "source": [
    "actions[np.argmax(res[4])]"
   ]
  },
  {
   "cell_type": "code",
   "execution_count": 63,
   "metadata": {},
   "outputs": [
    {
     "data": {
      "text/plain": [
       "'follows'"
      ]
     },
     "execution_count": 63,
     "metadata": {},
     "output_type": "execute_result"
    }
   ],
   "source": [
    "actions[np.argmax(y_test[4])]"
   ]
  },
  {
   "cell_type": "markdown",
   "metadata": {},
   "source": [
    "# 9. Save Weights"
   ]
  },
  {
   "cell_type": "code",
   "execution_count": 64,
   "metadata": {},
   "outputs": [
    {
     "name": "stderr",
     "output_type": "stream",
     "text": [
      "/Library/Frameworks/Python.framework/Versions/3.11/lib/python3.11/site-packages/keras/src/engine/training.py:3103: UserWarning: You are saving your model as an HDF5 file via `model.save()`. This file format is considered legacy. We recommend using instead the native Keras format, e.g. `model.save('my_model.keras')`.\n",
      "  saving_api.save_model(\n"
     ]
    }
   ],
   "source": [
    "model.save('ugsign.h5')"
   ]
  },
  {
   "cell_type": "code",
   "execution_count": 217,
   "metadata": {},
   "outputs": [],
   "source": [
    "del model"
   ]
  },
  {
   "cell_type": "code",
   "execution_count": 15,
   "metadata": {},
   "outputs": [],
   "source": [
    "model.load_weights('action.h5')"
   ]
  },
  {
   "cell_type": "markdown",
   "metadata": {},
   "source": [
    "# 10. Evaluation using Confusion Matrix and Accuracy"
   ]
  },
  {
   "cell_type": "code",
   "execution_count": 16,
   "metadata": {},
   "outputs": [],
   "source": [
    "from sklearn.metrics import multilabel_confusion_matrix, accuracy_score"
   ]
  },
  {
   "cell_type": "code",
   "execution_count": 90,
   "metadata": {},
   "outputs": [],
   "source": [
    "yhat = model.predict(X_test)"
   ]
  },
  {
   "cell_type": "code",
   "execution_count": 91,
   "metadata": {},
   "outputs": [],
   "source": [
    "ytrue = np.argmax(y_test, axis=1).tolist()\n",
    "yhat = np.argmax(yhat, axis=1).tolist()"
   ]
  },
  {
   "cell_type": "code",
   "execution_count": 92,
   "metadata": {},
   "outputs": [
    {
     "data": {
      "text/plain": [
       "array([[[2, 0],\n",
       "        [0, 3]],\n",
       "\n",
       "       [[4, 0],\n",
       "        [0, 1]],\n",
       "\n",
       "       [[4, 0],\n",
       "        [0, 1]]], dtype=int64)"
      ]
     },
     "execution_count": 92,
     "metadata": {},
     "output_type": "execute_result"
    }
   ],
   "source": [
    "multilabel_confusion_matrix(ytrue, yhat)"
   ]
  },
  {
   "cell_type": "code",
   "execution_count": 93,
   "metadata": {},
   "outputs": [
    {
     "data": {
      "text/plain": [
       "1.0"
      ]
     },
     "execution_count": 93,
     "metadata": {},
     "output_type": "execute_result"
    }
   ],
   "source": [
    "accuracy_score(ytrue, yhat)"
   ]
  },
  {
   "cell_type": "markdown",
   "metadata": {},
   "source": [
    "# 11. Test in Real Time"
   ]
  },
  {
   "cell_type": "code",
   "execution_count": null,
   "metadata": {},
   "outputs": [],
   "source": [
    "# 1. New detection variables\n",
    "sequence = []\n",
    "sentence = []\n",
    "threshold = 0.4\n",
    "\n",
    "cap = cv2.VideoCapture(0)\n",
    "# Set mediapipe model \n",
    "with mp_holistic.Holistic(min_detection_confidence=0.5, min_tracking_confidence=0.5) as holistic:\n",
    "    while cap.isOpened():\n",
    "\n",
    "        # Read feed\n",
    "        ret, frame = cap.read()\n",
    "\n",
    "        # Make detections\n",
    "        image, results = mediapipe_detection(frame, holistic)\n",
    "        print(results)\n",
    "        \n",
    "        # Draw landmarks\n",
    "        draw_styled_landmarks(image, results)\n",
    "        \n",
    "        # 2. Prediction logic\n",
    "        keypoints = extract_keypoints(results)\n",
    "        sequence.insert(0,keypoints)\n",
    "        sequence = sequence[-30:]\n",
    "        \n",
    "        if len(sequence) == 30:\n",
    "            res = model.predict(np.expand_dims(sequence, axis=0))[0]\n",
    "            print(actions[np.argmax(res)])\n",
    "            \n",
    "            \n",
    "        #3. Viz logic\n",
    "        if res[np.argmax(res)] > threshold: \n",
    "            if len(sentence) > 0: \n",
    "                if actions[np.argmax(res)] != sentence[-1]:\n",
    "                    sentence.append(actions[np.argmax(res)])\n",
    "            else:\n",
    "                sentence.append(actions[np.argmax(res)])\n",
    "\n",
    "        if len(sentence) > 5: \n",
    "            sentence = sentence[-5:]\n",
    "        \n",
    "        cv2.rectangle(image, (0,0), (640, 40), (245, 117, 16), -1)\n",
    "        cv2.putText(image, ' '.join(sentence), (3,30), \n",
    "                       cv2.FONT_HERSHEY_SIMPLEX, 1, (255, 255, 255), 2, cv2.LINE_AA)\n",
    "        \n",
    "        # Show to screen\n",
    "        cv2.imshow('OpenCV Feed', image)\n",
    "\n",
    "        # Break gracefully\n",
    "        if cv2.waitKey(10) & 0xFF == ord('q'):\n",
    "            break\n",
    "    cap.release()\n",
    "    cv2.destroyAllWindows()"
   ]
  },
  {
   "cell_type": "code",
   "execution_count": 20,
   "metadata": {},
   "outputs": [],
   "source": [
    "cap.release()\n",
    "cv2.destroyAllWindows()"
   ]
  }
 ],
 "metadata": {
  "kernelspec": {
   "display_name": "Python 3",
   "language": "python",
   "name": "python3"
  },
  "language_info": {
   "codemirror_mode": {
    "name": "ipython",
    "version": 3
   },
   "file_extension": ".py",
   "mimetype": "text/x-python",
   "name": "python",
   "nbconvert_exporter": "python",
   "pygments_lexer": "ipython3",
   "version": "3.11.4"
  }
 },
 "nbformat": 4,
 "nbformat_minor": 2
}
